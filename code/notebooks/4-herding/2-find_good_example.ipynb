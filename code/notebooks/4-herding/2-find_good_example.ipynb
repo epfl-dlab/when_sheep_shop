{
 "cells": [
  {
   "cell_type": "code",
   "execution_count": 1,
   "metadata": {
    "collapsed": true
   },
   "outputs": [],
   "source": [
    "import os\n",
    "os.chdir('../..')"
   ]
  },
  {
   "cell_type": "code",
   "execution_count": 2,
   "metadata": {},
   "outputs": [],
   "source": [
    "from classes.helpers import *\n",
    "import numpy as np\n",
    "import json\n",
    "import pandas as pd\n",
    "from datetime import datetime\n",
    "\n",
    "import ast\n",
    "\n",
    "import matplotlib.pyplot as plt\n",
    "from matplotlib.ticker import FuncFormatter\n",
    "import matplotlib\n",
    "#matplotlib.rcParams['text.usetex'] = True\n",
    "#matplotlib.rcParams['text.latex.unicode'] = True\n",
    "\n",
    "data_folder = '../data/'\n",
    "\n",
    "# For the Python notebook\n",
    "%matplotlib inline\n",
    "%reload_ext autoreload\n",
    "%autoreload 2\n",
    "\n",
    "min_nbr_rats = 5\n",
    "\n",
    "colors = {'ba': (232/255,164/255,29/255), 'rb': (0/255,152/255,205/255)}\n",
    "labels = {'ba': 'BeerAdvocate', 'rb': 'RateBeer'}\n",
    "\n",
    "notext = {'ba': 'nan', 'rb': ''}\n",
    "\n",
    "data_folder = '../data/'\n",
    "save_folder = '../figures/all/4-herding/'\n",
    "\n",
    "from matplotlib2tikz import save as tikz_save\n",
    "\n",
    "def to_inch(x):\n",
    "    return x*0.393701"
   ]
  },
  {
   "cell_type": "code",
   "execution_count": 3,
   "metadata": {
    "collapsed": true
   },
   "outputs": [],
   "source": [
    "df = pd.read_csv(data_folder + 'tmp/time_series_{}.csv'.format(min_nbr_rats), header=[0,1])\n",
    "\n",
    "# Transform strings into arrays\n",
    "for i in df.index:\n",
    "    for key1 in ['ba', 'rb']:\n",
    "        for key2 in ['dates', 'ratings', 'z_scores']:\n",
    "            arr = ast.literal_eval(df.loc[i][key1][key2])\n",
    "            df.set_value(i, (key1, key2), arr)"
   ]
  },
  {
   "cell_type": "code",
   "execution_count": 4,
   "metadata": {
    "collapsed": true
   },
   "outputs": [],
   "source": [
    "with open(data_folder + 'tmp/global_averages.json') as file:\n",
    "    global_avg = json.load(file)\n",
    "\n",
    "diffs = {'ba': [], 'rb': []}\n",
    "for i in df.index:\n",
    "    row = df.loc[i]\n",
    "    for key in ['rb', 'ba']:\n",
    "        diffs[key].append(row[key]['z_scores'][0] - global_avg[key]['z_score'])\n",
    "        \n",
    "thresholds = {}\n",
    "\n",
    "for key in ['ba', 'rb']:\n",
    "    thresholds[key] = {}\n",
    "    thresholds[key]['low'] = np.percentile(diffs[key], 15)\n",
    "    thresholds[key]['high'] = np.percentile(diffs[key], 85)"
   ]
  },
  {
   "cell_type": "code",
   "execution_count": 5,
   "metadata": {
    "collapsed": true
   },
   "outputs": [],
   "source": [
    "for key in ['ba', 'rb']:\n",
    "    tmp = []\n",
    "    nbr_rats = []\n",
    "    \n",
    "    for i in df.index:      \n",
    "        if diffs[key][i] > thresholds[key]['high']:\n",
    "            tmp.append('H')\n",
    "        elif diffs[key][i] >= thresholds[key]['low']:\n",
    "            tmp.append('M')\n",
    "        else:\n",
    "            tmp.append('L')\n",
    "            \n",
    "        nbr_rats.append(len(df.loc[i][key]['ratings']))\n",
    "\n",
    "    df.loc[:, (key, 'class')] = tmp\n",
    "    df.loc[:, (key, 'nbr_ratings')] = nbr_rats"
   ]
  },
  {
   "cell_type": "code",
   "execution_count": 6,
   "metadata": {
    "collapsed": true
   },
   "outputs": [],
   "source": [
    "subdf = df[((df['ba']['class'] == 'H') & (df['rb']['class'] == 'L')) | \n",
    "           ((df['ba']['class'] == 'L') & (df['rb']['class'] == 'H'))]\n",
    "subdf.index = range(len(subdf))"
   ]
  },
  {
   "cell_type": "code",
   "execution_count": 7,
   "metadata": {
    "collapsed": true,
    "scrolled": true
   },
   "outputs": [],
   "source": [
    "diff = []\n",
    "for i in subdf.index:\n",
    "    row = subdf.loc[i]\n",
    "    diff.append(np.abs(row['ba']['avg_z_scores']-row['rb']['avg_z_scores']))\n",
    "    "
   ]
  },
  {
   "cell_type": "code",
   "execution_count": 8,
   "metadata": {
    "collapsed": true
   },
   "outputs": [],
   "source": [
    "idx = np.argsort(diff)[::-1]"
   ]
  },
  {
   "cell_type": "code",
   "execution_count": 9,
   "metadata": {},
   "outputs": [],
   "source": [
    "pos = 22\n",
    "row = subdf.loc[idx[pos]]    "
   ]
  },
  {
   "cell_type": "code",
   "execution_count": 47,
   "metadata": {},
   "outputs": [
    {
     "data": {
      "image/png": "[encoded data removed]",
      "text/plain": [
       "<matplotlib.figure.Figure at 0x7f35dddfe2e8>"
      ]
     },
     "metadata": {},
     "output_type": "display_data"
    }
   ],
   "source": [
    "plt.figure(figsize=(5, 3.5), frameon=False)\n",
    "\n",
    "plt.style.use(['seaborn-white', 'seaborn-paper'])\n",
    "sns.set(font_scale = 2)\n",
    "sns.set_context(\"paper\")\n",
    "sns.set_style(\"white\", {\n",
    "    \"font.family\": \"sans-serif\",\n",
    "    \"font.serif\": ['Helvetica']\n",
    "})\n",
    "\n",
    "ax = plt.subplot(111)\n",
    "ax.spines['right'].set_visible(False)\n",
    "ax.spines['top'].set_visible(False)\n",
    "\n",
    "for key in ['ba', 'rb']:\n",
    "\n",
    "    rats = row[key]['z_scores']\n",
    "\n",
    "    rmean = np.cumsum(rats)/np.array(range(1, len(rats)+1))\n",
    "\n",
    "    ax.plot(list(range(1, len(rmean)+1)), rmean, color=colors[key], label=labels[key], linewidth=2)\n",
    "\n",
    "plt.ylabel('Cumulative average \\nrating (standardized)')\n",
    "plt.xlabel('Rating index')\n",
    "\n",
    "leg = plt.legend()\n",
    "leg.get_frame().set_linewidth(0.0)\n",
    "plt.tight_layout()\n",
    "\n",
    "plt.savefig(save_folder + 'timeseries_avg_zscore_example.pdf', bbox_inches='tight')"
   ]
  },
  {
   "cell_type": "code",
   "execution_count": null,
   "metadata": {},
   "outputs": [
    {
     "name": "stdout",
     "output_type": "stream",
     "text": [
      "22\n"
     ]
    }
   ],
   "source": [
    "row = subdf.loc[idx[pos]]    \n",
    "print(pos)\n",
    "\n",
    "plt.figure(figsize=(12,7))\n",
    "plt.rc('font', family='serif')\n",
    "plt.rc('font', size=17)\n",
    "\n",
    "for key in ['ba', 'rb']:\n",
    "\n",
    "    rats = row[key]['z_scores']\n",
    "\n",
    "    rmean = np.cumsum(rats)/np.array(range(1, len(rats)+1))\n",
    "\n",
    "    plt.plot(list(range(1, len(rmean)+1)), rats, color=colors[key], label=labels[key])\n",
    "\n",
    "plt.ylabel('Standardized rating')\n",
    "plt.xlabel('Index of the rating')\n",
    "plt.legend()\n",
    "plt.grid()\n",
    "plt.savefig(save_folder + 'timeseries_zscore_example.pdf', bbox_inches='tight')"
   ]
  },
  {
   "cell_type": "code",
   "execution_count": null,
   "metadata": {
    "collapsed": true
   },
   "outputs": [],
   "source": []
  }
 ],
 "metadata": {
  "kernelspec": {
   "display_name": "Python 3",
   "language": "python",
   "name": "python3"
  },
  "language_info": {
   "codemirror_mode": {
    "name": "ipython",
    "version": 3
   },
   "file_extension": ".py",
   "mimetype": "text/x-python",
   "name": "python",
   "nbconvert_exporter": "python",
   "pygments_lexer": "ipython3",
   "version": "3.6.1"
  }
 },
 "nbformat": 4,
 "nbformat_minor": 2
}
