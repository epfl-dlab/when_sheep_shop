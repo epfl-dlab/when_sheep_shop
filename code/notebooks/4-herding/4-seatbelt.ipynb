{
 "cells": [
  {
   "cell_type": "code",
   "execution_count": 1,
   "metadata": {
    "collapsed": true
   },
   "outputs": [],
   "source": [
    "import os\n",
    "os.chdir('../..')\n"
   ]
  },
  {
   "cell_type": "code",
   "execution_count": 2,
   "metadata": {
    "collapsed": true
   },
   "outputs": [],
   "source": [
    "from classes.helpers import *\n",
    "import numpy as np\n",
    "import json\n",
    "import pandas as pd\n",
    "import scipy.stats as ss\n",
    "from sklearn import linear_model\n",
    "import ast\n",
    "import scipy.stats as ss\n",
    "\n",
    "# For the Python notebook\n",
    "%matplotlib inline\n",
    "%reload_ext autoreload\n",
    "%autoreload 2\n",
    "\n",
    "data_folder = '../data/'\n",
    "min_nbr_rats = 5"
   ]
  },
  {
   "cell_type": "markdown",
   "metadata": {},
   "source": [
    "# Load the DF with the ranks"
   ]
  },
  {
   "cell_type": "code",
   "execution_count": 3,
   "metadata": {
    "collapsed": true
   },
   "outputs": [],
   "source": [
    "df = pd.read_csv(data_folder + 'tmp/time_series_{}_ranks.csv'.format(min_nbr_rats), header=[0,1])\n",
    "\n",
    "# Transform strings into arrays\n",
    "for i in df.index:\n",
    "    for key1 in ['ba', 'rb']:\n",
    "        for key2 in ['dates', 'ratings', 'z_scores', 'ranks']:\n",
    "            arr = ast.literal_eval(df.loc[i][key1][key2])\n",
    "            df.set_value(i, (key1, key2), arr)\n",
    "            \n",
    "diffs = {'ba': [], 'rb': []}\n",
    "\n",
    "for key in diffs.keys():\n",
    "    for i in df.index:\n",
    "        row = df.iloc[i]\n",
    "        diffs[key].append(row[key]['z_scores'][0])\n",
    "\n",
    "thresholds = {}\n",
    "\n",
    "for key in ['ba', 'rb']:\n",
    "    thresholds[key] = {}\n",
    "    thresholds[key]['low'] = np.percentile(diffs[key], 15)\n",
    "    thresholds[key]['high'] = np.percentile(diffs[key], 85)"
   ]
  },
  {
   "cell_type": "code",
   "execution_count": 7,
   "metadata": {},
   "outputs": [
    {
     "name": "stdout",
     "output_type": "stream",
     "text": [
      "H-L:\n",
      "  BA:\n",
      "    H: 0.545 [0.491, 0.599]\n",
      "    L: 0.450 [0.379, 0.523]\n",
      "  RB:\n",
      "    L: 0.489 [0.419, 0.554]\n",
      "    H: 0.522 [0.450, 0.596]\n",
      "\n",
      "H-M:\n",
      "  BA:\n",
      "    H: 0.643 [0.624, 0.662]\n",
      "    M: 0.578 [0.559, 0.596]\n",
      "  RB:\n",
      "    M: 0.595 [0.575, 0.614]\n",
      "    H: 0.627 [0.608, 0.646]\n",
      "\n",
      "M-L:\n",
      "  BA:\n",
      "    M: 0.396 [0.376, 0.416]\n",
      "    L: 0.368 [0.348, 0.391]\n",
      "  RB:\n",
      "    L: 0.350 [0.330, 0.370]\n",
      "    M: 0.400 [0.380, 0.419]\n",
      "\n"
     ]
    }
   ],
   "source": [
    "min_nbr_rats = 10\n",
    "\n",
    "for to_study in ['H-L', 'H-M', 'M-L']:\n",
    "\n",
    "    nbr_draws = 1000\n",
    "\n",
    "    nbrs = {'ba': {}, 'rb': {}}\n",
    "\n",
    "    for cl in [to_study, to_study[::-1]]:\n",
    "\n",
    "        cls = {'ba': cl[0], 'rb': cl[-1]}\n",
    "\n",
    "        subdf = df[((df['ba']['class'] == cl[0]) & (df['rb']['class'] == cl[-1])) & \n",
    "                   (df['ba']['nbr_ratings'] >= min_nbr_rats) & (df['rb']['nbr_ratings'] >= min_nbr_rats)] \n",
    "\n",
    "        for key in ['ba', 'rb']:\n",
    "\n",
    "            nbrs[key][cls[key]] = {}\n",
    "\n",
    "            ranks = np.array([r[min_nbr_rats-1] for r in subdf[key]['ranks']])\n",
    "\n",
    "            nbrs[key][cls[key]]['avg'] = np.mean(ranks)\n",
    "\n",
    "            tmp = []\n",
    "            # Go through each draw\n",
    "            for d in range(nbr_draws):\n",
    "\n",
    "                # Get the indices\n",
    "                idx = np.random.randint(0, len(subdf[key]), len(subdf[key]))\n",
    "\n",
    "                ranks_tmp = ranks[idx]\n",
    "\n",
    "                tmp.append(np.mean(ranks_tmp))\n",
    "            nbrs[key][cls[key]]['low'] = np.percentile(tmp, 2.5)\n",
    "            nbrs[key][cls[key]]['high'] = np.percentile(tmp, 97.5)\n",
    "        \n",
    "\n",
    "    print('{}:'.format(to_study))\n",
    "    for key in nbrs:\n",
    "        print('  {}:'.format(key.upper()))\n",
    "        for key2 in nbrs[key]:\n",
    "            print('    {}: {:.3f} [{:.3f}, {:.3f}]'.format(key2, nbrs[key][key2]['avg'], nbrs[key][key2]['low'], nbrs[key][key2]['high']))\n",
    "    print()"
   ]
  },
  {
   "cell_type": "code",
   "execution_count": 6,
   "metadata": {},
   "outputs": [
    {
     "name": "stdout",
     "output_type": "stream",
     "text": [
      "H-L:\n",
      "  BA:\n",
      "    H: 0.556 [0.508, 0.602]\n",
      "    L: 0.434 [0.384, 0.483]\n",
      "  RB:\n",
      "    L: 0.436 [0.387, 0.484]\n",
      "    H: 0.553 [0.498, 0.602]\n",
      "\n",
      "H-M:\n",
      "  BA:\n",
      "    H: 0.655 [0.641, 0.670]\n",
      "    M: 0.591 [0.575, 0.607]\n",
      "  RB:\n",
      "    M: 0.609 [0.594, 0.622]\n",
      "    H: 0.651 [0.636, 0.666]\n",
      "\n",
      "M-L:\n",
      "  BA:\n",
      "    M: 0.406 [0.391, 0.422]\n",
      "    L: 0.366 [0.351, 0.381]\n",
      "  RB:\n",
      "    L: 0.346 [0.331, 0.361]\n",
      "    M: 0.398 [0.385, 0.412]\n",
      "\n"
     ]
    }
   ],
   "source": [
    "min_nbr_rats = 5\n",
    "\n",
    "for to_study in ['H-L', 'H-M', 'M-L']:\n",
    "\n",
    "    nbr_draws = 1000\n",
    "\n",
    "    nbrs = {'ba': {}, 'rb': {}}\n",
    "\n",
    "    for cl in [to_study, to_study[::-1]]:\n",
    "\n",
    "        cls = {'ba': cl[0], 'rb': cl[-1]}\n",
    "\n",
    "        subdf = df[((df['ba']['class'] == cl[0]) & (df['rb']['class'] == cl[-1])) & \n",
    "                   (df['ba']['nbr_ratings'] >= min_nbr_rats) & (df['rb']['nbr_ratings'] >= min_nbr_rats)] \n",
    "\n",
    "        for key in ['ba', 'rb']:\n",
    "\n",
    "            nbrs[key][cls[key]] = {}\n",
    "\n",
    "            ranks = np.array([r[min_nbr_rats-1] for r in subdf[key]['ranks']])\n",
    "\n",
    "            nbrs[key][cls[key]]['avg'] = np.mean(ranks)\n",
    "\n",
    "            tmp = []\n",
    "            # Go through each draw\n",
    "            for d in range(nbr_draws):\n",
    "\n",
    "                # Get the indices\n",
    "                idx = np.random.randint(0, len(subdf[key]), len(subdf[key]))\n",
    "\n",
    "                ranks_tmp = ranks[idx]\n",
    "\n",
    "                tmp.append(np.mean(ranks_tmp))\n",
    "            nbrs[key][cls[key]]['low'] = np.percentile(tmp, 2.5)\n",
    "            nbrs[key][cls[key]]['high'] = np.percentile(tmp, 97.5)\n",
    "        \n",
    "\n",
    "    print('{}:'.format(to_study))\n",
    "    for key in nbrs:\n",
    "        print('  {}:'.format(key.upper()))\n",
    "        for key2 in nbrs[key]:\n",
    "            print('    {}: {:.3f} [{:.3f}, {:.3f}]'.format(key2, nbrs[key][key2]['avg'], nbrs[key][key2]['low'], nbrs[key][key2]['high']))\n",
    "    print()"
   ]
  },
  {
   "cell_type": "code",
   "execution_count": null,
   "metadata": {
    "collapsed": true
   },
   "outputs": [],
   "source": []
  }
 ],
 "metadata": {
  "kernelspec": {
   "display_name": "Python 3",
   "language": "python",
   "name": "python3"
  },
  "language_info": {
   "codemirror_mode": {
    "name": "ipython",
    "version": 3
   },
   "file_extension": ".py",
   "mimetype": "text/x-python",
   "name": "python",
   "nbconvert_exporter": "python",
   "pygments_lexer": "ipython3",
   "version": "3.6.1"
  }
 },
 "nbformat": 4,
 "nbformat_minor": 2
}
