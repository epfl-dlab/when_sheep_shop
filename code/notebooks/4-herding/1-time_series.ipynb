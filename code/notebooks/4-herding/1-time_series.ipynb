{
 "cells": [
  {
   "cell_type": "markdown",
   "metadata": {},
   "source": [
    "# Time Series\n",
    "\n",
    "We create the time series for the matched beers in this notebook\n"
   ]
  },
  {
   "cell_type": "code",
   "execution_count": 1,
   "metadata": {
    "collapsed": true
   },
   "outputs": [],
   "source": [
    "import os\n",
    "os.chdir('../..')"
   ]
  },
  {
   "cell_type": "code",
   "execution_count": 22,
   "metadata": {
    "collapsed": true
   },
   "outputs": [],
   "source": [
    "from classes.helpers import *\n",
    "import numpy as np\n",
    "import json\n",
    "import pandas as pd\n",
    "from datetime import datetime\n",
    "import scipy.stats as ss\n",
    "\n",
    "data_folder = '../data/'\n",
    "\n",
    "# For the Python notebook\n",
    "%matplotlib inline\n",
    "%reload_ext autoreload\n",
    "%autoreload 2\n",
    "\n",
    "nbr_rats = 5"
   ]
  },
  {
   "cell_type": "code",
   "execution_count": 12,
   "metadata": {
    "collapsed": true
   },
   "outputs": [],
   "source": [
    "beers = pd.read_csv(data_folder + 'matched/beers.csv', header=[0,1])"
   ]
  },
  {
   "cell_type": "code",
   "execution_count": 13,
   "metadata": {
    "collapsed": true
   },
   "outputs": [],
   "source": [
    "beers = beers[(beers['ba']['nbr_ratings'] >= nbr_rats) & (beers['rb']['nbr_ratings'] >= nbr_rats)]\n",
    "beers.index = range(len(beers))"
   ]
  },
  {
   "cell_type": "code",
   "execution_count": 14,
   "metadata": {},
   "outputs": [
    {
     "name": "stdout",
     "output_type": "stream",
     "text": [
      "Parse BA ratings\n",
      "Parse RB ratings\n"
     ]
    }
   ],
   "source": [
    "ratings = {'ba': {}, 'rb': {}}\n",
    "\n",
    "for key in ratings.keys():\n",
    "    print('Parse {} ratings'.format(key.upper()))\n",
    "    gen = parse(data_folder + 'matched/ratings_{}.txt.gz'.format(key))\n",
    "    \n",
    "    for item in gen:\n",
    "        beer_id = item['beer_id']\n",
    "        rating = item['rating']\n",
    "        date = item['date']\n",
    "        \n",
    "        if beer_id not in ratings[key].keys():\n",
    "            ratings[key][beer_id] = {'date': [], 'rating': []}\n",
    "            \n",
    "        ratings[key][beer_id]['date'].append(int(date))\n",
    "        ratings[key][beer_id]['rating'].append(float(rating))"
   ]
  },
  {
   "cell_type": "code",
   "execution_count": 15,
   "metadata": {
    "collapsed": true
   },
   "outputs": [],
   "source": [
    "def flatten(l):\n",
    "    \"\"\"\n",
    "    Flatten a list of lists\n",
    "    :param l: List of lists\n",
    "    :return: flattened list\n",
    "    \"\"\"\n",
    "    try:\n",
    "        return [item for sublist in l for item in sublist]\n",
    "    except TypeError:\n",
    "        return l"
   ]
  },
  {
   "cell_type": "code",
   "execution_count": 16,
   "metadata": {
    "collapsed": true
   },
   "outputs": [],
   "source": [
    "global_average = {'ba': {'rating': 0, 'z_score': 0, 'std': 0},\n",
    "                  'rb': {'rating': 0, 'z_score': 0, 'std': 0}}\n",
    "\n",
    "with open(data_folder + 'tmp/z_score_params_matched_ratings.json') as file:\n",
    "    z = json.load(file)\n",
    "\n",
    "for key in ratings.keys():\n",
    "    all_ratings = []\n",
    "    all_z_score = []\n",
    "    nbr = 0\n",
    "    for usr in ratings[key].keys():\n",
    "        rats = ratings[key][usr]['rating']\n",
    "        dates = ratings[key][usr]['date']\n",
    "        \n",
    "        years = [str(datetime.fromtimestamp(d).year) for d in dates]\n",
    "        z_scores = [(r-z[key][y]['mean'])/z[key][y]['std'] for r,y in zip(rats, years)]\n",
    "        \n",
    "        all_ratings.append(rats)\n",
    "        all_z_score.append(z_scores)\n",
    "        \n",
    "    all_ratings = flatten(all_ratings)\n",
    "    all_z_score = flatten(all_z_score)\n",
    "    \n",
    "    global_average[key]['std'] = np.std(all_ratings)\n",
    "    global_average[key]['rating'] = np.mean(all_ratings)\n",
    "    global_average[key]['z_score'] = np.mean(all_z_score)\n",
    "    \n",
    "with open(data_folder + 'tmp/global_averages.json', 'w') as file:\n",
    "    json.dump(global_average, file)"
   ]
  },
  {
   "cell_type": "code",
   "execution_count": 17,
   "metadata": {
    "collapsed": true
   },
   "outputs": [],
   "source": [
    "df_json = {'ba': {'beer_id': [], 'dates': [], 'ratings': [], 'z_scores': [], 'avg_ratings': [], 'avg_z_scores': []},\n",
    "           'rb': {'beer_id': [], 'dates': [], 'ratings': [], 'z_scores': [], 'avg_ratings': [], 'avg_z_scores': []}}\n",
    "\n",
    "for i in beers.index:\n",
    "    row = beers.iloc[i]\n",
    "    \n",
    "    for key in ['ba', 'rb']:\n",
    "        df_json[key]['beer_id'].append(row[key]['beer_id'])\n",
    "        \n",
    "        ratings_user = ratings[key][str(row[key]['beer_id'])]\n",
    "        \n",
    "        dates = ratings_user['date'][::-1]\n",
    "        rats = ratings_user['rating'][::-1]\n",
    "        \n",
    "        years = [str(datetime.fromtimestamp(d).year) for d in dates]\n",
    "        z_scores = [(r-z[key][y]['mean'])/z[key][y]['std'] for r,y in zip(rats, years)]\n",
    "        \n",
    "        dates = np.array(dates)\n",
    "        rats = np.array(rats)\n",
    "        z_scores = np.array(z_scores)\n",
    "        \n",
    "        idx = np.argsort(dates)\n",
    "        dates = dates[idx]\n",
    "        rats = rats[idx]\n",
    "        z_scores = z_scores[idx]\n",
    "        \n",
    "        df_json[key]['dates'].append(list(dates))\n",
    "        df_json[key]['ratings'].append(list(rats))\n",
    "        df_json[key]['z_scores'].append(list(z_scores))\n",
    "        df_json[key]['avg_ratings'].append(np.mean(rats))\n",
    "        df_json[key]['avg_z_scores'].append(np.mean(z_scores))"
   ]
  },
  {
   "cell_type": "code",
   "execution_count": 18,
   "metadata": {
    "collapsed": true
   },
   "outputs": [],
   "source": [
    "df = pd.DataFrame.from_dict({(i, j): df_json[i][j] \n",
    "                             for i in df_json.keys() \n",
    "                             for j in df_json[i].keys()})"
   ]
  },
  {
   "cell_type": "code",
   "execution_count": 19,
   "metadata": {
    "collapsed": true
   },
   "outputs": [],
   "source": [
    "df.to_csv(data_folder + 'tmp/time_series_{}.csv'.format(nbr_rats), index=False)"
   ]
  },
  {
   "cell_type": "markdown",
   "metadata": {
    "collapsed": true
   },
   "source": [
    "## Add ranks"
   ]
  },
  {
   "cell_type": "code",
   "execution_count": 20,
   "metadata": {
    "collapsed": true
   },
   "outputs": [],
   "source": [
    "with open(data_folder + 'tmp/global_averages.json') as file:\n",
    "    global_avg = json.load(file)\n",
    "\n",
    "diffs = {'ba': [], 'rb': []}\n",
    "for i in df.index:\n",
    "    row = df.loc[i]\n",
    "    for key in ['rb', 'ba']:\n",
    "        diffs[key].append(row[key]['z_scores'][0] - global_avg[key]['z_score'])\n",
    "        \n",
    "thresholds = {}\n",
    "\n",
    "for key in ['ba', 'rb']:\n",
    "    thresholds[key] = {}\n",
    "    thresholds[key]['low'] = np.percentile(diffs[key], 15)\n",
    "    thresholds[key]['high'] = np.percentile(diffs[key], 85)"
   ]
  },
  {
   "cell_type": "code",
   "execution_count": 23,
   "metadata": {},
   "outputs": [],
   "source": [
    "for key in ['ba', 'rb']:\n",
    "    tmp = []\n",
    "    nbr_rats = []\n",
    "    \n",
    "    for i in df.index:      \n",
    "        if diffs[key][i] > thresholds[key]['high']:\n",
    "            tmp.append('H')\n",
    "        elif diffs[key][i] >= thresholds[key]['low']:\n",
    "            tmp.append('M')\n",
    "        else:\n",
    "            tmp.append('L')\n",
    "            \n",
    "        nbr_rats.append(len(df.loc[i][key]['ratings']))\n",
    "\n",
    "    df.loc[:, ((key, 'class'))] = tmp\n",
    "    df.loc[:, ((key, 'nbr_ratings'))] = nbr_rats\n",
    "\n",
    "    rank = ss.rankdata(-df[key]['avg_z_scores'], method='min')\n",
    "    rank = 1-(rank-1)/(len(rank)-1)\n",
    "        \n",
    "    df.loc[:, ((key, 'rank_avg'))] = rank"
   ]
  },
  {
   "cell_type": "code",
   "execution_count": 25,
   "metadata": {
    "collapsed": true
   },
   "outputs": [],
   "source": [
    "ranks = {}\n",
    "for key in ['ba', 'rb']:\n",
    "    ranks[key] = []\n",
    "    for i in df.index:\n",
    "        ranks[key].append([])\n",
    "    \n",
    "    for i in range(100):\n",
    "        tmp = []\n",
    "        \n",
    "        subdf = df[(df['ba']['nbr_ratings'] >= i+1) & (df['rb']['nbr_ratings'] >= i+1)]\n",
    "        tmp = [subdf.loc[j][key]['z_scores'][i] for j in subdf.index]\n",
    "            \n",
    "        tmp = np.array(tmp)\n",
    "        rank = ss.rankdata(-tmp, method='min')\n",
    "        rank = 1-(rank-1)/(len(rank)-1)\n",
    "        \n",
    "        \n",
    "        for idx, j in enumerate(subdf.index):\n",
    "            ranks[key][j].append(rank[idx])\n",
    "            \n",
    "    df.loc[:, ((key, 'ranks'.format(i+1)))] = ranks[key]"
   ]
  },
  {
   "cell_type": "code",
   "execution_count": 26,
   "metadata": {},
   "outputs": [
    {
     "ename": "NameError",
     "evalue": "name 'min_nbr_rats' is not defined",
     "output_type": "error",
     "traceback": [
      "\u001b[0;31m---------------------------------------------------------------------------\u001b[0m",
      "\u001b[0;31mNameError\u001b[0m                                 Traceback (most recent call last)",
      "\u001b[0;32m<ipython-input-26-96e3686e49b9>\u001b[0m in \u001b[0;36m<module>\u001b[0;34m()\u001b[0m\n\u001b[0;32m----> 1\u001b[0;31m \u001b[0mdf\u001b[0m\u001b[0;34m.\u001b[0m\u001b[0mto_csv\u001b[0m\u001b[0;34m(\u001b[0m\u001b[0mdata_folder\u001b[0m \u001b[0;34m+\u001b[0m \u001b[0;34m'tmp/time_series_{}_ranks.csv'\u001b[0m\u001b[0;34m.\u001b[0m\u001b[0mformat\u001b[0m\u001b[0;34m(\u001b[0m\u001b[0mmin_nbr_rats\u001b[0m\u001b[0;34m)\u001b[0m\u001b[0;34m,\u001b[0m \u001b[0mindex\u001b[0m\u001b[0;34m=\u001b[0m\u001b[0;32mFalse\u001b[0m\u001b[0;34m)\u001b[0m\u001b[0;34m\u001b[0m\u001b[0m\n\u001b[0m",
      "\u001b[0;31mNameError\u001b[0m: name 'min_nbr_rats' is not defined"
     ]
    }
   ],
   "source": [
    "df.to_csv(data_folder + 'tmp/time_series_{}_ranks.csv'.format(min_nbr_rats), index=False)"
   ]
  },
  {
   "cell_type": "code",
   "execution_count": null,
   "metadata": {
    "collapsed": true
   },
   "outputs": [],
   "source": []
  }
 ],
 "metadata": {
  "kernelspec": {
   "display_name": "Python 3",
   "language": "python",
   "name": "python3"
  },
  "language_info": {
   "codemirror_mode": {
    "name": "ipython",
    "version": 3
   },
   "file_extension": ".py",
   "mimetype": "text/x-python",
   "name": "python",
   "nbconvert_exporter": "python",
   "pygments_lexer": "ipython3",
   "version": "3.6.1"
  }
 },
 "nbformat": 4,
 "nbformat_minor": 2
}
