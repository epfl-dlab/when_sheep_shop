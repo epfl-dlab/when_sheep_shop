{
 "cells": [
  {
   "cell_type": "markdown",
   "metadata": {},
   "source": [
    "# Time Series\n",
    "\n",
    "We create the time series for the matched beers in this notebook\n"
   ]
  },
  {
   "cell_type": "code",
   "execution_count": 1,
   "metadata": {
    "collapsed": true
   },
   "outputs": [],
   "source": [
    "import os\n",
    "os.chdir('../..')"
   ]
  },
  {
   "cell_type": "code",
   "execution_count": 2,
   "metadata": {},
   "outputs": [],
   "source": [
    "from classes.helpers import *\n",
    "import numpy as np\n",
    "import json\n",
    "import pandas as pd\n",
    "from datetime import datetime\n",
    "\n",
    "data_folder = '../data/'\n",
    "\n",
    "# For the Python notebook\n",
    "%matplotlib inline\n",
    "%reload_ext autoreload\n",
    "%autoreload 2"
   ]
  },
  {
   "cell_type": "code",
   "execution_count": 3,
   "metadata": {
    "collapsed": true
   },
   "outputs": [],
   "source": [
    "beers = pd.read_csv(data_folder + 'matched/beers.csv', header=[0,1])"
   ]
  },
  {
   "cell_type": "code",
   "execution_count": 7,
   "metadata": {},
   "outputs": [
    {
     "data": {
      "text/plain": [
       "0       -0.610941\n",
       "1        0.096509\n",
       "2       -0.458040\n",
       "3        0.322457\n",
       "4             NaN\n",
       "5       -0.032197\n",
       "6             NaN\n",
       "7             NaN\n",
       "8             NaN\n",
       "9       -0.687334\n",
       "10            NaN\n",
       "11       0.597042\n",
       "12      -1.805505\n",
       "13      -0.598942\n",
       "14       0.298776\n",
       "15       0.094446\n",
       "16            NaN\n",
       "17            NaN\n",
       "18            NaN\n",
       "19       0.718340\n",
       "20      -0.002766\n",
       "21      -4.112207\n",
       "22      -0.443307\n",
       "23      -0.692204\n",
       "24      -1.273409\n",
       "25      -1.080927\n",
       "26            NaN\n",
       "27       0.749584\n",
       "28      -1.145205\n",
       "29            NaN\n",
       "           ...   \n",
       "45610    0.609212\n",
       "45611   -0.288559\n",
       "45612    0.135397\n",
       "45613    0.037618\n",
       "45614   -1.064638\n",
       "45615   -0.066760\n",
       "45616    0.396781\n",
       "45617   -0.567807\n",
       "45618   -0.596376\n",
       "45619   -0.962824\n",
       "45620   -1.367791\n",
       "45621    0.091904\n",
       "45622   -0.889387\n",
       "45623   -0.821917\n",
       "45624    0.317701\n",
       "45625   -0.665686\n",
       "45626    0.223001\n",
       "45627   -0.194662\n",
       "45628    0.891267\n",
       "45629   -0.232541\n",
       "45630    0.173749\n",
       "45631    0.268796\n",
       "45632    0.384104\n",
       "45633   -1.244831\n",
       "45634   -1.255170\n",
       "45635   -0.978625\n",
       "45636   -0.835145\n",
       "45637   -0.438928\n",
       "45638   -0.196475\n",
       "45639   -0.344473\n",
       "Name: zscore, Length: 45640, dtype: float64"
      ]
     },
     "execution_count": 7,
     "metadata": {},
     "output_type": "execute_result"
    }
   ],
   "source": [
    "beers['ba']['zscore']"
   ]
  },
  {
   "cell_type": "code",
   "execution_count": 8,
   "metadata": {
    "collapsed": true
   },
   "outputs": [],
   "source": [
    "beers = beers[(beers['ba']['nbr_ratings'] >= 10) & (beers['rb']['nbr_ratings'] >= 10)]\n",
    "beers.index = range(len(beers))"
   ]
  },
  {
   "cell_type": "code",
   "execution_count": 9,
   "metadata": {},
   "outputs": [
    {
     "name": "stdout",
     "output_type": "stream",
     "text": [
      "Parse BA ratings\n"
     ]
    },
    {
     "ename": "KeyboardInterrupt",
     "evalue": "",
     "output_type": "error",
     "traceback": [
      "\u001b[0;31m---------------------------------------\u001b[0m",
      "\u001b[0;31mKeyboardInterrupt\u001b[0mTraceback (most recent call last)",
      "\u001b[0;32m<ipython-input-9-3af94631cb1d>\u001b[0m in \u001b[0;36m<module>\u001b[0;34m()\u001b[0m\n\u001b[1;32m      5\u001b[0m     \u001b[0mgen\u001b[0m \u001b[0;34m=\u001b[0m \u001b[0mparse\u001b[0m\u001b[0;34m(\u001b[0m\u001b[0mdata_folder\u001b[0m \u001b[0;34m+\u001b[0m \u001b[0mkey\u001b[0m \u001b[0;34m+\u001b[0m \u001b[0;34m'/ratings.txt.gz'\u001b[0m\u001b[0;34m)\u001b[0m\u001b[0;34m\u001b[0m\u001b[0m\n\u001b[1;32m      6\u001b[0m \u001b[0;34m\u001b[0m\u001b[0m\n\u001b[0;32m----> 7\u001b[0;31m     \u001b[0;32mfor\u001b[0m \u001b[0mitem\u001b[0m \u001b[0;32min\u001b[0m \u001b[0mgen\u001b[0m\u001b[0;34m:\u001b[0m\u001b[0;34m\u001b[0m\u001b[0m\n\u001b[0m\u001b[1;32m      8\u001b[0m         \u001b[0mbeer_id\u001b[0m \u001b[0;34m=\u001b[0m \u001b[0mitem\u001b[0m\u001b[0;34m[\u001b[0m\u001b[0;34m'beer_id'\u001b[0m\u001b[0;34m]\u001b[0m\u001b[0;34m\u001b[0m\u001b[0m\n\u001b[1;32m      9\u001b[0m         \u001b[0mrating\u001b[0m \u001b[0;34m=\u001b[0m \u001b[0mitem\u001b[0m\u001b[0;34m[\u001b[0m\u001b[0;34m'rating'\u001b[0m\u001b[0;34m]\u001b[0m\u001b[0;34m\u001b[0m\u001b[0m\n",
      "\u001b[0;32m/home/gayouf/Documents/EPFL/PhD/Side_Projects/beers/herding_paper/code/classes/helpers.py\u001b[0m in \u001b[0;36mparse\u001b[0;34m(filename)\u001b[0m\n\u001b[1;32m     51\u001b[0m     \u001b[0mentry\u001b[0m \u001b[0;34m=\u001b[0m \u001b[0;34m{\u001b[0m\u001b[0;34m}\u001b[0m\u001b[0;34m\u001b[0m\u001b[0m\n\u001b[1;32m     52\u001b[0m     \u001b[0;31m# Go through all the lines\u001b[0m\u001b[0;34m\u001b[0m\u001b[0;34m\u001b[0m\u001b[0m\n\u001b[0;32m---> 53\u001b[0;31m     \u001b[0;32mfor\u001b[0m \u001b[0mline\u001b[0m \u001b[0;32min\u001b[0m \u001b[0mfile\u001b[0m\u001b[0;34m:\u001b[0m\u001b[0;34m\u001b[0m\u001b[0m\n\u001b[0m\u001b[1;32m     54\u001b[0m         \u001b[0;31m# Transform the string-bytes into a string\u001b[0m\u001b[0;34m\u001b[0m\u001b[0;34m\u001b[0m\u001b[0m\n\u001b[1;32m     55\u001b[0m         \u001b[0mline\u001b[0m \u001b[0;34m=\u001b[0m \u001b[0mline\u001b[0m\u001b[0;34m.\u001b[0m\u001b[0mdecode\u001b[0m\u001b[0;34m(\u001b[0m\u001b[0;34m\"utf-8\"\u001b[0m\u001b[0;34m)\u001b[0m\u001b[0;34m.\u001b[0m\u001b[0mstrip\u001b[0m\u001b[0;34m(\u001b[0m\u001b[0;34m)\u001b[0m\u001b[0;34m\u001b[0m\u001b[0m\n",
      "\u001b[0;32m/home/gayouf/Applications/anaconda3/lib/python3.6/gzip.py\u001b[0m in \u001b[0;36mreadline\u001b[0;34m(self, size)\u001b[0m\n\u001b[1;32m    370\u001b[0m         \u001b[0;32mreturn\u001b[0m \u001b[0mself\u001b[0m\u001b[0;34m.\u001b[0m\u001b[0moffset\u001b[0m\u001b[0;34m\u001b[0m\u001b[0m\n\u001b[1;32m    371\u001b[0m \u001b[0;34m\u001b[0m\u001b[0m\n\u001b[0;32m--> 372\u001b[0;31m     \u001b[0;32mdef\u001b[0m \u001b[0mreadline\u001b[0m\u001b[0;34m(\u001b[0m\u001b[0mself\u001b[0m\u001b[0;34m,\u001b[0m \u001b[0msize\u001b[0m\u001b[0;34m=\u001b[0m\u001b[0;34m-\u001b[0m\u001b[0;36m1\u001b[0m\u001b[0;34m)\u001b[0m\u001b[0;34m:\u001b[0m\u001b[0;34m\u001b[0m\u001b[0m\n\u001b[0m\u001b[1;32m    373\u001b[0m         \u001b[0mself\u001b[0m\u001b[0;34m.\u001b[0m\u001b[0m_check_not_closed\u001b[0m\u001b[0;34m(\u001b[0m\u001b[0;34m)\u001b[0m\u001b[0;34m\u001b[0m\u001b[0m\n\u001b[1;32m    374\u001b[0m         \u001b[0;32mreturn\u001b[0m \u001b[0mself\u001b[0m\u001b[0;34m.\u001b[0m\u001b[0m_buffer\u001b[0m\u001b[0;34m.\u001b[0m\u001b[0mreadline\u001b[0m\u001b[0;34m(\u001b[0m\u001b[0msize\u001b[0m\u001b[0;34m)\u001b[0m\u001b[0;34m\u001b[0m\u001b[0m\n",
      "\u001b[0;31mKeyboardInterrupt\u001b[0m: "
     ]
    }
   ],
   "source": [
    "ratings = {'ba': {}, 'rb': {}}\n",
    "\n",
    "for key in ratings.keys():\n",
    "    print('Parse {} ratings'.format(key.upper()))\n",
    "    gen = parse(data_folder + key + '/ratings.txt.gz')\n",
    "    \n",
    "    for item in gen:\n",
    "        beer_id = item['beer_id']\n",
    "        rating = item['rating']\n",
    "        date = item['date']\n",
    "        \n",
    "        if beer_id not in ratings[key].keys():\n",
    "            ratings[key][beer_id] = {'date': [], 'rating': []}\n",
    "            \n",
    "        ratings[key][beer_id]['date'].append(int(date))\n",
    "        ratings[key][beer_id]['rating'].append(float(rating))"
   ]
  },
  {
   "cell_type": "code",
   "execution_count": 6,
   "metadata": {
    "collapsed": true
   },
   "outputs": [],
   "source": [
    "def flatten(l):\n",
    "    \"\"\"\n",
    "    Flatten a list of lists\n",
    "    :param l: List of lists\n",
    "    :return: flattened list\n",
    "    \"\"\"\n",
    "    try:\n",
    "        return [item for sublist in l for item in sublist]\n",
    "    except TypeError:\n",
    "        return l"
   ]
  },
  {
   "cell_type": "code",
   "execution_count": 8,
   "metadata": {},
   "outputs": [],
   "source": [
    "global_average = {'ba': {'rating': 0, 'z_score': 0, 'std': 0},\n",
    "                  'rb': {'rating': 0, 'z_score': 0, 'std': ''}}\n",
    "\n",
    "with open(data_folder + 'tmp/z_score_params_matched.json') as file:\n",
    "    z = json.load(file)\n",
    "\n",
    "for key in ratings.keys():\n",
    "    all_ratings = []\n",
    "    all_z_score = []\n",
    "    nbr = 0\n",
    "    for usr in ratings[key].keys():\n",
    "        rats = ratings[key][usr]['rating']\n",
    "        dates = ratings[key][usr]['date']\n",
    "        \n",
    "        years = [str(datetime.fromtimestamp(d).year) for d in dates]\n",
    "        z_scores = [(r-z[key][y]['mean'])/z[key][y]['std'] for r,y in zip(rats, years)]\n",
    "        \n",
    "        all_ratings.append(rats)\n",
    "        all_z_score.append(z_scores)\n",
    "        \n",
    "    all_ratings = flatten(all_ratings)\n",
    "    all_z_score = flatten(all_z_score)\n",
    "    \n",
    "    global_average[key]['std'] = np.std(all_ratings)\n",
    "    global_average[key]['rating'] = np.mean(all_ratings)\n",
    "    global_average[key]['z_score'] = np.mean(all_z_score)\n",
    "    \n",
    "with open(data_folder + 'tmp/global_averages.json', 'w') as file:\n",
    "    json.dump(global_average, file)"
   ]
  },
  {
   "cell_type": "code",
   "execution_count": 9,
   "metadata": {},
   "outputs": [
    {
     "name": "stderr",
     "output_type": "stream",
     "text": [
      "/home/gayouf/Applications/anaconda3/lib/python3.6/site-packages/ipykernel_launcher.py:5: DeprecationWarning: \n",
      ".ix is deprecated. Please use\n",
      ".loc for label based indexing or\n",
      ".iloc for positional indexing\n",
      "\n",
      "See the documentation here:\n",
      "http://pandas.pydata.org/pandas-docs/stable/indexing.html#deprecate_ix\n",
      "  \"\"\"\n"
     ]
    }
   ],
   "source": [
    "df_json = {'ba': {'beer_id': [], 'dates': [], 'ratings': [], 'z_scores': [], 'avg_ratings': [], 'avg_z_scores': []},\n",
    "           'rb': {'beer_id': [], 'dates': [], 'ratings': [], 'z_scores': [], 'avg_ratings': [], 'avg_z_scores': []}}\n",
    "\n",
    "for i in beers.index:\n",
    "    row = beers.iloc[i]\n",
    "    \n",
    "    for key in ['ba', 'rb']:\n",
    "        df_json[key]['beer_id'].append(row[key]['beer_id'])\n",
    "        \n",
    "        ratings_user = ratings[key][str(row[key]['beer_id'])]\n",
    "        \n",
    "        dates = ratings_user['date'][::-1]\n",
    "        rats = ratings_user['rating'][::-1]\n",
    "        \n",
    "        years = [str(datetime.fromtimestamp(d).year) for d in dates]\n",
    "        z_scores = [(r-z[key][y]['mean'])/z[key][y]['std'] for r,y in zip(rats, years)]\n",
    "        \n",
    "        dates = np.array(dates)\n",
    "        rats = np.array(rats)\n",
    "        z_scores = np.array(z_scores)\n",
    "        \n",
    "        idx = np.argsort(dates)\n",
    "        dates = dates[idx]\n",
    "        rats = rats[idx]\n",
    "        z_scores = z_scores[idx]\n",
    "        \n",
    "        df_json[key]['dates'].append(list(dates))\n",
    "        df_json[key]['ratings'].append(list(rats))\n",
    "        df_json[key]['z_scores'].append(list(z_scores))\n",
    "        df_json[key]['avg_ratings'].append(np.mean(rats))\n",
    "        df_json[key]['avg_z_scores'].append(np.mean(z_scores))"
   ]
  },
  {
   "cell_type": "code",
   "execution_count": 10,
   "metadata": {
    "collapsed": true
   },
   "outputs": [],
   "source": [
    "df = pd.DataFrame.from_dict({(i, j): df_json[i][j] \n",
    "                             for i in df_json.keys() \n",
    "                             for j in df_json[i].keys()})"
   ]
  },
  {
   "cell_type": "code",
   "execution_count": 12,
   "metadata": {
    "collapsed": true
   },
   "outputs": [],
   "source": [
    "df.to_csv(data_folder + 'tmp/time_series_10.csv', index=False)"
   ]
  }
 ],
 "metadata": {
  "kernelspec": {
   "display_name": "Python 3",
   "language": "python",
   "name": "python3"
  },
  "language_info": {
   "codemirror_mode": {
    "name": "ipython",
    "version": 3
   },
   "file_extension": ".py",
   "mimetype": "text/x-python",
   "name": "python",
   "nbconvert_exporter": "python",
   "pygments_lexer": "ipython3",
   "version": "3.6.1"
  }
 },
 "nbformat": 4,
 "nbformat_minor": 2
}
