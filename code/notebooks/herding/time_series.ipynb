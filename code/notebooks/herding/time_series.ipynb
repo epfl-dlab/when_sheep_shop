{
 "cells": [
  {
   "cell_type": "markdown",
   "metadata": {},
   "source": [
    "# Time Series\n",
    "\n",
    "We create the time series for the matched beers in this notebook\n"
   ]
  },
  {
   "cell_type": "code",
   "execution_count": 1,
   "metadata": {
    "collapsed": true
   },
   "outputs": [],
   "source": [
    "import os\n",
    "os.chdir('../..')"
   ]
  },
  {
   "cell_type": "code",
   "execution_count": 2,
   "metadata": {},
   "outputs": [],
   "source": [
    "from classes.helpers import *\n",
    "import numpy as np\n",
    "import json\n",
    "import pandas as pd\n",
    "from datetime import datetime\n",
    "\n",
    "data_folder = '../data/'"
   ]
  },
  {
   "cell_type": "code",
   "execution_count": 3,
   "metadata": {
    "collapsed": true
   },
   "outputs": [],
   "source": [
    "beers = pd.read_csv(data_folder + 'matched/beers.csv', header=[0,1])"
   ]
  },
  {
   "cell_type": "code",
   "execution_count": 4,
   "metadata": {
    "collapsed": true
   },
   "outputs": [],
   "source": [
    "beers = beers[(beers['ba']['nbr_ratings'] >= 10) & (beers['rb']['nbr_ratings'] >= 10)]\n",
    "beers.index = range(len(beers))"
   ]
  },
  {
   "cell_type": "code",
   "execution_count": 5,
   "metadata": {},
   "outputs": [
    {
     "name": "stdout",
     "output_type": "stream",
     "text": [
      "Parse BA ratings\n",
      "Parse RB ratings\n"
     ]
    }
   ],
   "source": [
    "ratings = {'ba': {}, 'rb': {}}\n",
    "\n",
    "for key in ratings.keys():\n",
    "    print('Parse {} ratings'.format(key.upper()))\n",
    "    gen = parse(data_folder + key + '/ratings.txt.gz')\n",
    "    \n",
    "    for item in gen:\n",
    "        beer_id = item['beer_id']\n",
    "        rating = item['rating']\n",
    "        date = item['date']\n",
    "        \n",
    "        if beer_id not in ratings[key].keys():\n",
    "            ratings[key][beer_id] = {'date': [], 'rating': []}\n",
    "            \n",
    "        ratings[key][beer_id]['date'].append(int(date))\n",
    "        ratings[key][beer_id]['rating'].append(float(rating))"
   ]
  },
  {
   "cell_type": "code",
   "execution_count": 6,
   "metadata": {
    "collapsed": true
   },
   "outputs": [],
   "source": [
    "def flatten(l):\n",
    "    \"\"\"\n",
    "    Flatten a list of lists\n",
    "    :param l: List of lists\n",
    "    :return: flattened list\n",
    "    \"\"\"\n",
    "    try:\n",
    "        return [item for sublist in l for item in sublist]\n",
    "    except TypeError:\n",
    "        return l"
   ]
  },
  {
   "cell_type": "code",
   "execution_count": 8,
   "metadata": {},
   "outputs": [],
   "source": [
    "global_average = {'ba': {'rating': 0, 'z_score': 0, 'std': 0},\n",
    "                  'rb': {'rating': 0, 'z_score': 0, 'std': ''}}\n",
    "\n",
    "with open(data_folder + 'tmp/z_score_params_matched.json') as file:\n",
    "    z = json.load(file)\n",
    "\n",
    "for key in ratings.keys():\n",
    "    all_ratings = []\n",
    "    all_z_score = []\n",
    "    nbr = 0\n",
    "    for usr in ratings[key].keys():\n",
    "        rats = ratings[key][usr]['rating']\n",
    "        dates = ratings[key][usr]['date']\n",
    "        \n",
    "        years = [str(datetime.fromtimestamp(d).year) for d in dates]\n",
    "        z_scores = [(r-z[key][y]['mean'])/z[key][y]['std'] for r,y in zip(rats, years)]\n",
    "        \n",
    "        all_ratings.append(rats)\n",
    "        all_z_score.append(z_scores)\n",
    "        \n",
    "    all_ratings = flatten(all_ratings)\n",
    "    all_z_score = flatten(all_z_score)\n",
    "    \n",
    "    global_average[key]['std'] = np.std(all_ratings)\n",
    "    global_average[key]['rating'] = np.mean(all_ratings)\n",
    "    global_average[key]['z_score'] = np.mean(all_z_score)\n",
    "    \n",
    "with open(data_folder + 'tmp/global_averages.json', 'w') as file:\n",
    "    json.dump(global_average, file)"
   ]
  },
  {
   "cell_type": "code",
   "execution_count": 9,
   "metadata": {},
   "outputs": [
    {
     "name": "stderr",
     "output_type": "stream",
     "text": [
      "/home/gayouf/Applications/anaconda3/lib/python3.6/site-packages/ipykernel_launcher.py:5: DeprecationWarning: \n",
      ".ix is deprecated. Please use\n",
      ".loc for label based indexing or\n",
      ".iloc for positional indexing\n",
      "\n",
      "See the documentation here:\n",
      "http://pandas.pydata.org/pandas-docs/stable/indexing.html#deprecate_ix\n",
      "  \"\"\"\n"
     ]
    }
   ],
   "source": [
    "df_json = {'ba': {'beer_id': [], 'dates': [], 'ratings': [], 'z_scores': [], 'avg_ratings': [], 'avg_z_scores': []},\n",
    "           'rb': {'beer_id': [], 'dates': [], 'ratings': [], 'z_scores': [], 'avg_ratings': [], 'avg_z_scores': []}}\n",
    "\n",
    "for i in beers.index:\n",
    "    row = beers.iloc[i]\n",
    "    \n",
    "    for key in ['ba', 'rb']:\n",
    "        df_json[key]['beer_id'].append(row[key]['beer_id'])\n",
    "        \n",
    "        ratings_user = ratings[key][str(row[key]['beer_id'])]\n",
    "        \n",
    "        dates = ratings_user['date'][::-1]\n",
    "        rats = ratings_user['rating'][::-1]\n",
    "        \n",
    "        years = [str(datetime.fromtimestamp(d).year) for d in dates]\n",
    "        z_scores = [(r-z[key][y]['mean'])/z[key][y]['std'] for r,y in zip(rats, years)]\n",
    "        \n",
    "        dates = np.array(dates)\n",
    "        rats = np.array(rats)\n",
    "        z_scores = np.array(z_scores)\n",
    "        \n",
    "        idx = np.argsort(dates)\n",
    "        dates = dates[idx]\n",
    "        rats = rats[idx]\n",
    "        z_scores = z_scores[idx]\n",
    "        \n",
    "        df_json[key]['dates'].append(list(dates))\n",
    "        df_json[key]['ratings'].append(list(rats))\n",
    "        df_json[key]['z_scores'].append(list(z_scores))\n",
    "        df_json[key]['avg_ratings'].append(np.mean(rats))\n",
    "        df_json[key]['avg_z_scores'].append(np.mean(z_scores))"
   ]
  },
  {
   "cell_type": "code",
   "execution_count": 10,
   "metadata": {
    "collapsed": true
   },
   "outputs": [],
   "source": [
    "df = pd.DataFrame.from_dict({(i, j): df_json[i][j] \n",
    "                             for i in df_json.keys() \n",
    "                             for j in df_json[i].keys()})"
   ]
  },
  {
   "cell_type": "code",
   "execution_count": 12,
   "metadata": {
    "collapsed": true
   },
   "outputs": [],
   "source": [
    "df.to_csv(data_folder + 'tmp/time_series_10.csv', index=False)"
   ]
  }
 ],
 "metadata": {
  "kernelspec": {
   "display_name": "Python 3",
   "language": "python",
   "name": "python3"
  },
  "language_info": {
   "codemirror_mode": {
    "name": "ipython",
    "version": 3
   },
   "file_extension": ".py",
   "mimetype": "text/x-python",
   "name": "python",
   "nbconvert_exporter": "python",
   "pygments_lexer": "ipython3",
   "version": "3.6.1"
  }
 },
 "nbformat": 4,
 "nbformat_minor": 2
}
