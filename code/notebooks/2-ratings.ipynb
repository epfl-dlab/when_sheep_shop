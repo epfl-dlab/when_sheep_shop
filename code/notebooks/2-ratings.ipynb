{
 "cells": [
  {
   "cell_type": "markdown",
   "metadata": {},
   "source": [
    "# Ratings\n",
    "\n",
    "In this notebook, we plot **Figure 3 (a)**. To do so, we need parse all the ratings and put them in a JSON file.\n",
    "\n",
    "*No requirement is needed to run this notebook.*\n",
    "\n",
    "**Benchmark time**: This notebook has been run on a Dell Latitude (ElementaryOS 0.4.1 Loki, i7-7600U, 16GB RAM)."
   ]
  },
  {
   "cell_type": "code",
   "execution_count": 1,
   "metadata": {
    "collapsed": true
   },
   "outputs": [],
   "source": [
    "import os\n",
    "os.chdir('..')"
   ]
  },
  {
   "cell_type": "code",
   "execution_count": 2,
   "metadata": {
    "collapsed": true
   },
   "outputs": [],
   "source": [
    "# Helpers functions\n",
    "from python.helpers import parse\n",
    "\n",
    "# Libraries for preparing data\n",
    "import json\n",
    "import numpy as np\n",
    "\n",
    "# Libraries for plotting\n",
    "import seaborn as sns\n",
    "import matplotlib.pyplot as plt\n",
    "from matplotlib.ticker import FuncFormatter\n",
    "import matplotlib\n",
    "\n",
    "# Folders\n",
    "data_folder = '../data/'\n",
    "fig_folder = '../figures/'\n",
    "\n",
    "# For the Python notebook\n",
    "%matplotlib inline\n",
    "%reload_ext autoreload\n",
    "%autoreload 2\n",
    "\n",
    "# General info for plotting\n",
    "colors = {'ba': (232/255,164/255,29/255), \n",
    "          'rb': (0/255,152/255,205/255)}\n",
    "\n",
    "labels = {'ba': 'BeerAdvocate', 'rb': 'RateBeer'}\n",
    "\n",
    "# Check that folders exist\n",
    "if not os.path.exists(data_folder + 'prepared'):\n",
    "    os.makedirs(data_folder + 'prepared')\n",
    "    \n",
    "if not os.path.exists(fig_folder):\n",
    "    os.makedirs(fig_folder)"
   ]
  },
  {
   "cell_type": "markdown",
   "metadata": {},
   "source": [
    "## Parse the ratings\n",
    "\n",
    "The cell below is used to parse the ratings and put them in a JSON file."
   ]
  },
  {
   "cell_type": "code",
   "execution_count": 3,
   "metadata": {},
   "outputs": [
    {
     "name": "stdout",
     "output_type": "stream",
     "text": [
      "Parse BA ratings\n",
      "Parse RB ratings\n",
      "CPU times: user 9min 41s, sys: 1.82 s, total: 9min 43s\n",
      "Wall time: 9min 43s\n"
     ]
    }
   ],
   "source": [
    "%%time\n",
    "\n",
    "ratings = {'ba': [], 'rb': []}\n",
    "\n",
    "# Go through RB and BA\n",
    "for key in ratings.keys():\n",
    "    print('Parse {} ratings'.format(key.upper()))\n",
    "    # Get the iterator\n",
    "    gen = parse(data_folder + key + '/ratings.txt.gz')\n",
    "    \n",
    "    # Go through the iterators\n",
    "    for item in gen:        \n",
    "        ratings[key].append(float(item['rating']))\n",
    "\n",
    "# Save all the ratings\n",
    "with open(data_folder + 'prepared/all_ratings.json', 'w') as outfile:\n",
    "    json.dump(ratings, outfile)"
   ]
  },
  {
   "cell_type": "markdown",
   "metadata": {},
   "source": [
    "## Plot all the ratings\n",
    "\n",
    "The cell below is used to plot all the ratings as done for Figure 3 (a)."
   ]
  },
  {
   "cell_type": "code",
   "execution_count": 4,
   "metadata": {},
   "outputs": [
    {
     "data": {
      "image/png": "[encoded data removed]",
      "text/plain": [
       "<matplotlib.figure.Figure at 0x7f87aabf3dd8>"
      ]
     },
     "metadata": {},
     "output_type": "display_data"
    }
   ],
   "source": [
    "with open(data_folder + 'prepared/all_ratings.json', 'r') as infile:\n",
    "    ratings = json.load(infile)\n",
    "\n",
    "plt.figure(figsize=(5, 3), frameon=False)\n",
    "\n",
    "sns.set_context(\"paper\")\n",
    "sns.set(font_scale = 1.1)\n",
    "sns.set_style(\"white\", {\n",
    "    \"font.family\": \"sans-serif\",\n",
    "    \"font.serif\": ['Helvetica'],\n",
    "    \"font.scale\": 2\n",
    "})\n",
    "sns.set_style(\"ticks\", {\"xtick.major.size\": 4,\n",
    "                        \"ytick.major.size\": 4})\n",
    "\n",
    "ax = plt.subplot(111)\n",
    "ax.spines['right'].set_visible(False)\n",
    "ax.spines['top'].set_visible(False)\n",
    "\n",
    "nbr_bins = 45\n",
    "\n",
    "bin_edges = {'ba': None, 'rb': None}\n",
    "hist = {'ba': None, 'rb': None}\n",
    "\n",
    "for key in bin_edges.keys():\n",
    "    a, bin_edges[key] = np.histogram(ratings[key], range=(0.5, 5), bins=nbr_bins)\n",
    "    hist[key], a = np.histogram(ratings[key], range=(0.5, 5), bins=nbr_bins+1)\n",
    "    hist[key] = hist[key]/np.sum(hist[key])*100\n",
    "\n",
    "for key in hist.keys():\n",
    "    width = bin_edges[key][1] - bin_edges[key][0]\n",
    "    plt.bar(bin_edges[key], hist[key], width = width, \n",
    "            facecolor=colors[key], edgecolor='k', alpha=0.5, \n",
    "            label=labels[key])\n",
    "    \n",
    "plt.ylabel('Percentage')\n",
    "plt.xlabel('Rating')\n",
    "leg = plt.legend()\n",
    "leg.get_frame().set_linewidth(0.0)\n",
    "\n",
    "plt.savefig(fig_folder + 'ratings_all_beers.pdf', bbox_inches='tight')"
   ]
  }
 ],
 "metadata": {
  "kernelspec": {
   "display_name": "Python 3",
   "language": "python",
   "name": "python3"
  },
  "language_info": {
   "codemirror_mode": {
    "name": "ipython",
    "version": 3
   },
   "file_extension": ".py",
   "mimetype": "text/x-python",
   "name": "python",
   "nbconvert_exporter": "python",
   "pygments_lexer": "ipython3",
   "version": "3.6.1"
  }
 },
 "nbformat": 4,
 "nbformat_minor": 2
}
