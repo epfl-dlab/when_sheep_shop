{
 "cells": [
  {
   "cell_type": "markdown",
   "metadata": {},
   "source": [
    "# Sanity Checks\n",
    "\n",
    "In this notebook, we plot **Figures 5(a), 5(b), and 5(c)**. \n",
    "\n",
    "**Requirements**:\n",
    "- You need to run notebook `4-zscores` to get the updated version of the files `beers.csv` in the folder `matched`. In other words, you need to **run the first 7 cells of `4-zscores`**.\n",
    "\n",
    "**Benchmark time**: This notebook has been run on a Dell Latitude (ElementaryOS 0.4.1 Loki, i7-7600U, 16GB RAM)."
   ]
  },
  {
   "cell_type": "code",
   "execution_count": 1,
   "metadata": {
    "collapsed": true
   },
   "outputs": [],
   "source": [
    "import os\n",
    "os.chdir('..')"
   ]
  },
  {
   "cell_type": "code",
   "execution_count": 2,
   "metadata": {
    "collapsed": true
   },
   "outputs": [],
   "source": [
    "# Helpers functions\n",
    "from python.helpers import parse\n",
    "\n",
    "# Libraries for preparing data\n",
    "import json\n",
    "import gzip\n",
    "import numpy as np\n",
    "import pandas as pd\n",
    "from datetime import datetime\n",
    "\n",
    "# Libraries for plotting\n",
    "import seaborn as sns\n",
    "import matplotlib.pyplot as plt\n",
    "from matplotlib.ticker import FuncFormatter\n",
    "import matplotlib\n",
    "\n",
    "# Folders\n",
    "data_folder = '../data/'\n",
    "fig_folder = '../figures/'\n",
    "\n",
    "# For the Python notebook\n",
    "%matplotlib inline\n",
    "%reload_ext autoreload\n",
    "%autoreload 2\n",
    "\n",
    "# General info for plotting\n",
    "colors = {'ba': (232/255,164/255,29/255), \n",
    "          'rb': (0/255,152/255,205/255)}\n",
    "\n",
    "labels = {'ba': 'BeerAdvocate', 'rb': 'RateBeer'}\n",
    "\n",
    "# Check that folders exist\n",
    "if not os.path.exists(data_folder + 'tmp'):\n",
    "    os.makedirs(data_folder + 'tmp')\n",
    "\n",
    "if not os.path.exists(data_folder + 'prepared'):\n",
    "    os.makedirs(data_folder + 'prepared')\n",
    "    \n",
    "if not os.path.exists(fig_folder):\n",
    "    os.makedirs(fig_folder)"
   ]
  },
  {
   "cell_type": "markdown",
   "metadata": {},
   "source": [
    "## Sanity Check on ratings"
   ]
  },
  {
   "cell_type": "code",
   "execution_count": 3,
   "metadata": {},
   "outputs": [
    {
     "name": "stderr",
     "output_type": "stream",
     "text": [
      "/home/gayouf/Applications/anaconda3/lib/python3.6/site-packages/numpy/core/fromnumeric.py:57: FutureWarning: reshape is deprecated and will raise in a subsequent release. Please use .values.reshape(...) instead\n",
      "  return getattr(obj, method)(*args, **kwds)\n"
     ]
    },
    {
     "data": {
      "image/png": "[encoded data removed]",
      "text/plain": [
       "<matplotlib.figure.Figure at 0x7efd19210208>"
      ]
     },
     "metadata": {},
     "output_type": "display_data"
    }
   ],
   "source": [
    "# Get the DF with matching beers\n",
    "min_nbr_ratings = 5\n",
    "matched = pd.read_csv(data_folder + 'matched/beers.csv', header=[0,1])\n",
    "matched = matched[(matched['ba']['nbr_ratings'] >= min_nbr_ratings) & (matched['rb']['nbr_ratings'] >= min_nbr_ratings)]\n",
    "\n",
    "# Get the DFs for BA and RB\n",
    "df = {}\n",
    "\n",
    "df['ba'] = pd.read_csv(data_folder + 'ba/beers.csv')\n",
    "df['ba'] = df['ba'][df['ba']['nbr_ratings'] >= min_nbr_ratings]\n",
    "\n",
    "df['rb'] = pd.read_csv(data_folder + 'rb/beers.csv')\n",
    "df['rb'] = df['rb'][df['rb']['nbr_ratings'] >= min_nbr_ratings]\n",
    "\n",
    "# Boxplots\n",
    "plt.figure(figsize=(5, 3), frameon=False)\n",
    "\n",
    "sns.set_context(\"paper\")\n",
    "sns.set(font_scale = 1.1)\n",
    "sns.set_style(\"white\", {\n",
    "    \"font.family\": \"sans-serif\",\n",
    "    \"font.serif\": ['Helvetica'],\n",
    "    \"font.scale\": 2\n",
    "})\n",
    "sns.set_style(\"ticks\", {\"xtick.major.size\": 4,\n",
    "                        \"ytick.major.size\": 4})\n",
    "\n",
    "ax = plt.subplot(111)\n",
    "ax.spines['right'].set_visible(False)\n",
    "ax.spines['top'].set_visible(False)\n",
    "\n",
    "data = [df['ba']['avg_computed'], matched['ba']['avg_computed'], df['rb']['avg_computed'], matched['rb']['avg_computed']]\n",
    "\n",
    "boxes = ax.boxplot(data, sym='k.')\n",
    "plt.ylabel('Rating')\n",
    "plt.plot([2.5, 2.5], [0.5, 5], 'k', linewidth=0.5)\n",
    "plt.xticks([1, 2, 3, 4], ['All', 'Matched', 'All', 'Matched'])\n",
    "\n",
    "for b in boxes:\n",
    "    for l in boxes[b]:\n",
    "        l.set_linewidth(1.2)\n",
    "        l.set_color('k')\n",
    "        if b == 'fliers':\n",
    "            l.set_alpha(0.1)\n",
    "            l.set_marker('o')\n",
    "            l.set_markersize(2)\n",
    "        \n",
    "plt.ylim([0.5, 5])\n",
    "\n",
    "ax.text(1.5, 5.4, 'BeerAdvocate', horizontalalignment='center', verticalalignment='top')\n",
    "ax.text(3.5, 5.4, 'RateBeer', horizontalalignment='center', verticalalignment='top')\n",
    "\n",
    "plt.savefig(fig_folder + 'boxplots_ratings.pdf', bbox_inches='tight')"
   ]
  },
  {
   "cell_type": "markdown",
   "metadata": {},
   "source": [
    "## Sanity Checks on number of ratings per beer"
   ]
  },
  {
   "cell_type": "code",
   "execution_count": 4,
   "metadata": {},
   "outputs": [
    {
     "data": {
      "image/png": "[encoded data removed]",
      "text/plain": [
       "<matplotlib.figure.Figure at 0x7efd19016e48>"
      ]
     },
     "metadata": {},
     "output_type": "display_data"
    }
   ],
   "source": [
    "# Get the DF for the matched beers\n",
    "matched = pd.read_csv(data_folder + 'matched/beers.csv', header=[0,1])\n",
    "\n",
    "# Get the DF for BA and RB\n",
    "df = {}\n",
    "\n",
    "df['ba'] = pd.read_csv(data_folder + 'ba/beers.csv')\n",
    "df['rb'] = pd.read_csv(data_folder + 'rb/beers.csv')\n",
    "\n",
    "# Compute some data\n",
    "data = []\n",
    "for key in df.keys():   \n",
    "    arr1 = np.array(df[key]['nbr_ratings'])\n",
    "    arr1 = arr1[arr1>0]\n",
    "    \n",
    "    arr2 = np.array(matched[key]['nbr_ratings'])\n",
    "    arr2 = arr2[arr2>0]\n",
    "    \n",
    "    data.append(np.log10(arr1))\n",
    "    data.append(np.log10(arr2))\n",
    "    \n",
    "# Boxplots\n",
    "plt.figure(figsize=(5, 3), frameon=False)\n",
    "\n",
    "sns.set_context(\"paper\")\n",
    "sns.set(font_scale = 1.1)\n",
    "sns.set_style(\"white\", {\n",
    "    \"font.family\": \"sans-serif\",\n",
    "    \"font.serif\": ['Helvetica'],\n",
    "    \"font.scale\": 2\n",
    "})\n",
    "sns.set_style(\"ticks\", {\"xtick.major.size\": 4,\n",
    "                        \"ytick.major.size\": 4})\n",
    "\n",
    "ax = plt.subplot(111)\n",
    "ax.spines['right'].set_visible(False)\n",
    "ax.spines['top'].set_visible(False)\n",
    "\n",
    "boxes = ax.boxplot(data, sym='k.')\n",
    "plt.ylabel('Number of ratings per beer [log$_{10}$]')\n",
    "plt.plot([2.5, 2.5], [-0.2, 4.5], 'k', linewidth=0.5)\n",
    "plt.xticks([1, 2, 3, 4], ['All', 'Matched', 'All', 'Matched'])\n",
    "\n",
    "for b in boxes:\n",
    "    for l in boxes[b]:\n",
    "        l.set_linewidth(1.2)\n",
    "        l.set_color('k')\n",
    "        if b == 'fliers':\n",
    "            l.set_alpha(0.1)\n",
    "            l.set_marker('o')\n",
    "            l.set_markersize(2)\n",
    "        \n",
    "plt.ylim([-0.2, 4.5])\n",
    "\n",
    "ax.text(1.5, 4.95, 'BeerAdvocate', horizontalalignment='center', verticalalignment='top')\n",
    "ax.text(3.5, 4.95, 'RateBeer', horizontalalignment='center', verticalalignment='top')\n",
    "\n",
    "plt.savefig(fig_folder + 'boxplots_nbr_ratings.pdf', bbox_inches='tight')"
   ]
  },
  {
   "cell_type": "markdown",
   "metadata": {},
   "source": [
    "## Sanity Checks on number of beers per brewery"
   ]
  },
  {
   "cell_type": "code",
   "execution_count": 5,
   "metadata": {},
   "outputs": [
    {
     "data": {
      "image/png": "[encoded data removed]",
      "text/plain": [
       "<matplotlib.figure.Figure at 0x7efd1b028630>"
      ]
     },
     "metadata": {},
     "output_type": "display_data"
    }
   ],
   "source": [
    "# Get the DF for BA and RB\n",
    "df = {}\n",
    "\n",
    "df['ba'] = pd.read_csv(data_folder + 'ba/breweries.csv')\n",
    "df['rb'] = pd.read_csv(data_folder + 'rb/breweries.csv')\n",
    "\n",
    "# Get the DF of matched breweries\n",
    "matched = pd.read_csv(data_folder + 'matched/breweries.csv', header=[0,1])\n",
    "\n",
    "# Compute some data\n",
    "data = []\n",
    "for key in df.keys():   \n",
    "    arr1 = np.array(df[key]['nbr_beers'])\n",
    "    arr1 = arr1[arr1>0]\n",
    "    \n",
    "    arr2 = np.array(matched[key]['nbr_beers'])\n",
    "    arr2 = arr2[arr2>0]\n",
    "    \n",
    "    data.append(np.log10(arr1))\n",
    "    data.append(np.log10(arr2))\n",
    "\n",
    "# Boxplots\n",
    "plt.figure(figsize=(5, 3), frameon=False)\n",
    "\n",
    "sns.set_context(\"paper\")\n",
    "sns.set(font_scale = 1.1)\n",
    "sns.set_style(\"white\", {\n",
    "    \"font.family\": \"sans-serif\",\n",
    "    \"font.serif\": ['Helvetica'],\n",
    "    \"font.scale\": 2\n",
    "})\n",
    "sns.set_style(\"ticks\", {\"xtick.major.size\": 4,\n",
    "                        \"ytick.major.size\": 4})\n",
    "\n",
    "ax = plt.subplot(111)\n",
    "ax.spines['right'].set_visible(False)\n",
    "ax.spines['top'].set_visible(False)\n",
    "\n",
    "boxes = ax.boxplot(data, sym='k.')\n",
    "plt.ylabel('Number of beers per brewery [log$_{10}$]')\n",
    "plt.plot([2.5, 2.5], [-0.2, 4.5], 'k', linewidth=0.5)\n",
    "plt.xticks([1, 2, 3, 4], ['All', 'Matched', 'All', 'Matched'])\n",
    "\n",
    "for b in boxes:\n",
    "    for l in boxes[b]:\n",
    "        l.set_linewidth(1.2)\n",
    "        l.set_color('k')\n",
    "        if b == 'fliers':\n",
    "            l.set_alpha(0.1)\n",
    "            l.set_marker('o')\n",
    "            l.set_markersize(2)\n",
    "        \n",
    "plt.ylim([-0.2, 4.5])\n",
    "\n",
    "ax.text(1.5, 4.95, 'BeerAdvocate', horizontalalignment='center', verticalalignment='top')\n",
    "ax.text(3.5, 4.95, 'RateBeer', horizontalalignment='center', verticalalignment='top')\n",
    "\n",
    "plt.savefig(fig_folder + 'boxplots_nbr_beers_breweries.pdf', bbox_inches='tight')"
   ]
  }
 ],
 "metadata": {
  "kernelspec": {
   "display_name": "Python 3",
   "language": "python",
   "name": "python3"
  },
  "language_info": {
   "codemirror_mode": {
    "name": "ipython",
    "version": 3
   },
   "file_extension": ".py",
   "mimetype": "text/x-python",
   "name": "python",
   "nbconvert_exporter": "python",
   "pygments_lexer": "ipython3",
   "version": "3.6.1"
  }
 },
 "nbformat": 4,
 "nbformat_minor": 2
}
