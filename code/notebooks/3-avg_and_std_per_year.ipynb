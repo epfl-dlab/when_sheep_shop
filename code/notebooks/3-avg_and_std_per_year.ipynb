{
 "cells": [
  {
   "cell_type": "markdown",
   "metadata": {},
   "source": [
    "# Average and STD per year\n",
    "\n",
    "In this notebook, we plot **Figures 3(b) and 3(c)**. To do so, we need parse all the ratings per year and put them in a JSON. Then, we need to compute the average and the std per year with bootstraping and add them in JSON files\n",
    "\n",
    "*No requirement is needed to run this notebook.*\n",
    "\n",
    "**Benchmark time**: This notebook has been run on a Dell Latitude (ElementaryOS 0.4.1 Loki, i7-7600U, 16GB RAM)."
   ]
  },
  {
   "cell_type": "code",
   "execution_count": 1,
   "metadata": {
    "collapsed": true
   },
   "outputs": [],
   "source": [
    "import os\n",
    "os.chdir('..')"
   ]
  },
  {
   "cell_type": "code",
   "execution_count": 2,
   "metadata": {
    "collapsed": true
   },
   "outputs": [],
   "source": [
    "# Helpers functions\n",
    "from python.helpers import parse\n",
    "\n",
    "# Libraries for preparing data\n",
    "import json\n",
    "import numpy as np\n",
    "from datetime import datetime\n",
    "\n",
    "# Libraries for plotting\n",
    "import seaborn as sns\n",
    "import matplotlib.pyplot as plt\n",
    "from matplotlib.ticker import FuncFormatter\n",
    "import matplotlib\n",
    "\n",
    "# Folders\n",
    "data_folder = '../data/'\n",
    "fig_folder = '../figures/'\n",
    "\n",
    "# For the Python notebook\n",
    "%matplotlib inline\n",
    "%reload_ext autoreload\n",
    "%autoreload 2\n",
    "\n",
    "# General info for plotting\n",
    "colors = {'ba': (232/255,164/255,29/255), \n",
    "          'rb': (0/255,152/255,205/255)}\n",
    "\n",
    "labels = {'ba': 'BeerAdvocate', 'rb': 'RateBeer'}\n",
    "\n",
    "# Check that folders exist\n",
    "if not os.path.exists(data_folder + 'tmp'):\n",
    "    os.makedirs(data_folder + 'tmp')\n",
    "\n",
    "if not os.path.exists(data_folder + 'prepared'):\n",
    "    os.makedirs(data_folder + 'prepared')\n",
    "    \n",
    "if not os.path.exists(fig_folder):\n",
    "    os.makedirs(fig_folder)"
   ]
  },
  {
   "cell_type": "markdown",
   "metadata": {},
   "source": [
    "## Parse the ratings per year\n",
    "\n",
    "In the first cell, we prepare the ratings per year. In the second cell, we compute the average and the std per year with bootstraping. "
   ]
  },
  {
   "cell_type": "code",
   "execution_count": 3,
   "metadata": {},
   "outputs": [
    {
     "name": "stdout",
     "output_type": "stream",
     "text": [
      "Parsing BA reviews.\n",
      "Parsing RB reviews.\n",
      "CPU times: user 10min 41s, sys: 1.52 s, total: 10min 43s\n",
      "Wall time: 10min 44s\n"
     ]
    }
   ],
   "source": [
    "%%time\n",
    "\n",
    "# Get the ratings for every year for both BA and RB\n",
    "ratings_year = {'ba': {}, 'rb': {}}\n",
    "\n",
    "# Go through RB and BA\n",
    "for key in ratings_year.keys():\n",
    "    print('Parsing {} reviews.'.format(key.upper()))\n",
    "    \n",
    "    # Get the iterator\n",
    "    gen = parse(data_folder + key + '/ratings.txt.gz'.format(key))\n",
    "    \n",
    "    # Go through the iterator\n",
    "    for item in gen:\n",
    "        \n",
    "        # Get the data and then the year\n",
    "        date = int(item['date'])\n",
    "        year = datetime.fromtimestamp(date).year\n",
    "                        \n",
    "        if year not in ratings_year[key].keys():\n",
    "            ratings_year[key][year] = []\n",
    "        \n",
    "        # Add the rating in the correct year\n",
    "        ratings_year[key][year].append(float(item['rating']))\n",
    "        \n",
    "with open(data_folder + 'tmp/rating_per_year.json', 'w') as outfile:\n",
    "    json.dump(ratings_year, outfile)"
   ]
  },
  {
   "cell_type": "code",
   "execution_count": 4,
   "metadata": {},
   "outputs": [
    {
     "name": "stdout",
     "output_type": "stream",
     "text": [
      "CPU times: user 5min 29s, sys: 252 ms, total: 5min 30s\n",
      "Wall time: 5min 32s\n"
     ]
    }
   ],
   "source": [
    "%%time\n",
    "\n",
    "with open(data_folder + 'tmp/rating_per_year.json', 'r') as infile:\n",
    "    ratings_year = json.load(infile)\n",
    "\n",
    "# Span of years\n",
    "years = list(range(2001, 2018))\n",
    "\n",
    "# Number of draws for the bootstrap\n",
    "nbr_draws = 1000\n",
    "\n",
    "# Prepare the two dicts\n",
    "avg = {}\n",
    "std = {}\n",
    "\n",
    "# Go through RB and BA\n",
    "for key in ratings_year:\n",
    "    # Prepare the dict\n",
    "    avg[key] = {'mean': [], 'low': [], 'high': []}\n",
    "    std[key] = {'mean': [], 'low': [], 'high': []}\n",
    "    \n",
    "    # Go through every year\n",
    "    for y in years:\n",
    "        # Get the ratings from this year\n",
    "        vals = np.array(ratings_year[key][str(y)])\n",
    "           \n",
    "        # Two temp array for the average and the std\n",
    "        tmp_avg = []\n",
    "        tmp_std = []\n",
    "        \n",
    "        # Go through draws of bootstrap\n",
    "        for i in range(nbr_draws):\n",
    "            # Get indices with replacements\n",
    "            indices = np.random.randint(0, len(vals), len(vals))\n",
    "            \n",
    "            # The new array of ratings\n",
    "            vals_tmp = vals[indices]\n",
    "            \n",
    "            # Add the avg in tmp_avg\n",
    "            tmp_avg.append(np.mean(vals_tmp))\n",
    "            # Add the std in tmp_std\n",
    "            tmp_std.append(np.std(vals_tmp))\n",
    "        \n",
    "        # Compute the values for 95% confidence interval for avg\n",
    "        avg[key]['mean'].append(np.mean(tmp_avg))\n",
    "        avg[key]['low'].append(np.percentile(tmp_avg, 2.5))\n",
    "        avg[key]['high'].append(np.percentile(tmp_avg, 97.5))\n",
    "        \n",
    "        # Compute the values for 95% confidence interval for std\n",
    "        std[key]['mean'].append(np.mean(tmp_std))\n",
    "        std[key]['low'].append(np.percentile(tmp_std, 2.5))\n",
    "        std[key]['high'].append(np.percentile(tmp_std, 97.5))\n",
    "        \n",
    "# Save the avg per year\n",
    "with open(data_folder + 'prepared/avg_year.json', 'w') as outfile:\n",
    "    json.dump(avg, outfile)\n",
    "    \n",
    "# Save the std per year\n",
    "with open(data_folder + 'prepared/std_year.json', 'w') as outfile:\n",
    "    json.dump(std, outfile)"
   ]
  },
  {
   "cell_type": "markdown",
   "metadata": {},
   "source": [
    "## Plot the avg and std per year\n",
    "\n",
    "The first cell plots the average per year (Figure 3(b)) and the second cell plots the std per year (Figure 3(c))."
   ]
  },
  {
   "cell_type": "code",
   "execution_count": 5,
   "metadata": {},
   "outputs": [
    {
     "data": {
      "image/png": "[encoded data removed]",
      "text/plain": [
       "<matplotlib.figure.Figure at 0x7fb8de3cbcf8>"
      ]
     },
     "metadata": {},
     "output_type": "display_data"
    }
   ],
   "source": [
    "with open(data_folder + 'prepared/avg_year.json', 'r') as infile:\n",
    "    avg = json.load(infile)\n",
    "    \n",
    "years = list(range(2001, 2018))\n",
    "x = np.array(range(len(years)))\n",
    "\n",
    "plt.figure(figsize=(5, 3), frameon=False)\n",
    "\n",
    "sns.set_context(\"paper\")\n",
    "sns.set(font_scale = 1.1)\n",
    "sns.set_style(\"white\", {\n",
    "    \"font.family\": \"sans-serif\",\n",
    "    \"font.serif\": ['Helvetica'],\n",
    "    \"font.scale\": 2\n",
    "})\n",
    "sns.set_style(\"ticks\", {\"xtick.major.size\": 4,\n",
    "                        \"ytick.major.size\": 4})\n",
    "\n",
    "\n",
    "ax = plt.subplot(111)\n",
    "ax.spines['right'].set_visible(False)\n",
    "ax.spines['top'].set_visible(False)\n",
    "\n",
    "for key in avg.keys():\n",
    "    vals = np.array(avg[key]['mean'])\n",
    "    high = np.array(avg[key]['high'])\n",
    "    low = np.array(avg[key]['low'])\n",
    "    conf_int = np.array([high-vals, vals-low])\n",
    "\n",
    "    \n",
    "    plt.errorbar(x, vals , yerr=conf_int, \n",
    "                 color=colors[key], fmt='-', \n",
    "                 label=labels[key], \n",
    "                 capsize=5, capthick=2)\n",
    "    \n",
    "plt.xticks(list(range(len(years))), years, rotation=45)\n",
    "plt.ylabel('Mean rating')\n",
    "leg = plt.legend()\n",
    "leg.get_frame().set_linewidth(0.0)\n",
    "\n",
    "plt.savefig(fig_folder + 'avg_rating_per_year.pdf', bbox_inches='tight')"
   ]
  },
  {
   "cell_type": "code",
   "execution_count": 6,
   "metadata": {},
   "outputs": [
    {
     "data": {
      "image/png": "[encoded data removed]",
      "text/plain": [
       "<matplotlib.figure.Figure at 0x7fb8f0d99e80>"
      ]
     },
     "metadata": {},
     "output_type": "display_data"
    }
   ],
   "source": [
    "with open(data_folder + 'prepared/std_year.json', 'r') as infile:\n",
    "    std = json.load(infile)\n",
    "\n",
    "years = list(range(2001, 2018))\n",
    "x = np.array(range(len(years)))\n",
    "\n",
    "plt.figure(figsize=(5, 3), frameon=False)\n",
    "\n",
    "sns.set_context(\"paper\")\n",
    "sns.set(font_scale = 1.1)\n",
    "sns.set_style(\"white\", {\n",
    "    \"font.family\": \"sans-serif\",\n",
    "    \"font.serif\": ['Helvetica'],\n",
    "    \"font.scale\": 2\n",
    "})\n",
    "sns.set_style(\"ticks\", {\"xtick.major.size\": 4,\n",
    "                        \"ytick.major.size\": 4})\n",
    "\n",
    "\n",
    "ax = plt.subplot(111)\n",
    "ax.spines['right'].set_visible(False)\n",
    "ax.spines['top'].set_visible(False)\n",
    "\n",
    "for key in std.keys():\n",
    "    vals = np.array(std[key]['mean'])\n",
    "    high = np.array(std[key]['high'])\n",
    "    low = np.array(std[key]['low'])\n",
    "    conf_int = np.array([high-vals, vals-low])\n",
    "\n",
    "    \n",
    "    plt.errorbar(x, vals , yerr=conf_int, \n",
    "                 color=colors[key], fmt='-', \n",
    "                 label=labels[key], \n",
    "                 capsize=5, capthick=2)\n",
    "    \n",
    "plt.xticks(list(range(len(years))), years, rotation=45)\n",
    "plt.ylabel('Std dev of ratings')\n",
    "leg = plt.legend()\n",
    "leg.get_frame().set_linewidth(0.0)\n",
    "\n",
    "plt.savefig(fig_folder + 'std_rating_per_year.pdf', bbox_inches='tight')"
   ]
  }
 ],
 "metadata": {
  "kernelspec": {
   "display_name": "Python 3",
   "language": "python",
   "name": "python3"
  },
  "language_info": {
   "codemirror_mode": {
    "name": "ipython",
    "version": 3
   },
   "file_extension": ".py",
   "mimetype": "text/x-python",
   "name": "python",
   "nbconvert_exporter": "python",
   "pygments_lexer": "ipython3",
   "version": "3.6.1"
  }
 },
 "nbformat": 4,
 "nbformat_minor": 2
}
