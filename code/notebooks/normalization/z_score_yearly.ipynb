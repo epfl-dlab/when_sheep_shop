{
 "cells": [
  {
   "cell_type": "code",
   "execution_count": 1,
   "metadata": {
    "collapsed": true
   },
   "outputs": [],
   "source": [
    "import os\n",
    "os.chdir('../..')"
   ]
  },
  {
   "cell_type": "code",
   "execution_count": 14,
   "metadata": {
    "collapsed": true
   },
   "outputs": [],
   "source": [
    "import numpy as np\n",
    "import json\n",
    "import pandas as pd\n",
    "from datetime import datetime\n",
    "\n",
    "from classes.helpers import *\n",
    "\n",
    "# For the Python notebook\n",
    "%matplotlib inline\n",
    "%reload_ext autoreload\n",
    "%autoreload 2\n",
    "\n",
    "data_folder = '../data/'"
   ]
  },
  {
   "cell_type": "markdown",
   "metadata": {},
   "source": [
    "# Compute yearly z-score"
   ]
  },
  {
   "cell_type": "code",
   "execution_count": 6,
   "metadata": {},
   "outputs": [],
   "source": [
    "df = pd.read_csv(data_folder + 'matched/beers.csv', header=[0,1])\n",
    "\n",
    "beers_ids = {'ba': np.array(df['ba']['beer_id']), 'rb': np.array(df['rb']['beer_id'])}"
   ]
  },
  {
   "cell_type": "code",
   "execution_count": 21,
   "metadata": {
    "scrolled": false
   },
   "outputs": [
    {
     "name": "stdout",
     "output_type": "stream",
     "text": [
      "Parsing BA reviews.\n",
      "Parsing RB reviews.\n"
     ]
    }
   ],
   "source": [
    "ratings_year = {'ba': {}, 'rb': {}}\n",
    "\n",
    "for key in ratings_year.keys():\n",
    "    print('Parsing {} reviews.'.format(key.upper()))\n",
    "    \n",
    "    gen = parse(data_folder + key + '/ratings.txt.gz')\n",
    "    \n",
    "    for item in gen:\n",
    "        \n",
    "        date = int(item['date'])\n",
    "        year = datetime.fromtimestamp(date).year\n",
    "        \n",
    "        beer_id = int(item['beer_id'])\n",
    "        \n",
    "        if beer_id in beers_ids[key]:\n",
    "        \n",
    "            if year not in ratings_year[key].keys():\n",
    "                ratings_year[key][year] = []\n",
    "\n",
    "            ratings_year[key][year].append(float(item['rating']))"
   ]
  },
  {
   "cell_type": "code",
   "execution_count": 24,
   "metadata": {
    "collapsed": true
   },
   "outputs": [],
   "source": [
    "z_score_params = {}\n",
    "for key in ratings_year.keys():\n",
    "    z_score_params[key] = {}\n",
    "    for y in ratings_year[key].keys():\n",
    "        z_score_params[key][y] = {'mean': np.mean(ratings_year[key][y]), 'std': np.std(ratings_year[key][y])}\n",
    "        if z_score_params[key][y]['std'] == 0:\n",
    "            z_score_params[key][y]['std'] = 1"
   ]
  },
  {
   "cell_type": "code",
   "execution_count": 29,
   "metadata": {},
   "outputs": [],
   "source": [
    "z_score_params['ba'][1996] = {'mean': 0, 'std': 1}\n",
    "z_score_params['ba'][1997] = {'mean': 0, 'std': 1}"
   ]
  },
  {
   "cell_type": "code",
   "execution_count": 31,
   "metadata": {},
   "outputs": [],
   "source": [
    "with open(data_folder + 'tmp/z_score_params_matched.json', 'w') as file:\n",
    "    json.dump(z_score_params, file)"
   ]
  },
  {
   "cell_type": "code",
   "execution_count": null,
   "metadata": {
    "collapsed": true
   },
   "outputs": [],
   "source": []
  }
 ],
 "metadata": {
  "kernelspec": {
   "display_name": "Python 3",
   "language": "python",
   "name": "python3"
  },
  "language_info": {
   "codemirror_mode": {
    "name": "ipython",
    "version": 3
   },
   "file_extension": ".py",
   "mimetype": "text/x-python",
   "name": "python",
   "nbconvert_exporter": "python",
   "pygments_lexer": "ipython3",
   "version": "3.6.1"
  }
 },
 "nbformat": 4,
 "nbformat_minor": 2
}
