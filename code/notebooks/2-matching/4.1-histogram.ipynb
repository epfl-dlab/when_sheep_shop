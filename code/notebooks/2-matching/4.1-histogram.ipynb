{
 "cells": [
  {
   "cell_type": "code",
   "execution_count": 1,
   "metadata": {
    "collapsed": true
   },
   "outputs": [],
   "source": [
    "import os\n",
    "os.chdir('../..')"
   ]
  },
  {
   "cell_type": "code",
   "execution_count": 5,
   "metadata": {
    "collapsed": true
   },
   "outputs": [],
   "source": [
    "from classes.helpers import *\n",
    "import numpy as np\n",
    "import json\n",
    "import pandas as pd\n",
    "from datetime import datetime\n",
    "\n",
    "import matplotlib.pyplot as plt\n",
    "from matplotlib.ticker import FuncFormatter\n",
    "import matplotlib\n",
    "matplotlib.rcParams['text.usetex'] = True\n",
    "matplotlib.rcParams['text.latex.unicode'] = True\n",
    "\n",
    "# For the Python notebook\n",
    "%matplotlib inline\n",
    "%reload_ext autoreload\n",
    "%autoreload 2\n",
    "\n",
    "colors = {'ba': (232/255,164/255,29/255), 'rb': (0/255,152/255,205/255)}\n",
    "labels = {'ba': 'BeerAdvocate', 'rb': 'RateBeer'}\n",
    "\n",
    "notext = {'ba': 'nan', 'rb': ''}\n",
    "\n",
    "data_folder = '../data/'\n",
    "save_folder = '../figures/2-herding/'"
   ]
  },
  {
   "cell_type": "markdown",
   "metadata": {},
   "source": [
    "# Histogram of ratings from matched beers"
   ]
  },
  {
   "cell_type": "code",
   "execution_count": 3,
   "metadata": {},
   "outputs": [
    {
     "name": "stdout",
     "output_type": "stream",
     "text": [
      "Parse BA ratings\n",
      "Parse RB ratings\n"
     ]
    }
   ],
   "source": [
    "ratings = {'ba': [], 'rb': []}\n",
    "\n",
    "for key in ratings.keys():\n",
    "    print('Parse {} ratings'.format(key.upper()))\n",
    "    gen = parse(data_folder + 'matched/ratings_valid_{}.txt.gz'.format(key))\n",
    "    \n",
    "    for item in gen:\n",
    "        ratings[key].append(float(item['rating']))"
   ]
  },
  {
   "cell_type": "code",
   "execution_count": 4,
   "metadata": {},
   "outputs": [
    {
     "name": "stdout",
     "output_type": "stream",
     "text": [
      "289025\n",
      "1020599\n"
     ]
    }
   ],
   "source": [
    "print(len(ratings['ba']))\n",
    "print(len(ratings['rb']))"
   ]
  },
  {
   "cell_type": "code",
   "execution_count": 6,
   "metadata": {},
   "outputs": [
    {
     "data": {
      "image/png": "[encoded data removed]",
      "text/plain": [
       "<matplotlib.figure.Figure at 0x7efea26a5da0>"
      ]
     },
     "metadata": {},
     "output_type": "display_data"
    }
   ],
   "source": [
    "nbr_bins = 45\n",
    "\n",
    "bin_edges = {'ba': None, 'rb': None}\n",
    "hist = {'ba': None, 'rb': None}\n",
    "\n",
    "for key in colors.keys():\n",
    "    a, bin_edges[key] = np.histogram(ratings[key], range=(0.5, 5), bins=nbr_bins)\n",
    "    hist[key], a = np.histogram(ratings[key], range=(0.5, 5), bins=nbr_bins+1)\n",
    "    hist[key] = hist[key]/np.sum(hist[key])*100\n",
    "    \n",
    "plt.figure(figsize=(12,7))\n",
    "plt.rc('font', family='serif')\n",
    "plt.rc('font', size=17)\n",
    "\n",
    "for key in hist.keys():\n",
    "    width = bin_edges[key][1] - bin_edges[key][0]\n",
    "    plt.bar(bin_edges[key], hist[key], width = width, facecolor=colors[key], edgecolor='k', alpha=0.7, label=labels[key])\n",
    "    \n",
    "plt.grid()\n",
    "plt.legend()\n",
    "plt.ylabel('Percentage')\n",
    "plt.xlabel('Ratings')\n",
    "plt.savefig(save_folder + 'ratings_matched_beers.pdf', bbox_inches='tight')"
   ]
  },
  {
   "cell_type": "markdown",
   "metadata": {},
   "source": [
    "# Histogram of average ratings from matched beers"
   ]
  },
  {
   "cell_type": "code",
   "execution_count": 7,
   "metadata": {
    "collapsed": true
   },
   "outputs": [],
   "source": [
    "ratings = {}\n",
    "ratings['ba'] = pd.read_csv('../data/matched/beers.csv', header=[0,1])['ba']['avg_matched_valid_ratings']\n",
    "ratings['rb'] = pd.read_csv('../data/matched/beers.csv', header=[0,1])['rb']['avg_matched_valid_ratings']"
   ]
  },
  {
   "cell_type": "code",
   "execution_count": 8,
   "metadata": {},
   "outputs": [
    {
     "name": "stderr",
     "output_type": "stream",
     "text": [
      "/home/gayouf/Applications/anaconda3/lib/python3.6/site-packages/numpy/lib/function_base.py:747: RuntimeWarning: invalid value encountered in greater_equal\n",
      "  keep = (tmp_a >= mn)\n",
      "/home/gayouf/Applications/anaconda3/lib/python3.6/site-packages/numpy/lib/function_base.py:748: RuntimeWarning: invalid value encountered in less_equal\n",
      "  keep &= (tmp_a <= mx)\n"
     ]
    },
    {
     "data": {
      "image/png": "[encoded data removed]",
      "text/plain": [
       "<matplotlib.figure.Figure at 0x7efea2e68320>"
      ]
     },
     "metadata": {},
     "output_type": "display_data"
    }
   ],
   "source": [
    "df = {}\n",
    "nbr_bins = 45\n",
    "\n",
    "bin_edges = {'ba': None, 'rb': None}\n",
    "hist = {'ba': None, 'rb': None}\n",
    "\n",
    "for key in colors.keys():\n",
    "    a, bin_edges[key] = np.histogram(ratings[key], range=(0.5, 5), bins=nbr_bins)\n",
    "    hist[key], a = np.histogram(ratings[key], range=(0.5, 5), bins=nbr_bins+1)\n",
    "    hist[key] = hist[key]/np.sum(hist[key])*100\n",
    "    \n",
    "plt.figure(figsize=(12,7))\n",
    "plt.rc('font', family='serif')\n",
    "plt.rc('font', size=17)\n",
    "\n",
    "for key in hist.keys():\n",
    "    width = bin_edges[key][1] - bin_edges[key][0]\n",
    "    plt.bar(bin_edges[key], hist[key], width = width, facecolor=colors[key], edgecolor='k', alpha=0.7, label=labels[key])\n",
    "    \n",
    "plt.grid()\n",
    "plt.legend()\n",
    "plt.ylabel('Percentage')\n",
    "plt.xlabel('Ratings')\n",
    "plt.savefig(save_folder + 'average_matched_beers.pdf', bbox_inches='tight')"
   ]
  }
 ],
 "metadata": {
  "kernelspec": {
   "display_name": "Python 3",
   "language": "python",
   "name": "python3"
  },
  "language_info": {
   "codemirror_mode": {
    "name": "ipython",
    "version": 3
   },
   "file_extension": ".py",
   "mimetype": "text/x-python",
   "name": "python",
   "nbconvert_exporter": "python",
   "pygments_lexer": "ipython3",
   "version": "3.6.1"
  }
 },
 "nbformat": 4,
 "nbformat_minor": 2
}
