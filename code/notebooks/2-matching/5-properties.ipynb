{
 "cells": [
  {
   "cell_type": "code",
   "execution_count": 1,
   "metadata": {
    "collapsed": true
   },
   "outputs": [],
   "source": [
    "import os\n",
    "os.chdir('../..')"
   ]
  },
  {
   "cell_type": "code",
   "execution_count": 26,
   "metadata": {
    "collapsed": true
   },
   "outputs": [],
   "source": [
    "from classes.matching import Matching\n",
    "from classes.helpers import *\n",
    "import numpy as np\n",
    "import json\n",
    "import pandas as pd\n",
    "from datetime import datetime\n",
    "import gzip\n",
    "\n",
    "import ast\n",
    "\n",
    "# For the Python notebook\n",
    "%matplotlib inline\n",
    "%reload_ext autoreload\n",
    "%autoreload 2\n",
    "\n",
    "data_folder = '../data/'"
   ]
  },
  {
   "cell_type": "markdown",
   "metadata": {},
   "source": [
    "# Properties\n",
    "\n",
    "We check the properties between the matched beers. We try to show that the loved beers are not always the same. (Beers are indistinguishable)"
   ]
  },
  {
   "cell_type": "code",
   "execution_count": 32,
   "metadata": {},
   "outputs": [],
   "source": [
    "ts = pd.read_csv(data_folder + 'tmp/time_series_1_valid.csv', header=[0,1])\n",
    "\n",
    "# Transform strings into arrays\n",
    "for i in ts.index:\n",
    "    for key1 in ['ba', 'rb']:\n",
    "        for key2 in ['dates', 'ratings', 'z_scores']:\n",
    "            arr = ast.literal_eval(ts.loc[i][key1][key2])\n",
    "            ts.set_value(i, (key1, key2), arr)\n",
    "\n",
    "df = pd.read_csv(data_folder + 'matched/beers.csv', header=[0,1])"
   ]
  },
  {
   "cell_type": "code",
   "execution_count": 42,
   "metadata": {},
   "outputs": [],
   "source": [
    "diffs = {'ba': [], 'rb': []}\n",
    "for i in ts.index:\n",
    "    row = ts.iloc[i]\n",
    "    for key in ['rb', 'ba']:\n",
    "        diffs[key].append(row[key]['z_scores'][0])\n",
    "        \n",
    "thresholds = {}\n",
    "for key in ['ba', 'rb']:\n",
    "    thresholds[key] = {}\n",
    "    thresholds[key]['low'] = np.percentile(diffs[key], 15)\n",
    "    thresholds[key]['high'] = np.percentile(diffs[key], 85)\n",
    "    \n",
    "for key in ['ba', 'rb']:\n",
    "    tmp = []\n",
    "    nbr_rats = []\n",
    "    \n",
    "    for i in ts.index:      \n",
    "        if diffs[key][i] > thresholds[key]['high']:\n",
    "            tmp.append('H')\n",
    "        elif diffs[key][i] >= thresholds[key]['low']:\n",
    "            tmp.append('M')\n",
    "        else:\n",
    "            tmp.append('L')\n",
    "            \n",
    "        nbr_rats.append(len(ts.loc[i][key]['ratings']))\n",
    "\n",
    "    ts.loc[:, ((key, 'class'))] = tmp\n",
    "    ts.loc[:, ((key, 'nbr_ratings'))] = nbr_rats"
   ]
  },
  {
   "cell_type": "markdown",
   "metadata": {},
   "source": [
    "### Classes (Check)"
   ]
  },
  {
   "cell_type": "code",
   "execution_count": 37,
   "metadata": {},
   "outputs": [],
   "source": [
    "classes = {}\n",
    "\n",
    "for i in ts.index:    \n",
    "    ba = diffs['ba'][i]\n",
    "    rb = diffs['rb'][i]\n",
    "\n",
    "\n",
    "    if ba > thresholds['ba']['high']:\n",
    "        class_ = 'H'\n",
    "    elif ba >= thresholds['ba']['low']:\n",
    "        class_ = 'M'\n",
    "    else:\n",
    "        class_ = 'L'\n",
    "\n",
    "    class_ += '-'\n",
    "\n",
    "    if rb > thresholds['rb']['high']:\n",
    "        class_ += 'H'\n",
    "    elif rb >= thresholds['rb']['low']:\n",
    "        class_ += 'M'\n",
    "    else:\n",
    "        class_ += 'L' \n",
    "\n",
    "    if class_ not in classes.keys():\n",
    "        classes[class_] = 0\n",
    "\n",
    "    classes[class_] += 1"
   ]
  },
  {
   "cell_type": "code",
   "execution_count": 41,
   "metadata": {},
   "outputs": [
    {
     "data": {
      "text/plain": [
       "{'H-H': 1290,\n",
       " 'H-L': 300,\n",
       " 'H-M': 2499,\n",
       " 'L-H': 234,\n",
       " 'L-L': 1351,\n",
       " 'L-M': 2529,\n",
       " 'M-H': 2560,\n",
       " 'M-L': 2451,\n",
       " 'M-M': 14218}"
      ]
     },
     "execution_count": 41,
     "metadata": {},
     "output_type": "execute_result"
    }
   ],
   "source": [
    "classes"
   ]
  },
  {
   "cell_type": "markdown",
   "metadata": {},
   "source": [
    "### Isolate the beers"
   ]
  },
  {
   "cell_type": "code",
   "execution_count": 46,
   "metadata": {
    "collapsed": true
   },
   "outputs": [],
   "source": [
    "h_ba_l_rb = ts[(ts['ba']['class'] == 'H') & (ts['rb']['class'] == 'L')]\n",
    "l_ba_h_rb = ts[(ts['ba']['class'] == 'L') & (ts['rb']['class'] == 'H')]"
   ]
  },
  {
   "cell_type": "code",
   "execution_count": 50,
   "metadata": {},
   "outputs": [],
   "source": [
    "h_ba_id = np.array(h_ba_l_rb['ba']['beer_id'])\n",
    "l_ba_id = np.array(l_ba_h_rb['ba']['beer_id'])"
   ]
  },
  {
   "cell_type": "code",
   "execution_count": 54,
   "metadata": {},
   "outputs": [],
   "source": [
    "h_ba = df[df['ba']['beer_id'].isin(h_ba_id)]['ba'][['style', 'abv', 'beer_name', 'brewery_name']]\n",
    "l_ba = df[df['ba']['beer_id'].isin(l_ba_id)]['ba'][['style', 'abv', 'beer_name', 'brewery_name']]"
   ]
  },
  {
   "cell_type": "markdown",
   "metadata": {},
   "source": [
    "### Style"
   ]
  },
  {
   "cell_type": "code",
   "execution_count": null,
   "metadata": {
    "collapsed": true
   },
   "outputs": [],
   "source": []
  },
  {
   "cell_type": "code",
   "execution_count": 63,
   "metadata": {},
   "outputs": [
    {
     "data": {
      "text/plain": [
       "count              300\n",
       "unique              74\n",
       "top       American IPA\n",
       "freq                28\n",
       "Name: style, dtype: object"
      ]
     },
     "execution_count": 63,
     "metadata": {},
     "output_type": "execute_result"
    }
   ],
   "source": [
    "h_ba['style'].describe()"
   ]
  },
  {
   "cell_type": "code",
   "execution_count": 64,
   "metadata": {},
   "outputs": [
    {
     "data": {
      "text/plain": [
       "count              234\n",
       "unique              69\n",
       "top       American IPA\n",
       "freq                20\n",
       "Name: style, dtype: object"
      ]
     },
     "execution_count": 64,
     "metadata": {},
     "output_type": "execute_result"
    }
   ],
   "source": [
    "l_ba['style'].describe()"
   ]
  },
  {
   "cell_type": "code",
   "execution_count": 68,
   "metadata": {},
   "outputs": [
    {
     "data": {
      "text/plain": [
       "American IPA                      28\n",
       "American Amber / Red Ale          16\n",
       "American Double / Imperial IPA    15\n",
       "American Pale Ale (APA)           15\n",
       "Saison / Farmhouse Ale            13\n",
       "Fruit / Vegetable Beer            10\n",
       "American Wild Ale                 10\n",
       "American Stout                     9\n",
       "English Pale Ale                   8\n",
       "German Pilsener                    8\n",
       "Name: style, dtype: int64"
      ]
     },
     "execution_count": 68,
     "metadata": {},
     "output_type": "execute_result"
    }
   ],
   "source": [
    "h_ba['style'].value_counts().head(10)"
   ]
  },
  {
   "cell_type": "code",
   "execution_count": 69,
   "metadata": {},
   "outputs": [
    {
     "data": {
      "text/plain": [
       "American IPA                      20\n",
       "Saison / Farmhouse Ale            16\n",
       "American Wild Ale                 14\n",
       "American Double / Imperial IPA    13\n",
       "American Pale Ale (APA)            8\n",
       "American Stout                     7\n",
       "American Blonde Ale                7\n",
       "Russian Imperial Stout             7\n",
       "American Porter                    6\n",
       "English Porter                     6\n",
       "Name: style, dtype: int64"
      ]
     },
     "execution_count": 69,
     "metadata": {},
     "output_type": "execute_result"
    }
   ],
   "source": [
    "l_ba['style'].value_counts().head(10)"
   ]
  },
  {
   "cell_type": "markdown",
   "metadata": {},
   "source": [
    "### ABV"
   ]
  },
  {
   "cell_type": "code",
   "execution_count": 70,
   "metadata": {},
   "outputs": [
    {
     "data": {
      "text/plain": [
       "count    300.000000\n",
       "mean       6.288433\n",
       "std        2.057763\n",
       "min        2.500000\n",
       "25%        5.000000\n",
       "50%        5.750000\n",
       "75%        7.500000\n",
       "max       15.000000\n",
       "Name: abv, dtype: float64"
      ]
     },
     "execution_count": 70,
     "metadata": {},
     "output_type": "execute_result"
    }
   ],
   "source": [
    "h_ba['abv'].describe()"
   ]
  },
  {
   "cell_type": "code",
   "execution_count": 71,
   "metadata": {},
   "outputs": [
    {
     "data": {
      "text/plain": [
       "count    234.000000\n",
       "mean       7.038120\n",
       "std        2.447357\n",
       "min        2.400000\n",
       "25%        5.200000\n",
       "50%        6.400000\n",
       "75%        8.500000\n",
       "max       16.000000\n",
       "Name: abv, dtype: float64"
      ]
     },
     "execution_count": 71,
     "metadata": {},
     "output_type": "execute_result"
    }
   ],
   "source": [
    "l_ba['abv'].describe()"
   ]
  },
  {
   "cell_type": "code",
   "execution_count": 72,
   "metadata": {},
   "outputs": [
    {
     "data": {
      "text/plain": [
       "5.0    32\n",
       "6.0    16\n",
       "5.5    15\n",
       "4.5    13\n",
       "6.5    13\n",
       "8.0    10\n",
       "7.0     9\n",
       "7.5     8\n",
       "5.2     8\n",
       "4.7     8\n",
       "Name: abv, dtype: int64"
      ]
     },
     "execution_count": 72,
     "metadata": {},
     "output_type": "execute_result"
    }
   ],
   "source": [
    "h_ba['abv'].value_counts().head(10)"
   ]
  },
  {
   "cell_type": "code",
   "execution_count": 73,
   "metadata": {},
   "outputs": [
    {
     "data": {
      "text/plain": [
       "5.0     18\n",
       "5.5     16\n",
       "7.0     14\n",
       "6.5     10\n",
       "5.2      9\n",
       "4.8      8\n",
       "8.0      7\n",
       "12.0     6\n",
       "9.0      6\n",
       "7.5      6\n",
       "Name: abv, dtype: int64"
      ]
     },
     "execution_count": 73,
     "metadata": {},
     "output_type": "execute_result"
    }
   ],
   "source": [
    "l_ba['abv'].value_counts().head(10)"
   ]
  },
  {
   "cell_type": "markdown",
   "metadata": {},
   "source": [
    "### Brewery"
   ]
  },
  {
   "cell_type": "code",
   "execution_count": 74,
   "metadata": {},
   "outputs": [
    {
     "data": {
      "text/plain": [
       "count                         300\n",
       "unique                        277\n",
       "top       Equinox Brewing Company\n",
       "freq                            6\n",
       "Name: brewery_name, dtype: object"
      ]
     },
     "execution_count": 74,
     "metadata": {},
     "output_type": "execute_result"
    }
   ],
   "source": [
    "h_ba['brewery_name'].describe()"
   ]
  },
  {
   "cell_type": "code",
   "execution_count": 75,
   "metadata": {},
   "outputs": [
    {
     "data": {
      "text/plain": [
       "count       234\n",
       "unique      210\n",
       "top       To Øl\n",
       "freq          3\n",
       "Name: brewery_name, dtype: object"
      ]
     },
     "execution_count": 75,
     "metadata": {},
     "output_type": "execute_result"
    }
   ],
   "source": [
    "l_ba['brewery_name'].describe()"
   ]
  },
  {
   "cell_type": "code",
   "execution_count": 76,
   "metadata": {},
   "outputs": [
    {
     "data": {
      "text/plain": [
       "Equinox Brewing Company                      6\n",
       "J. Wakefield Brewing                         3\n",
       "Brauerei Ried                                2\n",
       "Shebeen Brewing Company                      2\n",
       "Jester King Brewery                          2\n",
       "Pateros Creek Brewing Co.                    2\n",
       "Sixpoint Brewery                             2\n",
       "Empyrean Brewing Company                     2\n",
       "D9 Brewing Company                           2\n",
       "Herzoglich Bayerisches Brauhaus Tegernsee    2\n",
       "Name: brewery_name, dtype: int64"
      ]
     },
     "execution_count": 76,
     "metadata": {},
     "output_type": "execute_result"
    }
   ],
   "source": [
    "h_ba['brewery_name'].value_counts().head(10)"
   ]
  },
  {
   "cell_type": "code",
   "execution_count": 77,
   "metadata": {},
   "outputs": [
    {
     "data": {
      "text/plain": [
       "To Øl                           3\n",
       "Silverton Brewery               2\n",
       "Angry Chair Brewing             2\n",
       "Birrificio L'Orso Verde         2\n",
       "Renegade Brewing Company        2\n",
       "Southern Bay Brewing Company    2\n",
       "Tempel Brygghus                 2\n",
       "Brasserie Cantillon             2\n",
       "AleSmith Brewing Company        2\n",
       "Shady Oak Barrel House          2\n",
       "Name: brewery_name, dtype: int64"
      ]
     },
     "execution_count": 77,
     "metadata": {},
     "output_type": "execute_result"
    }
   ],
   "source": [
    "l_ba['brewery_name'].value_counts().head(10)"
   ]
  },
  {
   "cell_type": "code",
   "execution_count": 87,
   "metadata": {},
   "outputs": [
    {
     "data": {
      "text/plain": [
       "{'August Schell Brewing Company',\n",
       " 'Beerbliotek',\n",
       " 'Brasserie Cantillon',\n",
       " 'Brasserie Fantôme',\n",
       " 'Brauerei Hirt GmbH',\n",
       " 'Brouwerij Anders',\n",
       " 'Burnt City Brewing',\n",
       " 'Buxton Brewery',\n",
       " 'Cape Cod Beer',\n",
       " 'Dead Frog Brewing',\n",
       " 'Feral Brewing Co.',\n",
       " 'Half Acre Beer Company',\n",
       " 'Interboro Spirits and Ales',\n",
       " 'Marz Community Brewing',\n",
       " 'Rockyard Brewing',\n",
       " 'The North Brewery'}"
      ]
     },
     "execution_count": 87,
     "metadata": {},
     "output_type": "execute_result"
    }
   ],
   "source": [
    "(set(h_ba['brewery_name']) & set(l_ba['brewery_name']))"
   ]
  },
  {
   "cell_type": "code",
   "execution_count": 89,
   "metadata": {},
   "outputs": [
    {
     "data": {
      "text/plain": [
       "7.6190476190476195"
      ]
     },
     "execution_count": 89,
     "metadata": {},
     "output_type": "execute_result"
    }
   ],
   "source": [
    "16/min(len(set(h_ba['brewery_name'])), len(set(l_ba['brewery_name'])))*100"
   ]
  },
  {
   "cell_type": "markdown",
   "metadata": {},
   "source": [
    "### Provenance"
   ]
  },
  {
   "cell_type": "code",
   "execution_count": 90,
   "metadata": {
    "collapsed": true
   },
   "outputs": [],
   "source": [
    "brew = pd.read_csv(data_folder + 'ba/breweries.csv')"
   ]
  },
  {
   "cell_type": "code",
   "execution_count": 111,
   "metadata": {},
   "outputs": [],
   "source": [
    "locations = []\n",
    "for i in h_ba.index:\n",
    "    brew_name = h_ba.loc[i]['brewery_name']\n",
    "    \n",
    "    subdf = brew[brew['name'] == brew_name]['location']\n",
    "    \n",
    "    loc = subdf.loc[subdf.index[0]]\n",
    "    \n",
    "    if 'United States' in loc:\n",
    "        loc = 'United States'\n",
    "        \n",
    "    locations.append(loc)\n",
    "    \n",
    "h_ba['location'] = locations\n",
    "\n",
    "locations = []\n",
    "for i in l_ba.index:\n",
    "    brew_name = l_ba.loc[i]['brewery_name']\n",
    "    \n",
    "    subdf = brew[brew['name'] == brew_name]['location']\n",
    "    \n",
    "    loc = subdf.loc[subdf.index[0]]\n",
    "    \n",
    "    if 'United States' in loc:\n",
    "        loc = 'United States'\n",
    "        \n",
    "    locations.append(loc)\n",
    "    \n",
    "l_ba['location'] = locations"
   ]
  },
  {
   "cell_type": "code",
   "execution_count": 113,
   "metadata": {},
   "outputs": [
    {
     "data": {
      "text/plain": [
       "count               300\n",
       "unique               27\n",
       "top       United States\n",
       "freq                208\n",
       "Name: location, dtype: object"
      ]
     },
     "execution_count": 113,
     "metadata": {},
     "output_type": "execute_result"
    }
   ],
   "source": [
    "h_ba['location'].describe()"
   ]
  },
  {
   "cell_type": "code",
   "execution_count": 114,
   "metadata": {},
   "outputs": [
    {
     "data": {
      "text/plain": [
       "count               234\n",
       "unique               26\n",
       "top       United States\n",
       "freq                123\n",
       "Name: location, dtype: object"
      ]
     },
     "execution_count": 114,
     "metadata": {},
     "output_type": "execute_result"
    }
   ],
   "source": [
    "l_ba['location'].describe()"
   ]
  },
  {
   "cell_type": "code",
   "execution_count": 115,
   "metadata": {},
   "outputs": [
    {
     "data": {
      "text/plain": [
       "United States    208\n",
       "Canada            16\n",
       "Belgium           12\n",
       "England           11\n",
       "Germany           11\n",
       "Austria            5\n",
       "Australia          5\n",
       "Ireland            5\n",
       "Sweden             4\n",
       "Spain              3\n",
       "Name: location, dtype: int64"
      ]
     },
     "execution_count": 115,
     "metadata": {},
     "output_type": "execute_result"
    }
   ],
   "source": [
    "h_ba['location'].value_counts().head(10)"
   ]
  },
  {
   "cell_type": "code",
   "execution_count": 116,
   "metadata": {},
   "outputs": [
    {
     "data": {
      "text/plain": [
       "United States    123\n",
       "England           15\n",
       "Canada            14\n",
       "Italy             10\n",
       "Australia         10\n",
       "Sweden             9\n",
       "Denmark            6\n",
       "Germany            6\n",
       "Belgium            6\n",
       "Poland             4\n",
       "Name: location, dtype: int64"
      ]
     },
     "execution_count": 116,
     "metadata": {},
     "output_type": "execute_result"
    }
   ],
   "source": [
    "l_ba['location'].value_counts().head(10)"
   ]
  }
 ],
 "metadata": {
  "kernelspec": {
   "display_name": "Python 3",
   "language": "python",
   "name": "python3"
  },
  "language_info": {
   "codemirror_mode": {
    "name": "ipython",
    "version": 3
   },
   "file_extension": ".py",
   "mimetype": "text/x-python",
   "name": "python",
   "nbconvert_exporter": "python",
   "pygments_lexer": "ipython3",
   "version": "3.6.1"
  }
 },
 "nbformat": 4,
 "nbformat_minor": 2
}
