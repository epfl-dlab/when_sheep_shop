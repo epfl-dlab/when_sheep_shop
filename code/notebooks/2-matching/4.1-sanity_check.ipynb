{
 "cells": [
  {
   "cell_type": "code",
   "execution_count": 1,
   "metadata": {
    "collapsed": true
   },
   "outputs": [],
   "source": [
    "import os\n",
    "os.chdir('../..')"
   ]
  },
  {
   "cell_type": "code",
   "execution_count": 2,
   "metadata": {},
   "outputs": [
    {
     "name": "stderr",
     "output_type": "stream",
     "text": [
      "/home/gayouf/Applications/anaconda3/lib/python3.6/site-packages/statsmodels/compat/pandas.py:56: FutureWarning: The pandas.core.datetools module is deprecated and will be removed in a future version. Please use the pandas.tseries module instead.\n",
      "  from pandas.core import datetools\n"
     ]
    }
   ],
   "source": [
    "import numpy as np\n",
    "import json\n",
    "import pandas as pd\n",
    "import time\n",
    "\n",
    "import statsmodels.api as sm\n",
    "\n",
    "import matplotlib.pyplot as plt\n",
    "from matplotlib.ticker import FuncFormatter\n",
    "import matplotlib\n",
    "matplotlib.rcParams['text.usetex'] = True\n",
    "matplotlib.rcParams['text.latex.unicode'] = True\n",
    "\n",
    "from classes.helpers import *\n",
    "\n",
    "# For the Python notebook\n",
    "%matplotlib inline\n",
    "%reload_ext autoreload\n",
    "%autoreload 2\n",
    "\n",
    "colors = {'ba': (232/255,164/255,29/255), 'rb': (0/255,152/255,205/255)}\n",
    "labels = {'ba': 'BeerAdvocate', 'rb': 'RateBeer'}\n",
    "\n",
    "data_folder = '../data/'\n",
    "save_folder = '../figures/all/2-matching/'\n",
    "\n",
    "func = [lambda x: np.percentile(x, 10), \n",
    "        lambda x: np.percentile(x, 25), \n",
    "        lambda x: np.percentile(x, 50), \n",
    "        lambda x: np.percentile(x, 75),\n",
    "        lambda x: np.percentile(x, 90),\n",
    "        lambda x: np.mean(x),\n",
    "        lambda x: np.std(x)]\n",
    "\n",
    "names = ['Quantile 10',\n",
    "         'Quantile 25',\n",
    "         'Quantile 50',\n",
    "         'Quantile 75',\n",
    "         'Quantile 90',\n",
    "         'Average',\n",
    "         'STD']"
   ]
  },
  {
   "cell_type": "markdown",
   "metadata": {},
   "source": [
    "# Sanity Check for the Matching"
   ]
  },
  {
   "cell_type": "markdown",
   "metadata": {},
   "source": [
    "## Average rating"
   ]
  },
  {
   "cell_type": "code",
   "execution_count": 92,
   "metadata": {
    "collapsed": true
   },
   "outputs": [],
   "source": [
    "min_nbr_ratings = 5\n",
    "matched = pd.read_csv(data_folder + 'matched/beers.csv', header=[0,1])\n",
    "matched = matched[(matched['ba']['nbr_ratings'] >= min_nbr_ratings) & (matched['rb']['nbr_ratings'] >= min_nbr_ratings)]\n",
    "\n",
    "df = {}\n",
    "\n",
    "df['ba'] = pd.read_csv(data_folder + 'ba/beers.csv')\n",
    "df['ba'] = df['ba'][df['ba']['nbr_ratings'] >= min_nbr_ratings]\n",
    "\n",
    "df['rb'] = pd.read_csv(data_folder + 'rb/beers.csv')\n",
    "df['rb'] = df['rb'][df['rb']['nbr_ratings'] >= min_nbr_ratings]"
   ]
  },
  {
   "cell_type": "code",
   "execution_count": 93,
   "metadata": {
    "scrolled": false
   },
   "outputs": [
    {
     "data": {
      "image/png": "[encoded data removed]",
      "text/plain": [
       "<matplotlib.figure.Figure at 0x7f6c2d7ded30>"
      ]
     },
     "metadata": {},
     "output_type": "display_data"
    }
   ],
   "source": [
    "plt.figure(figsize=(12,7))\n",
    "plt.rc('font', family='libertine')\n",
    "plt.rc('font', size=22)\n",
    "    \n",
    "plt.boxplot([df['ba']['avg_computed'], matched['ba']['avg_computed'], df['rb']['avg_computed'], matched['rb']['avg_computed']], notch=False, showmeans=False, meanline=True)\n",
    "plt.grid()\n",
    "plt.ylabel('Ratings')\n",
    "plt.plot([2.5, 2.5], [0.5, 5], 'k--')\n",
    "plt.xticks([1, 2, 3, 4], ['All beers', 'Matched beers', 'All beers', 'Matched beers'])\n",
    "\n",
    "plt.text(1.5, 4.94, 'BeerAdvocate', \n",
    "         horizontalalignment='center', verticalalignment='top',\n",
    "         bbox={'facecolor':'white', 'alpha':0.8, 'pad':5})\n",
    "plt.text(3.5, 4.94, 'RateBeer', \n",
    "         horizontalalignment='center', verticalalignment='top',\n",
    "         bbox={'facecolor':'white', 'alpha':0.8, 'pad':5})\n",
    "plt.ylim([0.5, 5])\n",
    "plt.yticks(list(np.arange(0.5, 5.5, 0.5)), list(np.arange(0.5, 5.5, 0.5)))\n",
    "plt.savefig(save_folder + 'boxplots_ratings.pdf', bbox_inches='tight')"
   ]
  },
  {
   "cell_type": "markdown",
   "metadata": {},
   "source": [
    "## Number ratings per beer"
   ]
  },
  {
   "cell_type": "code",
   "execution_count": 83,
   "metadata": {
    "collapsed": true
   },
   "outputs": [],
   "source": [
    "matched = pd.read_csv(data_folder + 'matched/beers.csv', header=[0,1])\n",
    "\n",
    "df = {}\n",
    "\n",
    "df['ba'] = pd.read_csv(data_folder + 'ba/beers.csv')\n",
    "df['rb'] = pd.read_csv(data_folder + 'rb/beers.csv')"
   ]
  },
  {
   "cell_type": "code",
   "execution_count": 85,
   "metadata": {
    "scrolled": false
   },
   "outputs": [
    {
     "data": {
      "image/png": "[encoded data removed]",
      "text/plain": [
       "<matplotlib.figure.Figure at 0x7f6c260f1cc0>"
      ]
     },
     "metadata": {},
     "output_type": "display_data"
    }
   ],
   "source": [
    "data = []\n",
    "for key in df.keys():   \n",
    "    arr1 = np.array(df[key]['nbr_ratings'])\n",
    "    arr1 = arr1[arr1>0]\n",
    "    \n",
    "    arr2 = np.array(matched[key]['nbr_ratings'])\n",
    "    arr2 = arr2[arr2>0]\n",
    "    \n",
    "    data.append(np.log10(arr1))\n",
    "    data.append(np.log10(arr2))\n",
    "    \n",
    "# BOXPLOTS\n",
    "plt.figure(figsize=(12,7))\n",
    "plt.rc('font', family='libertine')\n",
    "plt.rc('font', size=22)\n",
    "\n",
    "plt.boxplot(data, notch=False, showmeans=False, meanline=True)\n",
    "plt.grid()\n",
    "plt.ylabel('Log$_{10}$ of Number of ratings per beer')\n",
    "\n",
    "plt.plot([2.5, 2.5], [-0.2, 4.5], 'k--')\n",
    "plt.xticks([1, 2, 3, 4], ['All beers', 'Matched beers', 'All beers', 'Matched beers'])\n",
    "plt.text(1.5, 4.44, 'BeerAdvocate', \n",
    "         horizontalalignment='center', verticalalignment='top',\n",
    "         bbox={'facecolor':'white', 'alpha':0.8, 'pad':5})\n",
    "plt.text(3.5, 4.44, 'RateBeer', \n",
    "         horizontalalignment='center', verticalalignment='top',\n",
    "         bbox={'facecolor':'white', 'alpha':0.8, 'pad':5})\n",
    "plt.ylim([-0.2, 4.5])\n",
    "plt.yticks(list(np.arange(0, 5, 0.5)), list(np.arange(0, 5, 0.5)))\n",
    "\n",
    "plt.savefig(save_folder + 'boxplots_nbr_ratings.pdf', bbox_inches='tight')    "
   ]
  },
  {
   "cell_type": "markdown",
   "metadata": {},
   "source": [
    "## Number beers per brewery"
   ]
  },
  {
   "cell_type": "code",
   "execution_count": 86,
   "metadata": {
    "collapsed": true
   },
   "outputs": [],
   "source": [
    "df = {}\n",
    "\n",
    "df['ba'] = pd.read_csv(data_folder + 'ba/breweries.csv')\n",
    "df['rb'] = pd.read_csv(data_folder + 'rb/breweries.csv')\n",
    "\n",
    "matched = pd.read_csv(data_folder + 'matched/breweries.csv', header=[0,1])"
   ]
  },
  {
   "cell_type": "code",
   "execution_count": 89,
   "metadata": {
    "scrolled": false
   },
   "outputs": [
    {
     "data": {
      "image/png": "[encoded data removed]",
      "text/plain": [
       "<matplotlib.figure.Figure at 0x7f6c24296f60>"
      ]
     },
     "metadata": {},
     "output_type": "display_data"
    }
   ],
   "source": [
    "data = []\n",
    "for key in df.keys():    \n",
    "    \n",
    "    arr1 = np.array(df[key]['nbr_beers'])\n",
    "    arr1 = arr1[arr1>0]\n",
    "    \n",
    "    arr2 = np.array(matched[key]['nbr_beers'])\n",
    "    arr2 = arr2[arr2>0]\n",
    "    \n",
    "    data.append(np.log10(arr1))\n",
    "    data.append(np.log10(arr2))\n",
    "\n",
    "plt.figure(figsize=(12,7))\n",
    "plt.rc('font', family='libertine')\n",
    "plt.rc('font', size=22)\n",
    "\n",
    "plt.boxplot(data, notch=False, showmeans=False, meanline=True)\n",
    "plt.grid()\n",
    "plt.ylabel('Log$_{10}$ Number of beers per breweries')\n",
    "\n",
    "plt.plot([2.5, 2.5], [-0.2, 3.2], 'k--')\n",
    "plt.xticks([1, 2, 3, 4], ['All beers', 'Matched beers', 'All beers', 'Matched beers'])\n",
    "plt.text(1.5, 3.15, 'BeerAdvocate', \n",
    "         horizontalalignment='center', verticalalignment='top',\n",
    "         bbox={'facecolor':'white', 'alpha':0.8, 'pad':5})\n",
    "plt.text(3.5, 3.15, 'RateBeer', \n",
    "         horizontalalignment='center', verticalalignment='top',\n",
    "         bbox={'facecolor':'white', 'alpha':0.8, 'pad':5})\n",
    "plt.ylim([-0.2, 3.2])\n",
    "\n",
    "plt.savefig(save_folder + 'boxplots_nbr_beers_breweries.pdf', bbox_inches='tight')    "
   ]
  },
  {
   "cell_type": "markdown",
   "metadata": {},
   "source": [
    "## Numbers breweries per country"
   ]
  },
  {
   "cell_type": "code",
   "execution_count": 65,
   "metadata": {
    "collapsed": true
   },
   "outputs": [],
   "source": [
    "matched = pd.read_csv(data_folder + 'matched/breweries.csv', header=[0,1])\n",
    "ba = pd.read_csv(data_folder + 'ba/breweries.csv')\n",
    "rb = pd.read_csv(data_folder + 'rb/breweries.csv')\n",
    "\n",
    "def perc_country(arr, country):\n",
    "    locs = np.array(arr)\n",
    "    spec = []\n",
    "    for l in locs:\n",
    "        if country in l:\n",
    "            spec.append(l)\n",
    "\n",
    "    return len(spec)/len(locs)*100"
   ]
  },
  {
   "cell_type": "code",
   "execution_count": 66,
   "metadata": {},
   "outputs": [
    {
     "name": "stdout",
     "output_type": "stream",
     "text": [
      "United State:\n",
      "  Unmatched:\n",
      "    BA: 44.4\n",
      "    RB: 28.6\n",
      "  Matched:\n",
      "    Both: 47.8\n",
      "\n",
      "Germany:\n",
      "  Unmatched:\n",
      "    BA: 8.5\n",
      "    RB: 8.3\n",
      "  Matched:\n",
      "    Both: 6.4\n",
      "\n",
      "England:\n",
      "  Unmatched:\n",
      "    BA: 6.1\n",
      "    RB: 8.8\n",
      "  Matched:\n",
      "    Both: 5.8\n",
      "\n",
      "Canada:\n",
      "  Unmatched:\n",
      "    BA: 5.1\n",
      "    RB: 3.7\n",
      "  Matched:\n",
      "    Both: 4.9\n",
      "\n",
      "Italy:\n",
      "  Unmatched:\n",
      "    BA: 2.2\n",
      "    RB: 4.3\n",
      "  Matched:\n",
      "    Both: 2.7\n",
      "\n",
      "Belgium:\n",
      "  Unmatched:\n",
      "    BA: 2.0\n",
      "    RB: 1.9\n",
      "  Matched:\n",
      "    Both: 2.5\n",
      "\n",
      "France:\n",
      "  Unmatched:\n",
      "    BA: 2.4\n",
      "    RB: 3.5\n",
      "  Matched:\n",
      "    Both: 2.3\n",
      "\n",
      "Spain:\n",
      "  Unmatched:\n",
      "    BA: 1.9\n",
      "    RB: 3.2\n",
      "  Matched:\n",
      "    Both: 2.3\n",
      "\n",
      "Australia:\n",
      "  Unmatched:\n",
      "    BA: 2.4\n",
      "    RB: 2.3\n",
      "  Matched:\n",
      "    Both: 2.2\n",
      "\n",
      "Netherlands:\n",
      "  Unmatched:\n",
      "    BA: 1.5\n",
      "    RB: 2.2\n",
      "  Matched:\n",
      "    Both: 2.1\n",
      "\n",
      "Switzerland:\n",
      "  Unmatched:\n",
      "    BA: 0.7\n",
      "    RB: 2.2\n",
      "  Matched:\n",
      "    Both: 0.7\n",
      "\n"
     ]
    }
   ],
   "source": [
    "countries = ['United State', 'Germany', 'England', 'Canada', 'Italy', 'Belgium', 'France', 'Spain', 'Australia', 'Netherlands', 'Switzerland']\n",
    "for c in countries:\n",
    "    print('{}:'.format(c))\n",
    "    print('  Unmatched:')\n",
    "    print('    BA: {:.1f}'.format(perc_country(ba['location'], c)))\n",
    "    print('    RB: {:.1f}'.format(perc_country(rb['location'], c)))\n",
    "    print('  Matched:')\n",
    "    print('    Both: {:.1f}'.format(perc_country(matched['ba']['location'], c)))\n",
    "    print()\n"
   ]
  },
  {
   "cell_type": "code",
   "execution_count": 16,
   "metadata": {
    "collapsed": true
   },
   "outputs": [],
   "source": [
    "matched = pd.read_csv(data_folder + 'matched/beers.csv', header=[0,1])\n",
    "ba = pd.read_csv(data_folder + 'ba/beers.csv')\n",
    "\n",
    "def perc_style(arr, style):\n",
    "    locs = np.array(arr)\n",
    "    spec = []\n",
    "    for l in locs:\n",
    "        if style in l:\n",
    "            spec.append(l)\n",
    "\n",
    "    return len(spec)/len(locs)*100"
   ]
  },
  {
   "cell_type": "code",
   "execution_count": 18,
   "metadata": {},
   "outputs": [
    {
     "name": "stdout",
     "output_type": "stream",
     "text": [
      "American IPA:\n",
      "  Unmatched: 10.8\n",
      "  Matched: 12.1\n",
      "\n",
      "American Pale Ale (APA):\n",
      "  Unmatched: 6.2\n",
      "  Matched: 6.8\n",
      "\n",
      "Saison / Farmhouse Ale:\n",
      "  Unmatched: 5.0\n",
      "  Matched: 5.9\n",
      "\n",
      "American Double / Imperial IPA:\n",
      "  Unmatched: 4.4\n",
      "  Matched: 5.0\n",
      "\n",
      "American Wild Ale:\n",
      "  Unmatched: 3.2\n",
      "  Matched: 3.4\n",
      "\n",
      "American Amber / Red Ale:\n",
      "  Unmatched: 3.1\n",
      "  Matched: 3.1\n",
      "\n",
      "American Porter:\n",
      "  Unmatched: 3.3\n",
      "  Matched: 3.0\n",
      "\n",
      "American Stout:\n",
      "  Unmatched: 2.6\n",
      "  Matched: 2.6\n",
      "\n",
      "American Blonde Ale:\n",
      "  Unmatched: 2.0\n",
      "  Matched: 2.3\n",
      "\n",
      "Fruit / Vegetable Beer:\n",
      "  Unmatched: 2.2\n",
      "  Matched: 2.1\n",
      "\n"
     ]
    }
   ],
   "source": [
    "styles = ['American IPA', 'American Pale Ale (APA)', 'Saison / Farmhouse Ale', 'American Double / Imperial IPA',\n",
    "          'American Wild Ale', 'American Amber / Red Ale', 'American Porter', 'American Stout', 'American Blonde Ale', \n",
    "         'Fruit / Vegetable Beer']\n",
    "for s in styles:\n",
    "    print('{}:'.format(s))\n",
    "    print('  Unmatched: {:.1f}'.format(perc_style(ba['style'], s)))\n",
    "    print('  Matched: {:.1f}'.format(perc_style(matched['ba']['style'], s)))\n",
    "    print()"
   ]
  },
  {
   "cell_type": "code",
   "execution_count": 7,
   "metadata": {},
   "outputs": [
    {
     "data": {
      "text/plain": [
       "94"
      ]
     },
     "execution_count": 7,
     "metadata": {},
     "output_type": "execute_result"
    }
   ],
   "source": [
    "len(rb['style'].unique())"
   ]
  },
  {
   "cell_type": "code",
   "execution_count": 9,
   "metadata": {},
   "outputs": [
    {
     "data": {
      "text/plain": [
       "104"
      ]
     },
     "execution_count": 9,
     "metadata": {},
     "output_type": "execute_result"
    }
   ],
   "source": [
    "len(ba['style'].unique())"
   ]
  },
  {
   "cell_type": "code",
   "execution_count": null,
   "metadata": {
    "collapsed": true
   },
   "outputs": [],
   "source": []
  }
 ],
 "metadata": {
  "kernelspec": {
   "display_name": "Python 3",
   "language": "python",
   "name": "python3"
  },
  "language_info": {
   "codemirror_mode": {
    "name": "ipython",
    "version": 3
   },
   "file_extension": ".py",
   "mimetype": "text/x-python",
   "name": "python",
   "nbconvert_exporter": "python",
   "pygments_lexer": "ipython3",
   "version": "3.6.1"
  }
 },
 "nbformat": 4,
 "nbformat_minor": 2
}
