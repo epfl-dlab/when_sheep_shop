{
 "cells": [
  {
   "cell_type": "code",
   "execution_count": 1,
   "metadata": {
    "collapsed": true
   },
   "outputs": [],
   "source": [
    "import os\n",
    "os.chdir('../..')"
   ]
  },
  {
   "cell_type": "code",
   "execution_count": 41,
   "metadata": {
    "collapsed": true
   },
   "outputs": [],
   "source": [
    "from classes.matching import Matching\n",
    "from classes.helpers import *\n",
    "import numpy as np\n",
    "import json\n",
    "import pandas as pd\n",
    "from datetime import datetime\n",
    "import gzip\n",
    "\n",
    "# For the Python notebook\n",
    "%matplotlib inline\n",
    "%reload_ext autoreload\n",
    "%autoreload 2\n",
    "\n",
    "data_folder = '../data/'\n",
    "\n",
    "notext = {'ba': 'nan', 'rb': ''}\n"
   ]
  },
  {
   "cell_type": "markdown",
   "metadata": {},
   "source": [
    "# Create files for valid ratings"
   ]
  },
  {
   "cell_type": "code",
   "execution_count": 36,
   "metadata": {},
   "outputs": [
    {
     "name": "stdout",
     "output_type": "stream",
     "text": [
      "Parse BA ratings\n",
      "Parse RB ratings\n"
     ]
    }
   ],
   "source": [
    "for key in ['ba', 'rb']:\n",
    "    print('Parse {} ratings'.format(key.upper()))\n",
    "    gen = parse(data_folder + key + '/ratings.txt.gz')\n",
    "    \n",
    "    file_ = gzip.open(data_folder + key + '/ratings_valid.txt.gz', 'wb')\n",
    "\n",
    "    for item in gen:\n",
    "        text = item['text']\n",
    "        if text != notext[key]:\n",
    "            for key_dct in item.keys():\n",
    "                file_.write('{}: {}\\n'.format(key_dct, item[key_dct]).encode('utf-8'))\n",
    "            file_.write('\\n'.encode('utf-8'))\n",
    "            \n",
    "    file_.close()"
   ]
  },
  {
   "cell_type": "markdown",
   "metadata": {},
   "source": [
    "# Create files for valid ratings of matched beers"
   ]
  },
  {
   "cell_type": "code",
   "execution_count": 37,
   "metadata": {
    "collapsed": true
   },
   "outputs": [],
   "source": [
    "df = pd.read_csv(data_folder + 'matched/beers.csv', header=[0,1])\n",
    "beer_ids = {'ba': np.array(df['ba']['beer_id']), 'rb': np.array(df['rb']['beer_id'])}"
   ]
  },
  {
   "cell_type": "code",
   "execution_count": 38,
   "metadata": {},
   "outputs": [
    {
     "name": "stdout",
     "output_type": "stream",
     "text": [
      "Parse BA ratings\n",
      "Parse RB ratings\n"
     ]
    }
   ],
   "source": [
    "for key in ['ba', 'rb']:\n",
    "    print('Parse {} ratings'.format(key.upper()))\n",
    "    gen = parse(data_folder + key + '/ratings_valid.txt.gz'.format(key))\n",
    "    \n",
    "    file_ = gzip.open(data_folder + 'matched/ratings_valid_{}.txt.gz'.format(key), 'wb')\n",
    "\n",
    "    for item in gen:\n",
    "        if int(item['beer_id']) in beer_ids[key]:\n",
    "            for key_dct in item.keys():\n",
    "                file_.write('{}: {}\\n'.format(key_dct, item[key_dct]).encode('utf-8'))\n",
    "            file_.write('\\n'.encode('utf-8'))\n",
    "            \n",
    "    file_.close()"
   ]
  },
  {
   "cell_type": "markdown",
   "metadata": {},
   "source": [
    "# Add the new number of ratings for the matched beers"
   ]
  },
  {
   "cell_type": "code",
   "execution_count": 46,
   "metadata": {},
   "outputs": [
    {
     "name": "stdout",
     "output_type": "stream",
     "text": [
      "Parse BA ratings\n",
      "Parse RB ratings\n"
     ]
    }
   ],
   "source": [
    "ratings = {'ba': {}, 'rb': {}}\n",
    "for key in ['ba', 'rb']:\n",
    "    print('Parse {} ratings'.format(key.upper()))\n",
    "    gen = parse(data_folder + 'matched/ratings_valid_{}.txt.gz'.format(key))\n",
    "    \n",
    "    for item in gen:\n",
    "        beer_id = int(item['beer_id'])\n",
    "        \n",
    "        if beer_id not in ratings[key].keys():\n",
    "            ratings[key][beer_id] = []\n",
    "        ratings[key][beer_id].append(float(item['rating']))"
   ]
  },
  {
   "cell_type": "code",
   "execution_count": 47,
   "metadata": {
    "collapsed": true
   },
   "outputs": [],
   "source": [
    "for key in ['ba', 'rb']:\n",
    "    df = pd.read_csv(data_folder + key + '/beers.csv')\n",
    "    \n",
    "    nbrs = []\n",
    "    avg = []\n",
    "    for i in df.index:\n",
    "        beer_id = df.iloc[i]['beer_id']\n",
    "        if beer_id not in ratings[key].keys():\n",
    "            nbrs.append(0)\n",
    "            avg.append(np.nan)\n",
    "        else:\n",
    "            nbrs.append(len(ratings[key][beer_id]))\n",
    "            avg.append(np.mean(ratings[key][beer_id]))\n",
    "                \n",
    "    df['nbr_matched_valid_ratings'] = nbrs\n",
    "    df['avg_matched_valid_ratings'] = avg\n",
    "\n",
    "    df.to_csv(data_folder + key + '/beers.csv', index=False)"
   ]
  },
  {
   "cell_type": "code",
   "execution_count": 48,
   "metadata": {},
   "outputs": [
    {
     "name": "stdout",
     "output_type": "stream",
     "text": [
      "Matching the beers\n"
     ]
    }
   ],
   "source": [
    "matcher = Matching()\n",
    "matcher.match_beers()"
   ]
  },
  {
   "cell_type": "code",
   "execution_count": null,
   "metadata": {
    "collapsed": true
   },
   "outputs": [],
   "source": []
  }
 ],
 "metadata": {
  "kernelspec": {
   "display_name": "Python 3",
   "language": "python",
   "name": "python3"
  },
  "language_info": {
   "codemirror_mode": {
    "name": "ipython",
    "version": 3
   },
   "file_extension": ".py",
   "mimetype": "text/x-python",
   "name": "python",
   "nbconvert_exporter": "python",
   "pygments_lexer": "ipython3",
   "version": "3.6.1"
  }
 },
 "nbformat": 4,
 "nbformat_minor": 2
}
