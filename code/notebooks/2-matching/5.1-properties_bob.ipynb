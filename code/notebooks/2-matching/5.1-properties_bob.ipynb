{
 "cells": [
  {
   "cell_type": "code",
   "execution_count": 1,
   "metadata": {
    "collapsed": true
   },
   "outputs": [],
   "source": [
    "import os\n",
    "os.chdir('../..')"
   ]
  },
  {
   "cell_type": "code",
   "execution_count": 2,
   "metadata": {
    "collapsed": true
   },
   "outputs": [],
   "source": [
    "from classes.matching import Matching\n",
    "from classes.helpers import *\n",
    "import numpy as np\n",
    "import json\n",
    "import pandas as pd\n",
    "from datetime import datetime\n",
    "import gzip\n",
    "\n",
    "import ast\n",
    "\n",
    "# For the Python notebook\n",
    "%matplotlib inline\n",
    "%reload_ext autoreload\n",
    "%autoreload 2\n",
    "\n",
    "data_folder = '../data/'"
   ]
  },
  {
   "cell_type": "code",
   "execution_count": 4,
   "metadata": {},
   "outputs": [],
   "source": [
    "ts = pd.read_csv(data_folder + 'tmp/time_series_5_valid.csv', header=[0,1])\n",
    "\n",
    "# Transform strings into arrays\n",
    "for i in ts.index:\n",
    "    for key1 in ['ba', 'rb']:\n",
    "        for key2 in ['dates', 'ratings', 'z_scores']:\n",
    "            arr = ast.literal_eval(ts.loc[i][key1][key2])\n",
    "            ts.set_value(i, (key1, key2), arr)\n",
    "\n",
    "df = pd.read_csv(data_folder + 'matched/beers.csv', header=[0,1])\n",
    "\n",
    "brews = {'ba': None, 'rb': None}\n",
    "brews['ba'] = pd.read_csv(data_folder + 'ba/breweries.csv')\n",
    "brews['rb'] = pd.read_csv(data_folder + 'rb/breweries.csv')"
   ]
  },
  {
   "cell_type": "code",
   "execution_count": 5,
   "metadata": {
    "collapsed": true
   },
   "outputs": [],
   "source": [
    "diffs = {'ba': [], 'rb': []}\n",
    "for i in ts.index:\n",
    "    row = ts.iloc[i]\n",
    "    for key in ['rb', 'ba']:\n",
    "        diffs[key].append(row[key]['z_scores'][0])\n",
    "        \n",
    "thresholds = {}\n",
    "for key in ['ba', 'rb']:\n",
    "    thresholds[key] = {}\n",
    "    thresholds[key]['low'] = np.percentile(diffs[key], 15)\n",
    "    thresholds[key]['high'] = np.percentile(diffs[key], 85)\n",
    "    \n",
    "for key in ['ba', 'rb']:\n",
    "    tmp = []\n",
    "    nbr_rats = []\n",
    "    \n",
    "    for i in ts.index:      \n",
    "        if diffs[key][i] > thresholds[key]['high']:\n",
    "            tmp.append('H')\n",
    "        elif diffs[key][i] >= thresholds[key]['low']:\n",
    "            tmp.append('M')\n",
    "        else:\n",
    "            tmp.append('L')\n",
    "            \n",
    "        nbr_rats.append(len(ts.loc[i][key]['ratings']))\n",
    "\n",
    "    ts.loc[:, ((key, 'class'))] = tmp\n",
    "    ts.loc[:, ((key, 'nbr_ratings'))] = nbr_rats"
   ]
  },
  {
   "cell_type": "code",
   "execution_count": 6,
   "metadata": {
    "collapsed": true
   },
   "outputs": [],
   "source": [
    "dfs = {'ba': None, 'rb': None}\n",
    "\n",
    "for key in dfs.keys():\n",
    "    dfs[key] = ts[key][['beer_id', 'class']]\n",
    "\n",
    "    dfs[key]['style'] = np.array(df[df[key]['beer_id'].isin(dfs[key]['beer_id'])][key]['style'])\n",
    "    dfs[key]['brewery_name'] = np.array(df[df[key]['beer_id'].isin(dfs[key]['beer_id'])][key]['brewery_name'])\n",
    "\n",
    "    locations = []\n",
    "    for i in dfs[key].index:\n",
    "        brew_name = dfs[key].loc[i]['brewery_name']\n",
    "\n",
    "        subdf = brews[key][brews[key]['name'] == brew_name]['location']\n",
    "\n",
    "        loc = subdf.loc[subdf.index[0]]\n",
    "\n",
    "        if 'United States' in loc:\n",
    "            loc = 'United States'\n",
    "\n",
    "        locations.append(loc)\n",
    "\n",
    "    dfs[key]['location'] = locations\n",
    "    \n",
    "dfs['rb']['style'] = dfs['ba']['style']"
   ]
  },
  {
   "cell_type": "markdown",
   "metadata": {},
   "source": [
    "# Style"
   ]
  },
  {
   "cell_type": "code",
   "execution_count": 37,
   "metadata": {
    "collapsed": true
   },
   "outputs": [],
   "source": [
    "styles = dfs['ba']['style'].unique()"
   ]
  },
  {
   "cell_type": "code",
   "execution_count": 38,
   "metadata": {},
   "outputs": [],
   "source": [
    "df_json = {}\n",
    "\n",
    "classes = ['H-L', 'H-M', 'L-M']\n",
    "\n",
    "for cl in classes:\n",
    "    df_json[cl] = []\n",
    "    df_json[cl[::-1]] = []"
   ]
  },
  {
   "cell_type": "code",
   "execution_count": 39,
   "metadata": {},
   "outputs": [],
   "source": [
    "for cl in classes:\n",
    "    idx1 = np.array((dfs['ba']['class'] == cl[0]) & (dfs['rb']['class'] == cl[-1]))\n",
    "    subdf1 = dfs['ba'][idx1]\n",
    "    subdf1.index = range(len(subdf1))\n",
    "    \n",
    "    idx2 = np.array((dfs['ba']['class'] == cl[-1]) & (dfs['rb']['class'] == cl[0]))\n",
    "    subdf2 = dfs['ba'][idx2]\n",
    "    subdf2.index = range(len(subdf2))\n",
    "\n",
    "    \n",
    "    nbr = min(len(subdf1), len(subdf2))\n",
    "    \n",
    "    subdf1 = subdf1.loc[np.random.choice(range(len(subdf1)), nbr, replace=False)]\n",
    "    subdf1.index = range(nbr)\n",
    "    \n",
    "    subdf2 = subdf2.loc[np.random.choice(range(len(subdf2)), nbr, replace=False)]\n",
    "    subdf2.index = range(nbr)    \n",
    "    \n",
    "    df_json[cl].append(nbr)\n",
    "    df_json[cl[::-1]].append(nbr)\n",
    "\n",
    "    for s in styles:\n",
    "        subsubdf1 = subdf1[subdf1['style'] == s]\n",
    "        df_json[cl].append(len(subsubdf1))\n",
    "        \n",
    "        subsubdf2 = subdf2[subdf2['style'] == s]\n",
    "        df_json[cl[::-1]].append(len(subsubdf2))"
   ]
  },
  {
   "cell_type": "code",
   "execution_count": 40,
   "metadata": {
    "collapsed": true
   },
   "outputs": [],
   "source": [
    "styles = np.insert(styles, 0, 'Total')\n",
    "df_json['styles'] = styles"
   ]
  },
  {
   "cell_type": "code",
   "execution_count": 42,
   "metadata": {},
   "outputs": [],
   "source": [
    "df_styles = pd.DataFrame.from_dict(df_json)"
   ]
  },
  {
   "cell_type": "code",
   "execution_count": 44,
   "metadata": {
    "collapsed": true
   },
   "outputs": [],
   "source": [
    "df_styles.to_csv(data_folder + 'tmp/styles_5.csv', index=False)"
   ]
  },
  {
   "cell_type": "markdown",
   "metadata": {},
   "source": [
    "# Country"
   ]
  },
  {
   "cell_type": "code",
   "execution_count": 51,
   "metadata": {
    "collapsed": true
   },
   "outputs": [],
   "source": [
    "countries = dfs['ba']['location'].unique()"
   ]
  },
  {
   "cell_type": "code",
   "execution_count": 52,
   "metadata": {
    "collapsed": true
   },
   "outputs": [],
   "source": [
    "df_json = {}\n",
    "\n",
    "classes = ['H-L', 'H-M', 'L-M']\n",
    "\n",
    "for cl in classes:\n",
    "    df_json[cl] = []\n",
    "    df_json[cl[::-1]] = []"
   ]
  },
  {
   "cell_type": "code",
   "execution_count": 53,
   "metadata": {},
   "outputs": [],
   "source": [
    "for cl in classes:\n",
    "    idx1 = np.array((dfs['ba']['class'] == cl[0]) & (dfs['rb']['class'] == cl[-1]))\n",
    "    subdf1 = dfs['ba'][idx1]\n",
    "    subdf1.index = range(len(subdf1))\n",
    "    \n",
    "    idx2 = np.array((dfs['ba']['class'] == cl[-1]) & (dfs['rb']['class'] == cl[0]))\n",
    "    subdf2 = dfs['ba'][idx2]\n",
    "    subdf2.index = range(len(subdf2))\n",
    "\n",
    "    \n",
    "    nbr = min(len(subdf1), len(subdf2))\n",
    "    \n",
    "    subdf1 = subdf1.loc[np.random.choice(range(len(subdf1)), nbr, replace=False)]\n",
    "    subdf1.index = range(nbr)\n",
    "    \n",
    "    subdf2 = subdf2.loc[np.random.choice(range(len(subdf2)), nbr, replace=False)]\n",
    "    subdf2.index = range(nbr)    \n",
    "    \n",
    "    df_json[cl].append(nbr)\n",
    "    df_json[cl[::-1]].append(nbr)\n",
    "\n",
    "    for c in countries:\n",
    "        subsubdf1 = subdf1[subdf1['location'] == c]\n",
    "        df_json[cl].append(len(subsubdf1))\n",
    "        \n",
    "        subsubdf2 = subdf2[subdf2['location'] == c]\n",
    "        df_json[cl[::-1]].append(len(subsubdf2))"
   ]
  },
  {
   "cell_type": "code",
   "execution_count": 54,
   "metadata": {
    "collapsed": true
   },
   "outputs": [],
   "source": [
    "countries = np.insert(countries, 0, 'Total')\n",
    "df_json['countries'] = countries\n"
   ]
  },
  {
   "cell_type": "code",
   "execution_count": 55,
   "metadata": {
    "collapsed": true
   },
   "outputs": [],
   "source": [
    "df_countries = pd.DataFrame.from_dict(df_json)"
   ]
  },
  {
   "cell_type": "code",
   "execution_count": 58,
   "metadata": {
    "collapsed": true
   },
   "outputs": [],
   "source": [
    "df_countries.to_csv(data_folder + 'tmp/countries_5.csv', index=False)"
   ]
  }
 ],
 "metadata": {
  "kernelspec": {
   "display_name": "Python 3",
   "language": "python",
   "name": "python3"
  },
  "language_info": {
   "codemirror_mode": {
    "name": "ipython",
    "version": 3
   },
   "file_extension": ".py",
   "mimetype": "text/x-python",
   "name": "python",
   "nbconvert_exporter": "python",
   "pygments_lexer": "ipython3",
   "version": "3.6.1"
  }
 },
 "nbformat": 4,
 "nbformat_minor": 2
}
