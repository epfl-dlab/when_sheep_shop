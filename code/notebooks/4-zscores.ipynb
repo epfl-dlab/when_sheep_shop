{
 "cells": [
  {
   "cell_type": "markdown",
   "metadata": {},
   "source": [
    "# Zscores\n",
    "\n",
    "In this notebook, we plot **Figures 4(a) and 4(b)**. To do so, we need to transform the ratings into zscore. Once again, we need to parse the ratings per year. \n",
    "\n",
    "*No requirement is needed to run this notebook.*\n",
    "\n",
    "**Benchmark time**: This notebook has been run on a Dell Latitude (ElementaryOS 0.4.1 Loki, i7-7600U, 16GB RAM)."
   ]
  },
  {
   "cell_type": "code",
   "execution_count": 1,
   "metadata": {
    "collapsed": true
   },
   "outputs": [],
   "source": [
    "import os\n",
    "os.chdir('..')"
   ]
  },
  {
   "cell_type": "code",
   "execution_count": 2,
   "metadata": {
    "collapsed": true
   },
   "outputs": [],
   "source": [
    "# Helpers functions\n",
    "from python.helpers import parse\n",
    "\n",
    "# Libraries for preparing data\n",
    "import json\n",
    "import gzip\n",
    "import numpy as np\n",
    "import pandas as pd\n",
    "from datetime import datetime\n",
    "\n",
    "# Libraries for plotting\n",
    "import seaborn as sns\n",
    "import matplotlib.pyplot as plt\n",
    "from matplotlib.ticker import FuncFormatter\n",
    "import matplotlib\n",
    "\n",
    "# Folders\n",
    "data_folder = '../data/'\n",
    "fig_folder = '../figures/'\n",
    "\n",
    "# For the Python notebook\n",
    "%matplotlib inline\n",
    "%reload_ext autoreload\n",
    "%autoreload 2\n",
    "\n",
    "# General info for plotting\n",
    "colors = {'ba': (232/255,164/255,29/255), \n",
    "          'rb': (0/255,152/255,205/255)}\n",
    "\n",
    "labels = {'ba': 'BeerAdvocate', 'rb': 'RateBeer'}\n",
    "\n",
    "# Check that folders exist\n",
    "if not os.path.exists(data_folder + 'tmp'):\n",
    "    os.makedirs(data_folder + 'tmp')\n",
    "\n",
    "if not os.path.exists(data_folder + 'prepared'):\n",
    "    os.makedirs(data_folder + 'prepared')\n",
    "    \n",
    "if not os.path.exists(fig_folder):\n",
    "    os.makedirs(fig_folder)"
   ]
  },
  {
   "cell_type": "markdown",
   "metadata": {},
   "source": [
    "## Get the ratings for the matched beers\n",
    "\n",
    "In the next cell, we compute the ratings for the matched beers only. This is done in order to speed up the process a little bit."
   ]
  },
  {
   "cell_type": "code",
   "execution_count": 3,
   "metadata": {},
   "outputs": [
    {
     "name": "stdout",
     "output_type": "stream",
     "text": [
      "Parse BA ratings\n",
      "Parse RB ratings\n",
      "CPU times: user 19min 26s, sys: 2.61 s, total: 19min 29s\n",
      "Wall time: 19min 31s\n"
     ]
    }
   ],
   "source": [
    "%%time\n",
    "\n",
    "# Load DF of matched beers\n",
    "df = pd.read_csv(data_folder + 'matched/beers.csv', header=[0,1])\n",
    "# Get the ids\n",
    "beer_ids = {'ba': np.array(df['ba']['beer_id']), 'rb': np.array(df['rb']['beer_id'])}\n",
    "\n",
    "# Go through BA and RB\n",
    "for key in ['ba', 'rb']:\n",
    "    print('Parse {} ratings'.format(key.upper()))\n",
    "    \n",
    "    # Get iterator\n",
    "    gen = parse(data_folder + key + '/ratings.txt.gz'.format(key))\n",
    "    \n",
    "    # Open the new gzip file\n",
    "    file_ = gzip.open(data_folder + 'matched/ratings_{}.txt.gz'.format(key), 'wb')\n",
    "\n",
    "    # Go through iterator\n",
    "    for item in gen:\n",
    "        # Check if the beer corresponds to a matched beers\n",
    "        if int(item['beer_id']) in beer_ids[key]:\n",
    "            # If yes, add it to the new gzip file\n",
    "            for key_dct in item.keys():\n",
    "                file_.write('{}: {}\\n'.format(key_dct, item[key_dct]).encode('utf-8'))\n",
    "            file_.write('\\n'.encode('utf-8'))\n",
    "            \n",
    "    file_.close()"
   ]
  },
  {
   "cell_type": "code",
   "execution_count": 4,
   "metadata": {},
   "outputs": [
    {
     "name": "stdout",
     "output_type": "stream",
     "text": [
      "Parsing BA reviews.\n",
      "Parsing RB reviews.\n",
      "CPU times: user 1min 33s, sys: 524 ms, total: 1min 33s\n",
      "Wall time: 1min 34s\n"
     ]
    }
   ],
   "source": [
    "%%time\n",
    "\n",
    "# Get the ratings for every year for both BA and RB\n",
    "ratings_year = {'ba': {}, 'rb': {}}\n",
    "\n",
    "# Go through RB and BA\n",
    "for key in ratings_year.keys():\n",
    "    print('Parsing {} reviews.'.format(key.upper()))\n",
    "    \n",
    "    # Get the iterator\n",
    "    gen = parse(data_folder + '/matched/ratings_{}.txt.gz'.format(key))\n",
    "    \n",
    "    # Go through the iterator\n",
    "    for item in gen:\n",
    "        \n",
    "        # Get the data and then the year\n",
    "        date = int(item['date'])\n",
    "        year = datetime.fromtimestamp(date).year\n",
    "                        \n",
    "        if year not in ratings_year[key].keys():\n",
    "            ratings_year[key][year] = []\n",
    "        \n",
    "        # Add the rating in the correct year\n",
    "        ratings_year[key][year].append(float(item['rating']))\n",
    "        \n",
    "with open(data_folder + 'tmp/rating_per_year_matched.json', 'w') as outfile:\n",
    "    json.dump(ratings_year, outfile)"
   ]
  },
  {
   "cell_type": "markdown",
   "metadata": {},
   "source": [
    "## Compute the zscores\n",
    "\n",
    "First, we need to get the parameters for the zscores (mean and std). The zscore is defined as:\n",
    "\n",
    "\\begin{equation}\n",
    "z = \\frac{x - \\bar{x}_y}{\\sigma_y}\n",
    "\\end{equation}\n",
    "where $x$ is the rating, $\\bar{x}_y$ is the average rating for the year $y$, and $\\sigma_y$ is the std for the year $y$. The year $y$ corresponds to the year in which the rating $x$ was given."
   ]
  },
  {
   "cell_type": "code",
   "execution_count": 5,
   "metadata": {},
   "outputs": [
    {
     "name": "stdout",
     "output_type": "stream",
     "text": [
      "CPU times: user 444 ms, sys: 8 ms, total: 452 ms\n",
      "Wall time: 450 ms\n"
     ]
    }
   ],
   "source": [
    "%%time\n",
    "\n",
    "# Get the file rating_per_year from notebook 3\n",
    "with open(data_folder + 'tmp/rating_per_year_matched.json', 'r') as infile:\n",
    "    ratings_year = json.load(infile)\n",
    "\n",
    "# Prepare the dict of mean and std per year to compute the zscore\n",
    "z_score_params = {}\n",
    "\n",
    "# Go through BA and RB\n",
    "for key in ratings_year.keys():\n",
    "    z_score_params[key] = {}\n",
    "    # Go through each year\n",
    "    for y in ratings_year[key].keys():\n",
    "        # Add the average and STD\n",
    "        z_score_params[key][y] = {'mean': np.mean(ratings_year[key][y]), 'std': np.std(ratings_year[key][y])}\n",
    "        if z_score_params[key][y]['std'] == 0:\n",
    "            z_score_params[key][y]['std'] = 1\n",
    "            \n",
    "# Fill some missing years\n",
    "z_score_params['ba'][1996] = {'mean': 0, 'std': 1}\n",
    "z_score_params['ba'][1997] = {'mean': 0, 'std': 1}\n",
    "\n",
    "# And save the file\n",
    "with open(data_folder + 'tmp/z_score_params_matched_ratings.json', 'w') as file:\n",
    "    json.dump(z_score_params, file)"
   ]
  },
  {
   "cell_type": "code",
   "execution_count": 6,
   "metadata": {},
   "outputs": [
    {
     "name": "stdout",
     "output_type": "stream",
     "text": [
      "Parsing BA reviews.\n",
      "Parsing RB reviews.\n",
      "CPU times: user 1min 38s, sys: 508 ms, total: 1min 38s\n",
      "Wall time: 1min 38s\n"
     ]
    }
   ],
   "source": [
    "%%time\n",
    "\n",
    "with open('../data/tmp/z_score_params_matched_ratings.json') as file:\n",
    "    z_score_params = json.load(file)\n",
    "    \n",
    "# Prepare the dict with zscores for ba and rb\n",
    "zscore = {'ba': [], 'rb': []}\n",
    "\n",
    "# Beers zscore\n",
    "beers_zscore = {}\n",
    "\n",
    "# Go through BA and RB\n",
    "for key in zscore.keys():\n",
    "    \n",
    "    beers_zscore[key] = {}\n",
    "    \n",
    "    print('Parsing {} reviews.'.format(key.upper()))\n",
    "    \n",
    "    # Get the iterator with the ratings fo the matched beers\n",
    "    gen = parse(data_folder + 'matched/ratings_{}.txt.gz'.format(key))\n",
    "    \n",
    "    # Go through the iterator\n",
    "    for item in gen:\n",
    "        \n",
    "        # Get the year\n",
    "        date = int(item['date'])\n",
    "        year = str(datetime.fromtimestamp(date).year)\n",
    "        \n",
    "        # Get the rating\n",
    "        rat = float(item['rating'])\n",
    "        \n",
    "        # Compute its zscore based on the year\n",
    "        zs = (rat-z_score_params[key][year]['mean'])/z_score_params[key][year]['std']\n",
    "        zscore[key].append(zs)\n",
    "        \n",
    "        # get the beer id\n",
    "        beer_id = int(item['beer_id'])\n",
    "        \n",
    "        # Add it to the dict if needed\n",
    "        if beer_id not in beers_zscore[key].keys():\n",
    "            beers_zscore[key][beer_id] = []\n",
    "            \n",
    "        # Add the zscore to the beer with corresponding id             \n",
    "        beers_zscore[key][beer_id].append(zs)\n",
    "        \n",
    "# Save the file\n",
    "with open(data_folder + 'prepared/zscore_matched.json', 'w') as outfile:\n",
    "    json.dump(zscore, outfile)"
   ]
  },
  {
   "cell_type": "code",
   "execution_count": 7,
   "metadata": {},
   "outputs": [
    {
     "name": "stdout",
     "output_type": "stream",
     "text": [
      "CPU times: user 41.9 s, sys: 148 ms, total: 42.1 s\n",
      "Wall time: 42.1 s\n"
     ]
    }
   ],
   "source": [
    "%%time\n",
    "\n",
    "# Compute avg zscore for each beer\n",
    "beers_avg_zscore = {}\n",
    "for key in beers_zscore.keys():\n",
    "    beers_avg_zscore[key] = {}\n",
    "    for id_ in beers_zscore[key].keys():\n",
    "        beers_avg_zscore[key][id_] = np.mean(beers_zscore[key][id_])\n",
    "\n",
    "# Add the zscores to the matched beers\n",
    "df = pd.read_csv(data_folder + 'matched/beers.csv', header=[0,1])\n",
    "\n",
    "# Go through RB and BA\n",
    "for key in ['ba', 'rb']:\n",
    "    \n",
    "    zscores = []\n",
    "    nbr_ratings = []\n",
    "    # Go through all matched beers\n",
    "    for i in df.index:\n",
    "        row = df.iloc[i][key]\n",
    "        \n",
    "        # Get the id\n",
    "        beer_id = int(row['beer_id'])\n",
    "        \n",
    "        # append the avg zscore\n",
    "        if beer_id not in beers_avg_zscore[key].keys():\n",
    "            zscores.append(np.nan)\n",
    "            nbr_ratings.append(0)\n",
    "        else:\n",
    "            zscores.append(beers_avg_zscore[key][beer_id])\n",
    "            nbr_ratings.append(len(beers_zscore[key][beer_id]))\n",
    "            \n",
    "    # Add the column                \n",
    "    df.loc[:, (key, 'zscore')] = zscores\n",
    "    df.loc[:, (key, 'nbr_ratings')] = nbr_ratings\n",
    "\n",
    "# Save again\n",
    "df.to_csv(data_folder + 'matched/beers.csv', index=False)"
   ]
  },
  {
   "cell_type": "markdown",
   "metadata": {},
   "source": [
    "## Plot the zscores for the ratings of the matched beers\n",
    "\n",
    "The next cell plots Figure 4(a)."
   ]
  },
  {
   "cell_type": "code",
   "execution_count": 8,
   "metadata": {},
   "outputs": [
    {
     "data": {
      "image/png": "[encoded data removed]",
      "text/plain": [
       "<matplotlib.figure.Figure at 0x7f2b544c4c88>"
      ]
     },
     "metadata": {},
     "output_type": "display_data"
    }
   ],
   "source": [
    "with open(data_folder + 'prepared/zscore_matched.json', 'r') as infile:\n",
    "    zscore = json.load(infile)\n",
    "\n",
    "years = list(range(2001, 2018))\n",
    "x = np.array(range(len(years)))\n",
    "\n",
    "plt.figure(figsize=(5, 3), frameon=False)\n",
    "\n",
    "sns.set_context(\"paper\")\n",
    "sns.set(font_scale = 1.1)\n",
    "sns.set_style(\"white\", {\n",
    "    \"font.family\": \"sans-serif\",\n",
    "    \"font.serif\": ['Helvetica'],\n",
    "    \"font.scale\": 2\n",
    "})\n",
    "sns.set_style(\"ticks\", {\"xtick.major.size\": 4,\n",
    "                        \"ytick.major.size\": 4})\n",
    "\n",
    "\n",
    "ax = plt.subplot(111)\n",
    "ax.spines['right'].set_visible(False)\n",
    "ax.spines['top'].set_visible(False)\n",
    "\n",
    "nbr_bins = 45\n",
    "\n",
    "bin_edges = {'ba': None, 'rb': None}\n",
    "hist = {'ba': None, 'rb': None}\n",
    "\n",
    "for key in bin_edges.keys():\n",
    "    a, bin_edges[key] = np.histogram(zscore[key], range=(-7, 3), bins=nbr_bins)\n",
    "    hist[key], a = np.histogram(zscore[key], range=(-7, 3), bins=nbr_bins+1)\n",
    "    hist[key] = hist[key]/np.sum(hist[key])*100\n",
    "    \n",
    "for key in hist.keys():\n",
    "    width = bin_edges[key][1] - bin_edges[key][0]\n",
    "    plt.bar(bin_edges[key], hist[key], width = width, \n",
    "            facecolor=colors[key], edgecolor='grey', alpha=0.5, \n",
    "            label=labels[key])\n",
    "    \n",
    "plt.ylabel('Percentage')\n",
    "plt.xlabel('Rating (standardized)')\n",
    "\n",
    "plt.xlim([-6.1, 3.5])\n",
    "\n",
    "leg = plt.legend()\n",
    "leg.get_frame().set_linewidth(0.0)\n",
    "\n",
    "plt.savefig(fig_folder + 'zscore_matched_beers.pdf', bbox_inches='tight')"
   ]
  },
  {
   "cell_type": "markdown",
   "metadata": {},
   "source": [
    "# Hexagon plot\n",
    "\n",
    "The next cell plots Figure 4(b)."
   ]
  },
  {
   "cell_type": "code",
   "execution_count": 9,
   "metadata": {},
   "outputs": [
    {
     "data": {
      "image/png": "[encoded data removed]",
      "text/plain": [
       "<matplotlib.figure.Figure at 0x7f2b0a306cc0>"
      ]
     },
     "metadata": {},
     "output_type": "display_data"
    }
   ],
   "source": [
    "# Load files    \n",
    "df = pd.read_csv(data_folder + 'matched/beers.csv', header=[0,1])\n",
    "\n",
    "# params\n",
    "min_nbr_ratings = 5\n",
    "df = df[(df['ba']['nbr_ratings'] >= min_nbr_ratings) & (df['rb']['nbr_ratings'] >= min_nbr_ratings)]\n",
    "df.index = range(len(df))\n",
    "\n",
    "idx = df[df['ba']['beer_id'] == 78599].index[0]\n",
    "\n",
    "ticks = [0, 1, 2, 3, 5, 10, 20, 30, 50, 100, 176]\n",
    "log_ticks = []\n",
    "for t in ticks:\n",
    "    log_ticks.append(np.log10(t+1))\n",
    "    \n",
    "key = 'zscore'\n",
    "\n",
    "plt.figure(figsize=(4, 3), frameon=False)\n",
    "\n",
    "sns.set_context(\"paper\")\n",
    "sns.set(font_scale = 1.1)\n",
    "sns.set_style(\"white\", {\n",
    "    \"font.family\": \"sans-serif\",\n",
    "    \"font.serif\": ['Helvetica'],\n",
    "    \"font.scale\": 2\n",
    "})\n",
    "sns.set_style(\"ticks\", {\"xtick.major.size\": 4,\n",
    "                        \"ytick.major.size\": 4})\n",
    "\n",
    "\n",
    "ax = plt.subplot(111)\n",
    "ax.spines['right'].set_visible(False)\n",
    "ax.spines['top'].set_visible(False)\n",
    "\n",
    "hb = ax.hexbin(df['rb'][key], df['ba'][key], gridsize=50, bins='log', cmap='Greys')\n",
    "ax.plot([-5, 2], [-5, 2], 'red', linewidth=0.8)\n",
    "\n",
    "ax.axis([-5, 2, -5, 2])\n",
    "plt.xticks(list(range(-5, 3)), list(range(-5, 3)))\n",
    "\n",
    "plt.xlabel('RateBeer')\n",
    "plt.ylabel('BeerAdvocate')\n",
    "\n",
    "cb = plt.colorbar(hb, ax=ax, ticks=log_ticks)\n",
    "cb.ax.set_yticklabels(ticks)\n",
    "ax.set_facecolor('white')\n",
    "row = df.loc[idx]\n",
    "name = row['rb']['beer_name']\n",
    "x = row['rb'][key]\n",
    "y = row['ba'][key]\n",
    "\n",
    "plt.plot([x], [y], 'x', color='r', mew=2, ms=6)\n",
    "\n",
    "plt.arrow(-0.5, -4, x+0.35, 2.6, linewidth=1, head_width=0.2, head_length=0.5, fc='k', ec='k')\n",
    "\n",
    "plt.text(-0.5, -4.7, name, horizontalalignment='center', verticalalignment='bottom')\n",
    "\n",
    "plt.savefig(fig_folder + 'hexhist_zscores_example.pdf', bbox_inches='tight')"
   ]
  }
 ],
 "metadata": {
  "kernelspec": {
   "display_name": "Python 3",
   "language": "python",
   "name": "python3"
  },
  "language_info": {
   "codemirror_mode": {
    "name": "ipython",
    "version": 3
   },
   "file_extension": ".py",
   "mimetype": "text/x-python",
   "name": "python",
   "nbconvert_exporter": "python",
   "pygments_lexer": "ipython3",
   "version": "3.6.1"
  }
 },
 "nbformat": 4,
 "nbformat_minor": 2
}
