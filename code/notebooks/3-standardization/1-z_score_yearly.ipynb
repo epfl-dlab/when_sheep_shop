{
 "cells": [
  {
   "cell_type": "code",
   "execution_count": 1,
   "metadata": {
    "collapsed": true
   },
   "outputs": [],
   "source": [
    "import os\n",
    "os.chdir('../..')"
   ]
  },
  {
   "cell_type": "code",
   "execution_count": 25,
   "metadata": {
    "collapsed": true
   },
   "outputs": [],
   "source": [
    "from classes.matching import Matching\n",
    "\n",
    "import numpy as np\n",
    "import json\n",
    "import pandas as pd\n",
    "from datetime import datetime\n",
    "import time\n",
    "\n",
    "from classes.helpers import *\n",
    "\n",
    "import matplotlib.pyplot as plt\n",
    "from matplotlib.ticker import FuncFormatter\n",
    "import matplotlib\n",
    "matplotlib.rcParams['text.usetex'] = True\n",
    "matplotlib.rcParams['text.latex.unicode'] = True\n",
    "\n",
    "# For the Python notebook\n",
    "%matplotlib inline\n",
    "%reload_ext autoreload\n",
    "%autoreload 2\n",
    "\n",
    "colors = {'ba': 'b', 'rb': 'r'}\n",
    "labels = {'ba': 'BeerAdvocate', 'rb': 'RateBeer'}\n",
    "data_folder = '../data/'"
   ]
  },
  {
   "cell_type": "markdown",
   "metadata": {},
   "source": [
    "# Compute yearly z-score"
   ]
  },
  {
   "cell_type": "code",
   "execution_count": 4,
   "metadata": {
    "scrolled": false
   },
   "outputs": [
    {
     "name": "stdout",
     "output_type": "stream",
     "text": [
      "Parsing BA reviews.\n",
      "Parsing RB reviews.\n"
     ]
    }
   ],
   "source": [
    "ratings_year = {'ba': {}, 'rb': {}}\n",
    "\n",
    "for key in ratings_year.keys():\n",
    "    print('Parsing {} reviews.'.format(key.upper()))\n",
    "    \n",
    "    gen = parse(data_folder + 'matched/ratings_valid_{}.txt.gz'.format(key))\n",
    "    \n",
    "    for item in gen:\n",
    "        \n",
    "        date = int(item['date'])\n",
    "        year = datetime.fromtimestamp(date).year\n",
    "                        \n",
    "        if year not in ratings_year[key].keys():\n",
    "            ratings_year[key][year] = []\n",
    "\n",
    "        ratings_year[key][year].append(float(item['rating']))"
   ]
  },
  {
   "cell_type": "code",
   "execution_count": 7,
   "metadata": {
    "collapsed": true
   },
   "outputs": [],
   "source": [
    "z_score_params = {}\n",
    "for key in ratings_year.keys():\n",
    "    z_score_params[key] = {}\n",
    "    for y in ratings_year[key].keys():\n",
    "        z_score_params[key][y] = {'mean': np.mean(ratings_year[key][y]), 'std': np.std(ratings_year[key][y])}\n",
    "        if z_score_params[key][y]['std'] == 0:\n",
    "            z_score_params[key][y]['std'] = 1"
   ]
  },
  {
   "cell_type": "code",
   "execution_count": 8,
   "metadata": {},
   "outputs": [
    {
     "data": {
      "text/plain": [
       "{'ba': {1998: {'mean': 3.5414285714285714, 'std': 0.39306228410224436},\n",
       "  1999: {'mean': 3.8199999999999998, 'std': 1},\n",
       "  2000: {'mean': 4.1583333333333332, 'std': 0.34854060818727511},\n",
       "  2001: {'mean': 3.9546788990825688, 'std': 0.72756167973006391},\n",
       "  2002: {'mean': 3.8784154175588865, 'std': 0.60714628480635691},\n",
       "  2003: {'mean': 3.7894457334364531, 'std': 0.60914985795998122},\n",
       "  2004: {'mean': 3.8282890743550833, 'std': 0.57276238221581977},\n",
       "  2005: {'mean': 3.80431905465288, 'std': 0.59223581958814531},\n",
       "  2006: {'mean': 3.7975972062962575, 'std': 0.56910643506455871},\n",
       "  2007: {'mean': 3.7664698588325072, 'std': 0.57135464656499546},\n",
       "  2008: {'mean': 3.7865986599867205, 'std': 0.55611775233044702},\n",
       "  2009: {'mean': 3.814592780044415, 'std': 0.54427965051782634},\n",
       "  2010: {'mean': 3.7957398297471876, 'std': 0.56789588629931675},\n",
       "  2011: {'mean': 3.7816656211826074, 'std': 0.56547850863009608},\n",
       "  2012: {'mean': 3.7985583533679188, 'std': 0.55289319233838563},\n",
       "  2013: {'mean': 3.8453536457621711, 'std': 0.53128223941153419},\n",
       "  2014: {'mean': 3.8790431623931623, 'std': 0.56986661643771541},\n",
       "  2015: {'mean': 3.9187781846717242, 'std': 0.61676117804677455},\n",
       "  2016: {'mean': 3.9666697537116891, 'std': 0.52168258976937898},\n",
       "  2017: {'mean': 3.9829039497307002, 'std': 0.49174323633691491}},\n",
       " 'rb': {2000: {'mean': 3.7160919540229882, 'std': 0.66425544927330882},\n",
       "  2001: {'mean': 3.4613877551020407, 'std': 0.84664217476745174},\n",
       "  2002: {'mean': 3.3689055574497102, 'std': 0.76084816984191694},\n",
       "  2003: {'mean': 3.3287176938369774, 'std': 0.69992994950904286},\n",
       "  2004: {'mean': 3.3158768756301522, 'std': 0.69355697496864377},\n",
       "  2005: {'mean': 3.2597569097569097, 'std': 0.67244146956052819},\n",
       "  2006: {'mean': 3.2789471798179606, 'std': 0.66422386615922835},\n",
       "  2007: {'mean': 3.2885895662081879, 'std': 0.64024613027877486},\n",
       "  2008: {'mean': 3.2896865196583551, 'std': 0.61909082483371081},\n",
       "  2009: {'mean': 3.313926895799236, 'std': 0.59550511011444329},\n",
       "  2010: {'mean': 3.332183861414256, 'std': 0.59830173816128407},\n",
       "  2011: {'mean': 3.3419803681792644, 'std': 0.59340066783815004},\n",
       "  2012: {'mean': 3.3857926528599607, 'std': 0.59244416543423306},\n",
       "  2013: {'mean': 3.4006376608364453, 'std': 0.57780107118219759},\n",
       "  2014: {'mean': 3.4095094167679223, 'std': 0.56130646501127246},\n",
       "  2015: {'mean': 3.4240861997513474, 'std': 0.54170882408482146},\n",
       "  2016: {'mean': 3.4744345751563506, 'std': 0.51870167838303061},\n",
       "  2017: {'mean': 3.5122039443369273, 'std': 0.51502303146998973}}}"
      ]
     },
     "execution_count": 8,
     "metadata": {},
     "output_type": "execute_result"
    }
   ],
   "source": [
    "z_score_params"
   ]
  },
  {
   "cell_type": "code",
   "execution_count": 9,
   "metadata": {
    "collapsed": true
   },
   "outputs": [],
   "source": [
    "z_score_params['ba'][1996] = {'mean': 0, 'std': 1}\n",
    "z_score_params['ba'][1997] = {'mean': 0, 'std': 1}"
   ]
  },
  {
   "cell_type": "code",
   "execution_count": 15,
   "metadata": {
    "collapsed": true
   },
   "outputs": [],
   "source": [
    "with open(data_folder + 'tmp/z_score_params_matched.json', 'w') as file:\n",
    "    json.dump(z_score_params, file)"
   ]
  },
  {
   "cell_type": "markdown",
   "metadata": {},
   "source": [
    "## Histogram of z-score "
   ]
  },
  {
   "cell_type": "code",
   "execution_count": 11,
   "metadata": {},
   "outputs": [
    {
     "name": "stdout",
     "output_type": "stream",
     "text": [
      "Parsing BA reviews.\n",
      "Parsing RB reviews.\n"
     ]
    }
   ],
   "source": [
    "zscore = {'ba': [], 'rb': []}\n",
    "\n",
    "for key in ratings_year.keys():\n",
    "    print('Parsing {} reviews.'.format(key.upper()))\n",
    "    \n",
    "    gen = parse(data_folder + 'matched/ratings_valid_{}.txt.gz'.format(key))\n",
    "    \n",
    "    for item in gen:\n",
    "        \n",
    "        date = int(item['date'])\n",
    "        year = datetime.fromtimestamp(date).year\n",
    "        \n",
    "        rat = float(item['rating'])\n",
    "                        \n",
    "        zscore[key].append((rat-z_score_params[key][year]['mean'])/z_score_params[key][year]['std'])"
   ]
  },
  {
   "cell_type": "code",
   "execution_count": 13,
   "metadata": {},
   "outputs": [
    {
     "name": "stdout",
     "output_type": "stream",
     "text": [
      "-6.06597860288\n",
      "2.94112297766\n"
     ]
    }
   ],
   "source": [
    "print(min(np.min(zscore['ba']), np.min(zscore['rb'])))\n",
    "print(max(np.max(zscore['ba']), np.max(zscore['rb'])))"
   ]
  },
  {
   "cell_type": "code",
   "execution_count": 14,
   "metadata": {},
   "outputs": [
    {
     "data": {
      "text/plain": [
       "<matplotlib.text.Text at 0x7f554515d358>"
      ]
     },
     "execution_count": 14,
     "metadata": {},
     "output_type": "execute_result"
    },
    {
     "data": {
      "image/png": "[encoded data removed]",
      "text/plain": [
       "<matplotlib.figure.Figure at 0x7f5545145978>"
      ]
     },
     "metadata": {},
     "output_type": "display_data"
    }
   ],
   "source": [
    "nbr_bins = 45\n",
    "\n",
    "bin_edges = {'ba': None, 'rb': None}\n",
    "hist = {'ba': None, 'rb': None}\n",
    "\n",
    "for key in colors.keys():\n",
    "    a, bin_edges[key] = np.histogram(zscore[key], range=(-6, 3), bins=nbr_bins)\n",
    "    hist[key], a = np.histogram(zscore[key], range=(-6, 3), bins=nbr_bins+1)\n",
    "    hist[key] = hist[key]/np.sum(hist[key])*100\n",
    "    \n",
    "plt.figure(figsize=(12,7))\n",
    "plt.rc('font', family='serif')\n",
    "plt.rc('font', size=17)\n",
    "\n",
    "for key in hist.keys():\n",
    "    width = bin_edges[key][1] - bin_edges[key][0]\n",
    "    plt.bar(bin_edges[key], hist[key], width = width, facecolor=colors[key], edgecolor='k', alpha=0.7, label=labels[key])\n",
    "    \n",
    "plt.grid()\n",
    "plt.legend()\n",
    "plt.ylabel('Percentage')\n",
    "plt.xlabel('Ratings')"
   ]
  },
  {
   "cell_type": "markdown",
   "metadata": {},
   "source": [
    "## On the average of the beers"
   ]
  },
  {
   "cell_type": "code",
   "execution_count": 16,
   "metadata": {},
   "outputs": [
    {
     "name": "stdout",
     "output_type": "stream",
     "text": [
      "Parsing BA reviews.\n",
      "Parsing RB reviews.\n"
     ]
    },
    {
     "ename": "NameError",
     "evalue": "name 'z_score_avg' is not defined",
     "output_type": "error",
     "traceback": [
      "\u001b[0;31m---------------------------------------------------------------------------\u001b[0m",
      "\u001b[0;31mNameError\u001b[0m                                 Traceback (most recent call last)",
      "\u001b[0;32m<ipython-input-16-734d59ba6f22>\u001b[0m in \u001b[0;36m<module>\u001b[0;34m()\u001b[0m\n\u001b[1;32m     24\u001b[0m \u001b[0;32mfor\u001b[0m \u001b[0mkey\u001b[0m \u001b[0;32min\u001b[0m \u001b[0mzscore_avg\u001b[0m\u001b[0;34m.\u001b[0m\u001b[0mkeys\u001b[0m\u001b[0;34m(\u001b[0m\u001b[0;34m)\u001b[0m\u001b[0;34m:\u001b[0m\u001b[0;34m\u001b[0m\u001b[0m\n\u001b[1;32m     25\u001b[0m     \u001b[0;32mfor\u001b[0m \u001b[0mid_\u001b[0m \u001b[0;32min\u001b[0m \u001b[0mzscore\u001b[0m\u001b[0;34m[\u001b[0m\u001b[0mkey\u001b[0m\u001b[0;34m]\u001b[0m\u001b[0;34m:\u001b[0m\u001b[0;34m\u001b[0m\u001b[0m\n\u001b[0;32m---> 26\u001b[0;31m         \u001b[0mz_score_avg\u001b[0m\u001b[0;34m[\u001b[0m\u001b[0mkey\u001b[0m\u001b[0;34m]\u001b[0m\u001b[0;34m.\u001b[0m\u001b[0mappend\u001b[0m\u001b[0;34m(\u001b[0m\u001b[0mnp\u001b[0m\u001b[0;34m.\u001b[0m\u001b[0mmean\u001b[0m\u001b[0;34m(\u001b[0m\u001b[0mzscore\u001b[0m\u001b[0;34m[\u001b[0m\u001b[0mkey\u001b[0m\u001b[0;34m]\u001b[0m\u001b[0;34m[\u001b[0m\u001b[0mid_\u001b[0m\u001b[0;34m]\u001b[0m\u001b[0;34m)\u001b[0m\u001b[0;34m)\u001b[0m\u001b[0;34m\u001b[0m\u001b[0m\n\u001b[0m",
      "\u001b[0;31mNameError\u001b[0m: name 'z_score_avg' is not defined"
     ]
    }
   ],
   "source": [
    "zscore = {'ba': {}, 'rb': {}}\n",
    "\n",
    "for key in zscore.keys():\n",
    "    print('Parsing {} reviews.'.format(key.upper()))\n",
    "    \n",
    "    gen = parse(data_folder + 'matched/ratings_valid_{}.txt.gz'.format(key))\n",
    "    \n",
    "    for item in gen:\n",
    "        \n",
    "        date = int(item['date'])\n",
    "        year = datetime.fromtimestamp(date).year\n",
    "        \n",
    "        beer_id = int(item['beer_id'])\n",
    "        \n",
    "        rat = float(item['rating'])\n",
    "        \n",
    "        if beer_id not in zscore[key].keys():\n",
    "            zscore[key][beer_id] = []\n",
    "            \n",
    "        zscore[key][beer_id].append((rat-z_score_params[key][year]['mean'])/z_score_params[key][year]['std'])\n",
    "        \n",
    "zscore_avg = {'ba': [], 'rb': []}\n",
    "\n",
    "for key in zscore_avg.keys():\n",
    "    for id_ in zscore[key]:\n",
    "        zscore_avg[key].append(np.mean(zscore[key][id_]))"
   ]
  },
  {
   "cell_type": "code",
   "execution_count": 18,
   "metadata": {},
   "outputs": [
    {
     "name": "stdout",
     "output_type": "stream",
     "text": [
      "-6.06597860288\n",
      "2.94112297766\n"
     ]
    }
   ],
   "source": [
    "print(min(np.min(zscore_avg['ba']), np.min(zscore_avg['rb'])))\n",
    "print(max(np.max(zscore_avg['ba']), np.max(zscore_avg['rb'])))"
   ]
  },
  {
   "cell_type": "code",
   "execution_count": 19,
   "metadata": {},
   "outputs": [
    {
     "data": {
      "text/plain": [
       "<matplotlib.text.Text at 0x7f5544be0cf8>"
      ]
     },
     "execution_count": 19,
     "metadata": {},
     "output_type": "execute_result"
    },
    {
     "data": {
      "image/png": "[encoded data removed]",
      "text/plain": [
       "<matplotlib.figure.Figure at 0x7f5544c92c18>"
      ]
     },
     "metadata": {},
     "output_type": "display_data"
    }
   ],
   "source": [
    "nbr_bins = 45\n",
    "\n",
    "bin_edges = {'ba': None, 'rb': None}\n",
    "hist = {'ba': None, 'rb': None}\n",
    "\n",
    "for key in colors.keys():\n",
    "    a, bin_edges[key] = np.histogram(zscore_avg[key], range=(-6, 3), bins=nbr_bins)\n",
    "    hist[key], a = np.histogram(zscore_avg[key], range=(-6, 3), bins=nbr_bins+1)\n",
    "    hist[key] = hist[key]/np.sum(hist[key])*100\n",
    "    \n",
    "plt.figure(figsize=(12,7))\n",
    "plt.rc('font', family='serif')\n",
    "plt.rc('font', size=17)\n",
    "\n",
    "for key in hist.keys():\n",
    "    width = bin_edges[key][1] - bin_edges[key][0]\n",
    "    plt.bar(bin_edges[key], hist[key], width = width, facecolor=colors[key], edgecolor='k', alpha=0.7, label=labels[key])\n",
    "    \n",
    "plt.grid()\n",
    "plt.legend()\n",
    "plt.ylabel('Percentage')\n",
    "plt.xlabel('Ratings')"
   ]
  },
  {
   "cell_type": "markdown",
   "metadata": {},
   "source": [
    "# Add z-score to beers"
   ]
  },
  {
   "cell_type": "code",
   "execution_count": 22,
   "metadata": {
    "collapsed": true
   },
   "outputs": [],
   "source": [
    "with open('../data/tmp/z_score_params_matched.json') as file:\n",
    "    z_score_params = json.load(file)"
   ]
  },
  {
   "cell_type": "code",
   "execution_count": 23,
   "metadata": {},
   "outputs": [
    {
     "name": "stdout",
     "output_type": "stream",
     "text": [
      "Parse ratings from BA\n",
      "Parse ratings from RB\n"
     ]
    }
   ],
   "source": [
    "beers_zscore = {}\n",
    "for key in ['ba', 'rb']:\n",
    "    \n",
    "    beers_zscore[key] = {}\n",
    "    \n",
    "    print('Parse ratings from {}'.format(key.upper()))\n",
    "\n",
    "    # Get the generator\n",
    "    gen = parse(data_folder + 'matched/ratings_valid_{}.txt.gz'.format(key))\n",
    "    \n",
    "    for item in gen:\n",
    "        beer_id = int(item['beer_id'])\n",
    "        \n",
    "        if beer_id not in beers_zscore[key].keys():\n",
    "            beers_zscore[key][beer_id] = []\n",
    "            \n",
    "        rat = float(item['rating'])\n",
    "            \n",
    "        year = time.strftime('%Y', time.localtime(int(item['date'])))\n",
    "        zscore = (rat-z_score_params[key][year]['mean'])/(z_score_params[key][year]['std'])\n",
    "            \n",
    "        beers_zscore[key][beer_id].append(zscore)"
   ]
  },
  {
   "cell_type": "code",
   "execution_count": 24,
   "metadata": {},
   "outputs": [],
   "source": [
    "for key in ['ba', 'rb']:\n",
    "    ratings = []\n",
    "    \n",
    "    df = pd.read_csv('../data/{}/beers.csv'.format(key))\n",
    "    \n",
    "    for i in df.index:\n",
    "        row = df.iloc[i]\n",
    "        \n",
    "        beer_id = int(row['beer_id'])\n",
    "        \n",
    "        if beer_id not in beers_zscore[key].keys():\n",
    "            ratings.append(np.nan)\n",
    "        else:\n",
    "            ratings.append(np.mean(beers_zscore[key][beer_id]))\n",
    "                        \n",
    "    df.loc[:, 'zscore'] = ratings\n",
    "    \n",
    "    df.to_csv('../data/{}/beers.csv'.format(key), index=False)"
   ]
  },
  {
   "cell_type": "code",
   "execution_count": 41,
   "metadata": {},
   "outputs": [
    {
     "name": "stdout",
     "output_type": "stream",
     "text": [
      "Matching the beers\n"
     ]
    }
   ],
   "source": [
    "matcher = Matching()\n",
    "matcher.match_beers()"
   ]
  },
  {
   "cell_type": "code",
   "execution_count": null,
   "metadata": {
    "collapsed": true
   },
   "outputs": [],
   "source": []
  }
 ],
 "metadata": {
  "kernelspec": {
   "display_name": "Python 3",
   "language": "python",
   "name": "python3"
  },
  "language_info": {
   "codemirror_mode": {
    "name": "ipython",
    "version": 3
   },
   "file_extension": ".py",
   "mimetype": "text/x-python",
   "name": "python",
   "nbconvert_exporter": "python",
   "pygments_lexer": "ipython3",
   "version": "3.6.1"
  }
 },
 "nbformat": 4,
 "nbformat_minor": 2
}
