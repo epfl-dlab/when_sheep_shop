{
 "cells": [
  {
   "cell_type": "code",
   "execution_count": 1,
   "metadata": {
    "collapsed": true
   },
   "outputs": [],
   "source": [
    "import os\n",
    "os.chdir('../..')"
   ]
  },
  {
   "cell_type": "code",
   "execution_count": 6,
   "metadata": {
    "collapsed": true
   },
   "outputs": [],
   "source": [
    "from classes.matching import Matching\n",
    "\n",
    "import numpy as np\n",
    "import json\n",
    "import pandas as pd\n",
    "from datetime import datetime\n",
    "import time\n",
    "\n",
    "from classes.helpers import *\n",
    "\n",
    "import matplotlib.pyplot as plt\n",
    "from matplotlib.ticker import FuncFormatter\n",
    "import matplotlib\n",
    "matplotlib.rcParams['text.usetex'] = True\n",
    "matplotlib.rcParams['text.latex.unicode'] = True\n",
    "\n",
    "# For the Python notebook\n",
    "%matplotlib inline\n",
    "%reload_ext autoreload\n",
    "%autoreload 2\n",
    "\n",
    "colors = {'ba': (232/255,164/255,29/255), 'rb': (0/255,152/255,205/255)}\n",
    "labels = {'ba': 'BeerAdvocate', 'rb': 'RateBeer'}\n",
    "\n",
    "notext = {'ba': 'nan', 'rb': ''}\n",
    "\n",
    "data_folder = '../data/'\n",
    "save_folder = '../figures/all/3-standardization/'"
   ]
  },
  {
   "cell_type": "markdown",
   "metadata": {},
   "source": [
    "# Compute yearly z-score"
   ]
  },
  {
   "cell_type": "code",
   "execution_count": 3,
   "metadata": {
    "scrolled": false
   },
   "outputs": [
    {
     "name": "stdout",
     "output_type": "stream",
     "text": [
      "Parsing BA reviews.\n",
      "Parsing RB reviews.\n"
     ]
    }
   ],
   "source": [
    "ratings_year = {'ba': {}, 'rb': {}}\n",
    "\n",
    "for key in ratings_year.keys():\n",
    "    print('Parsing {} reviews.'.format(key.upper()))\n",
    "    \n",
    "    gen = parse(data_folder + 'matched/ratings_{}.txt.gz'.format(key))\n",
    "    \n",
    "    for item in gen:\n",
    "        \n",
    "        date = int(item['date'])\n",
    "        year = datetime.fromtimestamp(date).year\n",
    "                        \n",
    "        if year not in ratings_year[key].keys():\n",
    "            ratings_year[key][year] = []\n",
    "\n",
    "        ratings_year[key][year].append(float(item['rating']))"
   ]
  },
  {
   "cell_type": "code",
   "execution_count": 4,
   "metadata": {
    "collapsed": true
   },
   "outputs": [],
   "source": [
    "z_score_params = {}\n",
    "for key in ratings_year.keys():\n",
    "    z_score_params[key] = {}\n",
    "    for y in ratings_year[key].keys():\n",
    "        z_score_params[key][y] = {'mean': np.mean(ratings_year[key][y]), 'std': np.std(ratings_year[key][y])}\n",
    "        if z_score_params[key][y]['std'] == 0:\n",
    "            z_score_params[key][y]['std'] = 1"
   ]
  },
  {
   "cell_type": "code",
   "execution_count": 5,
   "metadata": {},
   "outputs": [
    {
     "data": {
      "text/plain": [
       "{'ba': {1998: {'mean': 3.5414285714285714, 'std': 0.39306228410224436},\n",
       "  1999: {'mean': 3.8199999999999998, 'std': 1},\n",
       "  2000: {'mean': 4.1583333333333332, 'std': 0.34854060818727511},\n",
       "  2001: {'mean': 3.9546788990825688, 'std': 0.72756167973006391},\n",
       "  2002: {'mean': 3.8784154175588865, 'std': 0.60714628480635691},\n",
       "  2003: {'mean': 3.7894457334364531, 'std': 0.60914985795998122},\n",
       "  2004: {'mean': 3.8282890743550833, 'std': 0.57276238221581977},\n",
       "  2005: {'mean': 3.80431905465288, 'std': 0.59223581958814531},\n",
       "  2006: {'mean': 3.7975972062962575, 'std': 0.56910643506455871},\n",
       "  2007: {'mean': 3.7664698588325072, 'std': 0.57135464656499546},\n",
       "  2008: {'mean': 3.7865197971994204, 'std': 0.55619360273815999},\n",
       "  2009: {'mean': 3.814592780044415, 'std': 0.54427965051782634},\n",
       "  2010: {'mean': 3.7957496043457803, 'std': 0.5678871603994663},\n",
       "  2011: {'mean': 3.8883646732429105, 'std': 0.6319186835115248},\n",
       "  2012: {'mean': 3.8220877093386325, 'std': 0.6352226355048306},\n",
       "  2013: {'mean': 3.8669186640831206, 'std': 0.57017073675152219},\n",
       "  2014: {'mean': 3.8999331960841972, 'std': 0.5770975316336735},\n",
       "  2015: {'mean': 3.9583575601613581, 'std': 0.50518105969801574},\n",
       "  2016: {'mean': 3.9803075425113885, 'std': 0.4725756823001046},\n",
       "  2017: {'mean': 4.0023655351780345, 'std': 0.45109664121474236}},\n",
       " 'rb': {2000: {'mean': 3.7160919540229882, 'std': 0.66425544927330882},\n",
       "  2001: {'mean': 3.4613877551020407, 'std': 0.84664217476745174},\n",
       "  2002: {'mean': 3.3689055574497102, 'std': 0.76084816984191694},\n",
       "  2003: {'mean': 3.3287347182188642, 'std': 0.69989724727289615},\n",
       "  2004: {'mean': 3.3158768756301522, 'std': 0.69355697496864377},\n",
       "  2005: {'mean': 3.2597569097569097, 'std': 0.67244146956052819},\n",
       "  2006: {'mean': 3.2789471798179606, 'std': 0.66422386615922835},\n",
       "  2007: {'mean': 3.2885895662081879, 'std': 0.64024613027877486},\n",
       "  2008: {'mean': 3.2896865196583551, 'std': 0.61909082483371081},\n",
       "  2009: {'mean': 3.3139022846793376, 'std': 0.59550605819456515},\n",
       "  2010: {'mean': 3.332183861414256, 'std': 0.59830173816128407},\n",
       "  2011: {'mean': 3.3419803681792644, 'std': 0.59340066783815004},\n",
       "  2012: {'mean': 3.3858538809409389, 'std': 0.59245291717999238},\n",
       "  2013: {'mean': 3.4006556445118203, 'std': 0.57780702338141232},\n",
       "  2014: {'mean': 3.4095094167679223, 'std': 0.56130646501127246},\n",
       "  2015: {'mean': 3.4240861997513474, 'std': 0.54170882408482146},\n",
       "  2016: {'mean': 3.4744345751563506, 'std': 0.51870167838303061},\n",
       "  2017: {'mean': 3.5122039443369273, 'std': 0.51502303146998973}}}"
      ]
     },
     "execution_count": 5,
     "metadata": {},
     "output_type": "execute_result"
    }
   ],
   "source": [
    "z_score_params"
   ]
  },
  {
   "cell_type": "code",
   "execution_count": 7,
   "metadata": {
    "collapsed": true
   },
   "outputs": [],
   "source": [
    "z_score_params['ba'][1996] = {'mean': 0, 'std': 1}\n",
    "z_score_params['ba'][1997] = {'mean': 0, 'std': 1}"
   ]
  },
  {
   "cell_type": "code",
   "execution_count": 8,
   "metadata": {
    "collapsed": true
   },
   "outputs": [],
   "source": [
    "with open(data_folder + 'tmp/z_score_params_matched_ratings.json', 'w') as file:\n",
    "    json.dump(z_score_params, file)"
   ]
  },
  {
   "cell_type": "markdown",
   "metadata": {},
   "source": [
    "# Add zscore to beers"
   ]
  },
  {
   "cell_type": "code",
   "execution_count": 21,
   "metadata": {
    "collapsed": true
   },
   "outputs": [],
   "source": [
    "with open('../data/tmp/z_score_params_matched_ratings.json') as file:\n",
    "    z_score_params = json.load(file)"
   ]
  },
  {
   "cell_type": "code",
   "execution_count": null,
   "metadata": {
    "collapsed": true
   },
   "outputs": [],
   "source": [
    "beers_zscore = {}\n",
    "for key in ['ba', 'rb']:\n",
    "    \n",
    "    beers_zscore[key] = {}\n",
    "    \n",
    "    print('Parse ratings from {}'.format(key.upper()))\n",
    "\n",
    "    # Get the generator\n",
    "    gen = parse(data_folder + 'matched/ratings_{}.txt.gz'.format(key))\n",
    "    \n",
    "    for item in gen:\n",
    "        beer_id = int(item['beer_id'])\n",
    "        \n",
    "        if beer_id not in beers_zscore[key].keys():\n",
    "            beers_zscore[key][beer_id] = []\n",
    "            \n",
    "        rat = float(item['rating'])\n",
    "            \n",
    "        year = time.strftime('%Y', time.localtime(int(item['date'])))\n",
    "        zscore = (rat-z_score_params[key][year]['mean'])/(z_score_params[key][year]['std'])\n",
    "            \n",
    "        beers_zscore[key][beer_id].append(zscore)"
   ]
  },
  {
   "cell_type": "code",
   "execution_count": 23,
   "metadata": {
    "collapsed": true
   },
   "outputs": [],
   "source": [
    "beers_avg_zscore = {}\n",
    "for key in beers_zscore.keys():\n",
    "    beers_avg_zscore[key] = {}\n",
    "    for id_ in beers_zscore[key].keys():\n",
    "        beers_avg_zscore[key][id_] = np.mean(beers_zscore[key][id_])"
   ]
  },
  {
   "cell_type": "code",
   "execution_count": 24,
   "metadata": {
    "collapsed": true
   },
   "outputs": [],
   "source": [
    "for key in ['ba', 'rb']:\n",
    "    ratings = []\n",
    "    \n",
    "    df = pd.read_csv('../data/{}/beers.csv'.format(key))\n",
    "    \n",
    "    for i in df.index:\n",
    "        row = df.iloc[i]\n",
    "        \n",
    "        beer_id = int(row['beer_id'])\n",
    "        \n",
    "        if beer_id not in beers_avg_zscore[key].keys():\n",
    "            ratings.append(np.nan)\n",
    "        else:\n",
    "            ratings.append(beers_avg_zscore[key][beer_id])\n",
    "                        \n",
    "    df.loc[:, 'zscore'] = ratings\n",
    "    \n",
    "    df.to_csv('../data/{}/beers.csv'.format(key), index=False)"
   ]
  },
  {
   "cell_type": "code",
   "execution_count": 32,
   "metadata": {},
   "outputs": [],
   "source": [
    "df = pd.read_csv('../data/matched/beers.csv', header=[0,1])\n",
    "\n",
    "for key in ['ba', 'rb']:\n",
    "    \n",
    "    zscores = []\n",
    "    for i in df.index:\n",
    "        row = df.iloc[i][key]\n",
    "        \n",
    "        beer_id = int(row['beer_id'])\n",
    "        \n",
    "        if beer_id not in beers_avg_zscore[key].keys():\n",
    "            zscores.append(np.nan)\n",
    "        else:\n",
    "            zscores.append(beers_avg_zscore[key][beer_id])\n",
    "                        \n",
    "    df.loc[:, (key, 'zscore')] = zscores\n",
    "\n",
    "df.to_csv('../data/matched/beers.csv', index=False)"
   ]
  },
  {
   "cell_type": "markdown",
   "metadata": {},
   "source": [
    "## Histogram of z-score "
   ]
  },
  {
   "cell_type": "code",
   "execution_count": 9,
   "metadata": {},
   "outputs": [
    {
     "name": "stdout",
     "output_type": "stream",
     "text": [
      "Parsing BA reviews.\n",
      "Parsing RB reviews.\n"
     ]
    }
   ],
   "source": [
    "zscore = {'ba': [], 'rb': []}\n",
    "\n",
    "for key in ratings_year.keys():\n",
    "    print('Parsing {} reviews.'.format(key.upper()))\n",
    "    \n",
    "    gen = parse(data_folder + 'matched/ratings_{}.txt.gz'.format(key))\n",
    "    \n",
    "    for item in gen:\n",
    "        \n",
    "        date = int(item['date'])\n",
    "        year = datetime.fromtimestamp(date).year\n",
    "        \n",
    "        rat = float(item['rating'])\n",
    "                        \n",
    "        zscore[key].append((rat-z_score_params[key][year]['mean'])/z_score_params[key][year]['std'])"
   ]
  },
  {
   "cell_type": "code",
   "execution_count": 10,
   "metadata": {},
   "outputs": [
    {
     "name": "stdout",
     "output_type": "stream",
     "text": [
      "-6.65570359179\n",
      "2.94112297766\n"
     ]
    }
   ],
   "source": [
    "print(min(np.min(zscore['ba']), np.min(zscore['rb'])))\n",
    "print(max(np.max(zscore['ba']), np.max(zscore['rb'])))"
   ]
  },
  {
   "cell_type": "code",
   "execution_count": 12,
   "metadata": {},
   "outputs": [
    {
     "data": {
      "image/png": "[encoded data removed]",
      "text/plain": [
       "<matplotlib.figure.Figure at 0x7f4cd81a3908>"
      ]
     },
     "metadata": {},
     "output_type": "display_data"
    }
   ],
   "source": [
    "nbr_bins = 45\n",
    "\n",
    "bin_edges = {'ba': None, 'rb': None}\n",
    "hist = {'ba': None, 'rb': None}\n",
    "\n",
    "for key in colors.keys():\n",
    "    a, bin_edges[key] = np.histogram(zscore[key], range=(-7, 3), bins=nbr_bins)\n",
    "    hist[key], a = np.histogram(zscore[key], range=(-7, 3), bins=nbr_bins+1)\n",
    "    hist[key] = hist[key]/np.sum(hist[key])*100\n",
    "    \n",
    "plt.figure(figsize=(12,7))\n",
    "plt.rc('font', family='serif')\n",
    "plt.rc('font', size=17)\n",
    "\n",
    "for key in hist.keys():\n",
    "    width = bin_edges[key][1] - bin_edges[key][0]\n",
    "    plt.bar(bin_edges[key], hist[key], width = width, facecolor=colors[key], edgecolor='k', alpha=0.7, label=labels[key])\n",
    "    \n",
    "plt.grid()\n",
    "plt.legend()\n",
    "plt.ylabel('Percentage')\n",
    "plt.xlabel('Ratings')\n",
    "\n",
    "plt.savefig(save_folder + 'zscore_matched_beers.pdf', bbox_inches='tight')"
   ]
  },
  {
   "cell_type": "markdown",
   "metadata": {},
   "source": [
    "## On the average of the beers"
   ]
  },
  {
   "cell_type": "code",
   "execution_count": 13,
   "metadata": {},
   "outputs": [
    {
     "name": "stdout",
     "output_type": "stream",
     "text": [
      "Parsing BA reviews.\n",
      "Parsing RB reviews.\n"
     ]
    }
   ],
   "source": [
    "zscore = {'ba': {}, 'rb': {}}\n",
    "\n",
    "for key in zscore.keys():\n",
    "    print('Parsing {} reviews.'.format(key.upper()))\n",
    "    \n",
    "    gen = parse(data_folder + 'matched/ratings_{}.txt.gz'.format(key))\n",
    "    \n",
    "    for item in gen:\n",
    "        \n",
    "        date = int(item['date'])\n",
    "        year = datetime.fromtimestamp(date).year\n",
    "        \n",
    "        beer_id = int(item['beer_id'])\n",
    "        \n",
    "        rat = float(item['rating'])\n",
    "        \n",
    "        if beer_id not in zscore[key].keys():\n",
    "            zscore[key][beer_id] = []\n",
    "            \n",
    "        zscore[key][beer_id].append((rat-z_score_params[key][year]['mean'])/z_score_params[key][year]['std'])\n",
    "        \n",
    "zscore_avg = {'ba': [], 'rb': []}\n",
    "\n",
    "for key in zscore_avg.keys():\n",
    "    for id_ in zscore[key]:\n",
    "        zscore_avg[key].append(np.mean(zscore[key][id_]))"
   ]
  },
  {
   "cell_type": "code",
   "execution_count": 14,
   "metadata": {},
   "outputs": [
    {
     "name": "stdout",
     "output_type": "stream",
     "text": [
      "-6.65570359179\n",
      "2.94112297766\n"
     ]
    }
   ],
   "source": [
    "print(min(np.min(zscore_avg['ba']), np.min(zscore_avg['rb'])))\n",
    "print(max(np.max(zscore_avg['ba']), np.max(zscore_avg['rb'])))"
   ]
  },
  {
   "cell_type": "code",
   "execution_count": 16,
   "metadata": {},
   "outputs": [
    {
     "data": {
      "image/png": "[encoded data removed]",
      "text/plain": [
       "<matplotlib.figure.Figure at 0x7f4cd7dfb4a8>"
      ]
     },
     "metadata": {},
     "output_type": "display_data"
    }
   ],
   "source": [
    "nbr_bins = 45\n",
    "\n",
    "bin_edges = {'ba': None, 'rb': None}\n",
    "hist = {'ba': None, 'rb': None}\n",
    "\n",
    "for key in colors.keys():\n",
    "    a, bin_edges[key] = np.histogram(zscore_avg[key], range=(-6, 3), bins=nbr_bins)\n",
    "    hist[key], a = np.histogram(zscore_avg[key], range=(-6, 3), bins=nbr_bins+1)\n",
    "    hist[key] = hist[key]/np.sum(hist[key])*100\n",
    "    \n",
    "plt.figure(figsize=(12,7))\n",
    "plt.rc('font', family='serif')\n",
    "plt.rc('font', size=17)\n",
    "\n",
    "for key in hist.keys():\n",
    "    width = bin_edges[key][1] - bin_edges[key][0]\n",
    "    plt.bar(bin_edges[key], hist[key], width = width, facecolor=colors[key], edgecolor='k', alpha=0.7, label=labels[key])\n",
    "    \n",
    "plt.grid()\n",
    "plt.legend()\n",
    "plt.ylabel('Percentage')\n",
    "plt.xlabel('Ratings')\n",
    "\n",
    "plt.savefig(save_folder + 'avg_zscore_matched_beers.pdf', bbox_inches='tight')"
   ]
  },
  {
   "cell_type": "markdown",
   "metadata": {},
   "source": [
    "# Boxplots"
   ]
  },
  {
   "cell_type": "code",
   "execution_count": 37,
   "metadata": {},
   "outputs": [
    {
     "name": "stdout",
     "output_type": "stream",
     "text": [
      "Parsing BA reviews.\n",
      "Parsing RB reviews.\n"
     ]
    }
   ],
   "source": [
    "with open('../data/tmp/z_score_params_matched_ratings.json') as file:\n",
    "    z_score_params = json.load(file)\n",
    "\n",
    "zscore = {'ba': [], 'rb': []}\n",
    "ratings = {'ba': [], 'rb': []}\n",
    "\n",
    "for key in ratings.keys():\n",
    "    print('Parsing {} reviews.'.format(key.upper()))\n",
    "    \n",
    "    gen = parse(data_folder + 'matched/ratings_{}.txt.gz'.format(key))\n",
    "    \n",
    "    for item in gen:\n",
    "        \n",
    "        date = int(item['date'])\n",
    "        year = str(datetime.fromtimestamp(date).year)\n",
    "        \n",
    "        rat = float(item['rating'])\n",
    "                     \n",
    "        ratings[key].append(rat)\n",
    "        zscore[key].append((rat-z_score_params[key][year]['mean'])/z_score_params[key][year]['std'])"
   ]
  },
  {
   "cell_type": "code",
   "execution_count": 51,
   "metadata": {},
   "outputs": [
    {
     "data": {
      "text/plain": [
       "<matplotlib.figure.Figure at 0x7f4cbefff860>"
      ]
     },
     "metadata": {},
     "output_type": "display_data"
    },
    {
     "data": {
      "image/png": "[encoded data removed]",
      "text/plain": [
       "<matplotlib.figure.Figure at 0x7f4cbefff7f0>"
      ]
     },
     "metadata": {},
     "output_type": "display_data"
    }
   ],
   "source": [
    "plt.figure(figsize=(12,7))\n",
    "plt.rc('font', family='serif')\n",
    "plt.rc('font', size=17)\n",
    "\n",
    "fig, ax1 = plt.subplots(figsize=(12,7))\n",
    "\n",
    "data_rat = [ratings['ba'], ratings['rb'], [], []]\n",
    "data_z = [[], [], zscore['ba'], zscore['rb']]\n",
    "\n",
    "for i in range(1, 6):\n",
    "    ax1.plot([0.5, 2.5], [i, i], 'k', linewidth=0.5, alpha=0.3)\n",
    "\n",
    "ax1.boxplot(data_rat, showmeans=True, meanline=True)\n",
    "ax1.axis([0.5, 4.5, 0, 5.5])\n",
    "ax1.plot([2.5, 2.5], [0, 5.5], 'k--')\n",
    "\n",
    "ax1.set_ylabel('Ratings')\n",
    "\n",
    "ax2 = ax1.twinx()\n",
    "ax2.boxplot(data_z, showmeans=True, meanline=True)\n",
    "ax2.set_ylabel('Z-score')\n",
    "\n",
    "for i in range(-6, 4, 2):\n",
    "    ax2.plot([2.5, 4.5], [i, i], 'k', linewidth=0.5, alpha=0.3)\n",
    "\n",
    "plt.xticks([1, 2, 3, 4], ['BA', 'RB', 'BA', 'RB'])\n",
    "\n",
    "plt.savefig(save_folder + 'zscore_versur_ratings.pdf', bbox_inches='tight')"
   ]
  },
  {
   "cell_type": "code",
   "execution_count": null,
   "metadata": {
    "collapsed": true
   },
   "outputs": [],
   "source": []
  }
 ],
 "metadata": {
  "kernelspec": {
   "display_name": "Python 3",
   "language": "python",
   "name": "python3"
  },
  "language_info": {
   "codemirror_mode": {
    "name": "ipython",
    "version": 3
   },
   "file_extension": ".py",
   "mimetype": "text/x-python",
   "name": "python",
   "nbconvert_exporter": "python",
   "pygments_lexer": "ipython3",
   "version": "3.6.1"
  }
 },
 "nbformat": 4,
 "nbformat_minor": 2
}
